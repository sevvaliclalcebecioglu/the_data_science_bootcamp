{
 "cells": [
  {
   "cell_type": "markdown",
   "id": "5cd6c6cc-0ff8-43c6-9cd2-60136300e1f9",
   "metadata": {},
   "source": [
    "# _Deep Learning - Artificial Neural Networks / Derin Öğrenme - Yapay Sinir Ağları_"
   ]
  },
  {
   "cell_type": "markdown",
   "id": "9266bb7e-c62f-4709-9171-b5603a60dc42",
   "metadata": {},
   "source": [
    "Bugün insan beyninin öğrenme modelini taklit ederek öğrenen yapay sinir ağlarını derinlemesini öğreneceğiz."
   ]
  },
  {
   "cell_type": "markdown",
   "id": "1619c4d4-d43f-46d6-8489-6310cef80246",
   "metadata": {
    "jp-MarkdownHeadingCollapsed": true
   },
   "source": [
    "#### _Classification_"
   ]
  },
  {
   "cell_type": "markdown",
   "id": "a626c9c4-6397-45f1-82d6-08dc45d594ab",
   "metadata": {},
   "source": [
    "_Cevabu evet hayır olan sorular = classifition_"
   ]
  },
  {
   "cell_type": "code",
   "execution_count": 2,
   "id": "76f87073-6898-441d-a79a-54a101d034cd",
   "metadata": {},
   "outputs": [],
   "source": [
    "import pandas as pd"
   ]
  },
  {
   "cell_type": "code",
   "execution_count": 3,
   "id": "b5d78bea-2e64-45bf-b4ed-4c8571812722",
   "metadata": {},
   "outputs": [],
   "source": [
    "df=pd.read_csv('pima-indians-diabetes.csv')"
   ]
  },
  {
   "cell_type": "code",
   "execution_count": 4,
   "id": "56fd2658-c80b-49a6-be37-9ec1c937020e",
   "metadata": {
    "scrolled": true
   },
   "outputs": [
    {
     "data": {
      "text/html": [
       "<div>\n",
       "<style scoped>\n",
       "    .dataframe tbody tr th:only-of-type {\n",
       "        vertical-align: middle;\n",
       "    }\n",
       "\n",
       "    .dataframe tbody tr th {\n",
       "        vertical-align: top;\n",
       "    }\n",
       "\n",
       "    .dataframe thead th {\n",
       "        text-align: right;\n",
       "    }\n",
       "</style>\n",
       "<table border=\"1\" class=\"dataframe\">\n",
       "  <thead>\n",
       "    <tr style=\"text-align: right;\">\n",
       "      <th></th>\n",
       "      <th>Pregnancies</th>\n",
       "      <th>Glucose</th>\n",
       "      <th>BloodPressure</th>\n",
       "      <th>SkinThickness</th>\n",
       "      <th>Insulin</th>\n",
       "      <th>BMI</th>\n",
       "      <th>DiabetesPedigreeFunction</th>\n",
       "      <th>Age</th>\n",
       "      <th>Outcome</th>\n",
       "    </tr>\n",
       "  </thead>\n",
       "  <tbody>\n",
       "    <tr>\n",
       "      <th>0</th>\n",
       "      <td>6</td>\n",
       "      <td>148</td>\n",
       "      <td>72</td>\n",
       "      <td>35</td>\n",
       "      <td>0</td>\n",
       "      <td>33.6</td>\n",
       "      <td>0.627</td>\n",
       "      <td>50</td>\n",
       "      <td>1</td>\n",
       "    </tr>\n",
       "    <tr>\n",
       "      <th>1</th>\n",
       "      <td>1</td>\n",
       "      <td>85</td>\n",
       "      <td>66</td>\n",
       "      <td>29</td>\n",
       "      <td>0</td>\n",
       "      <td>26.6</td>\n",
       "      <td>0.351</td>\n",
       "      <td>31</td>\n",
       "      <td>0</td>\n",
       "    </tr>\n",
       "    <tr>\n",
       "      <th>2</th>\n",
       "      <td>8</td>\n",
       "      <td>183</td>\n",
       "      <td>64</td>\n",
       "      <td>0</td>\n",
       "      <td>0</td>\n",
       "      <td>23.3</td>\n",
       "      <td>0.672</td>\n",
       "      <td>32</td>\n",
       "      <td>1</td>\n",
       "    </tr>\n",
       "    <tr>\n",
       "      <th>3</th>\n",
       "      <td>1</td>\n",
       "      <td>89</td>\n",
       "      <td>66</td>\n",
       "      <td>23</td>\n",
       "      <td>94</td>\n",
       "      <td>28.1</td>\n",
       "      <td>0.167</td>\n",
       "      <td>21</td>\n",
       "      <td>0</td>\n",
       "    </tr>\n",
       "    <tr>\n",
       "      <th>4</th>\n",
       "      <td>0</td>\n",
       "      <td>137</td>\n",
       "      <td>40</td>\n",
       "      <td>35</td>\n",
       "      <td>168</td>\n",
       "      <td>43.1</td>\n",
       "      <td>2.288</td>\n",
       "      <td>33</td>\n",
       "      <td>1</td>\n",
       "    </tr>\n",
       "  </tbody>\n",
       "</table>\n",
       "</div>"
      ],
      "text/plain": [
       "   Pregnancies  Glucose  BloodPressure  SkinThickness  Insulin   BMI  \\\n",
       "0            6      148             72             35        0  33.6   \n",
       "1            1       85             66             29        0  26.6   \n",
       "2            8      183             64              0        0  23.3   \n",
       "3            1       89             66             23       94  28.1   \n",
       "4            0      137             40             35      168  43.1   \n",
       "\n",
       "   DiabetesPedigreeFunction  Age  Outcome  \n",
       "0                     0.627   50        1  \n",
       "1                     0.351   31        0  \n",
       "2                     0.672   32        1  \n",
       "3                     0.167   21        0  \n",
       "4                     2.288   33        1  "
      ]
     },
     "execution_count": 4,
     "metadata": {},
     "output_type": "execute_result"
    }
   ],
   "source": [
    "df.head()"
   ]
  },
  {
   "cell_type": "code",
   "execution_count": 5,
   "id": "169fc860-3aa9-451f-a951-bdb710b93ab6",
   "metadata": {},
   "outputs": [
    {
     "data": {
      "text/plain": [
       "(768, 9)"
      ]
     },
     "execution_count": 5,
     "metadata": {},
     "output_type": "execute_result"
    }
   ],
   "source": [
    "df.shape"
   ]
  },
  {
   "cell_type": "code",
   "execution_count": 6,
   "id": "ad5439f1-4a8b-4728-b2b3-be71831b38be",
   "metadata": {
    "scrolled": true
   },
   "outputs": [
    {
     "data": {
      "text/plain": [
       "Pregnancies                 0\n",
       "Glucose                     0\n",
       "BloodPressure               0\n",
       "SkinThickness               0\n",
       "Insulin                     0\n",
       "BMI                         0\n",
       "DiabetesPedigreeFunction    0\n",
       "Age                         0\n",
       "Outcome                     0\n",
       "dtype: int64"
      ]
     },
     "execution_count": 6,
     "metadata": {},
     "output_type": "execute_result"
    }
   ],
   "source": [
    "df.isnull().sum()"
   ]
  },
  {
   "cell_type": "code",
   "execution_count": 17,
   "id": "e8059e8e-e019-479d-90b4-e576948813a2",
   "metadata": {},
   "outputs": [],
   "source": [
    "#pip install tensorflow tensor = çok boyutlu matrix matris"
   ]
  },
  {
   "cell_type": "code",
   "execution_count": 16,
   "id": "d46c2ec6-d30c-422f-bc1d-7c76a61b0236",
   "metadata": {
    "scrolled": true
   },
   "outputs": [
    {
     "data": {
      "text/html": [
       "<div>\n",
       "<style scoped>\n",
       "    .dataframe tbody tr th:only-of-type {\n",
       "        vertical-align: middle;\n",
       "    }\n",
       "\n",
       "    .dataframe tbody tr th {\n",
       "        vertical-align: top;\n",
       "    }\n",
       "\n",
       "    .dataframe thead th {\n",
       "        text-align: right;\n",
       "    }\n",
       "</style>\n",
       "<table border=\"1\" class=\"dataframe\">\n",
       "  <thead>\n",
       "    <tr style=\"text-align: right;\">\n",
       "      <th></th>\n",
       "      <th>Pregnancies</th>\n",
       "      <th>Glucose</th>\n",
       "      <th>BloodPressure</th>\n",
       "      <th>SkinThickness</th>\n",
       "      <th>Insulin</th>\n",
       "      <th>BMI</th>\n",
       "      <th>DiabetesPedigreeFunction</th>\n",
       "      <th>Age</th>\n",
       "      <th>Outcome</th>\n",
       "    </tr>\n",
       "  </thead>\n",
       "  <tbody>\n",
       "    <tr>\n",
       "      <th>0</th>\n",
       "      <td>6</td>\n",
       "      <td>148</td>\n",
       "      <td>72</td>\n",
       "      <td>35</td>\n",
       "      <td>0</td>\n",
       "      <td>33.6</td>\n",
       "      <td>0.627</td>\n",
       "      <td>50</td>\n",
       "      <td>1</td>\n",
       "    </tr>\n",
       "    <tr>\n",
       "      <th>1</th>\n",
       "      <td>1</td>\n",
       "      <td>85</td>\n",
       "      <td>66</td>\n",
       "      <td>29</td>\n",
       "      <td>0</td>\n",
       "      <td>26.6</td>\n",
       "      <td>0.351</td>\n",
       "      <td>31</td>\n",
       "      <td>0</td>\n",
       "    </tr>\n",
       "    <tr>\n",
       "      <th>2</th>\n",
       "      <td>8</td>\n",
       "      <td>183</td>\n",
       "      <td>64</td>\n",
       "      <td>0</td>\n",
       "      <td>0</td>\n",
       "      <td>23.3</td>\n",
       "      <td>0.672</td>\n",
       "      <td>32</td>\n",
       "      <td>1</td>\n",
       "    </tr>\n",
       "    <tr>\n",
       "      <th>3</th>\n",
       "      <td>1</td>\n",
       "      <td>89</td>\n",
       "      <td>66</td>\n",
       "      <td>23</td>\n",
       "      <td>94</td>\n",
       "      <td>28.1</td>\n",
       "      <td>0.167</td>\n",
       "      <td>21</td>\n",
       "      <td>0</td>\n",
       "    </tr>\n",
       "    <tr>\n",
       "      <th>4</th>\n",
       "      <td>0</td>\n",
       "      <td>137</td>\n",
       "      <td>40</td>\n",
       "      <td>35</td>\n",
       "      <td>168</td>\n",
       "      <td>43.1</td>\n",
       "      <td>2.288</td>\n",
       "      <td>33</td>\n",
       "      <td>1</td>\n",
       "    </tr>\n",
       "  </tbody>\n",
       "</table>\n",
       "</div>"
      ],
      "text/plain": [
       "   Pregnancies  Glucose  BloodPressure  SkinThickness  Insulin   BMI  \\\n",
       "0            6      148             72             35        0  33.6   \n",
       "1            1       85             66             29        0  26.6   \n",
       "2            8      183             64              0        0  23.3   \n",
       "3            1       89             66             23       94  28.1   \n",
       "4            0      137             40             35      168  43.1   \n",
       "\n",
       "   DiabetesPedigreeFunction  Age  Outcome  \n",
       "0                     0.627   50        1  \n",
       "1                     0.351   31        0  \n",
       "2                     0.672   32        1  \n",
       "3                     0.167   21        0  \n",
       "4                     2.288   33        1  "
      ]
     },
     "execution_count": 16,
     "metadata": {},
     "output_type": "execute_result"
    }
   ],
   "source": [
    "df.head()"
   ]
  },
  {
   "cell_type": "code",
   "execution_count": 18,
   "id": "fe3eb706-e7db-4227-a426-08f94dd9f5c5",
   "metadata": {},
   "outputs": [
    {
     "data": {
      "text/plain": [
       "Index(['Pregnancies', 'Glucose', 'BloodPressure', 'SkinThickness', 'Insulin',\n",
       "       'BMI', 'DiabetesPedigreeFunction', 'Age', 'Outcome'],\n",
       "      dtype='object')"
      ]
     },
     "execution_count": 18,
     "metadata": {},
     "output_type": "execute_result"
    }
   ],
   "source": [
    "df.columns # tum sutun isimleri gelir."
   ]
  },
  {
   "cell_type": "markdown",
   "id": "9a472c76-982b-4ef4-80c1-3a2a6fab3815",
   "metadata": {},
   "source": [
    "##### yontem 1"
   ]
  },
  {
   "cell_type": "code",
   "execution_count": 19,
   "id": "cbf9db16-798d-4206-aa3c-2c0d6ac13022",
   "metadata": {},
   "outputs": [],
   "source": [
    "x=df[['Pregnancies', 'Glucose', 'BloodPressure', 'SkinThickness', 'Insulin', 'BMI', 'DiabetesPedigreeFunction', 'Age']]\n",
    "y=df[['Outcome']]"
   ]
  },
  {
   "cell_type": "markdown",
   "id": "30c0507b-f9d7-4daa-93f2-b00f958139b1",
   "metadata": {},
   "source": [
    "##### yontem 2"
   ]
  },
  {
   "cell_type": "code",
   "execution_count": 24,
   "id": "7b2af632-86e2-44ca-a551-8b06490ddd2a",
   "metadata": {},
   "outputs": [],
   "source": [
    "x=df.drop('Outcome', axis=1)  # outcome u sil, diğerleri 1 e eşitle\n",
    "y=df[['Outcome']]"
   ]
  },
  {
   "cell_type": "code",
   "execution_count": 25,
   "id": "da2eb88b-bb4e-4cbe-b0cd-f7238a8a5748",
   "metadata": {
    "scrolled": true
   },
   "outputs": [
    {
     "data": {
      "text/html": [
       "<div>\n",
       "<style scoped>\n",
       "    .dataframe tbody tr th:only-of-type {\n",
       "        vertical-align: middle;\n",
       "    }\n",
       "\n",
       "    .dataframe tbody tr th {\n",
       "        vertical-align: top;\n",
       "    }\n",
       "\n",
       "    .dataframe thead th {\n",
       "        text-align: right;\n",
       "    }\n",
       "</style>\n",
       "<table border=\"1\" class=\"dataframe\">\n",
       "  <thead>\n",
       "    <tr style=\"text-align: right;\">\n",
       "      <th></th>\n",
       "      <th>Pregnancies</th>\n",
       "      <th>Glucose</th>\n",
       "      <th>BloodPressure</th>\n",
       "      <th>SkinThickness</th>\n",
       "      <th>Insulin</th>\n",
       "      <th>BMI</th>\n",
       "      <th>DiabetesPedigreeFunction</th>\n",
       "      <th>Age</th>\n",
       "      <th>Outcome</th>\n",
       "    </tr>\n",
       "  </thead>\n",
       "  <tbody>\n",
       "    <tr>\n",
       "      <th>0</th>\n",
       "      <td>6</td>\n",
       "      <td>148</td>\n",
       "      <td>72</td>\n",
       "      <td>35</td>\n",
       "      <td>0</td>\n",
       "      <td>33.6</td>\n",
       "      <td>0.627</td>\n",
       "      <td>50</td>\n",
       "      <td>1</td>\n",
       "    </tr>\n",
       "    <tr>\n",
       "      <th>1</th>\n",
       "      <td>1</td>\n",
       "      <td>85</td>\n",
       "      <td>66</td>\n",
       "      <td>29</td>\n",
       "      <td>0</td>\n",
       "      <td>26.6</td>\n",
       "      <td>0.351</td>\n",
       "      <td>31</td>\n",
       "      <td>0</td>\n",
       "    </tr>\n",
       "    <tr>\n",
       "      <th>2</th>\n",
       "      <td>8</td>\n",
       "      <td>183</td>\n",
       "      <td>64</td>\n",
       "      <td>0</td>\n",
       "      <td>0</td>\n",
       "      <td>23.3</td>\n",
       "      <td>0.672</td>\n",
       "      <td>32</td>\n",
       "      <td>1</td>\n",
       "    </tr>\n",
       "    <tr>\n",
       "      <th>3</th>\n",
       "      <td>1</td>\n",
       "      <td>89</td>\n",
       "      <td>66</td>\n",
       "      <td>23</td>\n",
       "      <td>94</td>\n",
       "      <td>28.1</td>\n",
       "      <td>0.167</td>\n",
       "      <td>21</td>\n",
       "      <td>0</td>\n",
       "    </tr>\n",
       "    <tr>\n",
       "      <th>4</th>\n",
       "      <td>0</td>\n",
       "      <td>137</td>\n",
       "      <td>40</td>\n",
       "      <td>35</td>\n",
       "      <td>168</td>\n",
       "      <td>43.1</td>\n",
       "      <td>2.288</td>\n",
       "      <td>33</td>\n",
       "      <td>1</td>\n",
       "    </tr>\n",
       "  </tbody>\n",
       "</table>\n",
       "</div>"
      ],
      "text/plain": [
       "   Pregnancies  Glucose  BloodPressure  SkinThickness  Insulin   BMI  \\\n",
       "0            6      148             72             35        0  33.6   \n",
       "1            1       85             66             29        0  26.6   \n",
       "2            8      183             64              0        0  23.3   \n",
       "3            1       89             66             23       94  28.1   \n",
       "4            0      137             40             35      168  43.1   \n",
       "\n",
       "   DiabetesPedigreeFunction  Age  Outcome  \n",
       "0                     0.627   50        1  \n",
       "1                     0.351   31        0  \n",
       "2                     0.672   32        1  \n",
       "3                     0.167   21        0  \n",
       "4                     2.288   33        1  "
      ]
     },
     "execution_count": 25,
     "metadata": {},
     "output_type": "execute_result"
    }
   ],
   "source": [
    "df.head()"
   ]
  },
  {
   "cell_type": "markdown",
   "id": "3d4f8b30-a2d1-45c2-a3c9-207dc6c226c3",
   "metadata": {},
   "source": [
    "##### yontem 3"
   ]
  },
  {
   "cell_type": "code",
   "execution_count": 28,
   "id": "15fad276-96a8-428a-b6fb-c5a4fcb066c7",
   "metadata": {},
   "outputs": [],
   "source": [
    "x=df.iloc[:,0:8]  \n",
    "y=df.iloc[:,8]\n",
    "\n",
    "# iloc = şurdan başla şuraya git anlamına gelir\n",
    "# 8 e kadar x e eşitle. 8 den sonrasını y ye eşitle"
   ]
  },
  {
   "cell_type": "markdown",
   "id": "60353818-9ef0-4510-bbdd-5211a7904eaa",
   "metadata": {},
   "source": [
    "##### -"
   ]
  },
  {
   "cell_type": "code",
   "execution_count": 29,
   "id": "6cfa04d9-dd4e-42fa-b15c-345decdf2857",
   "metadata": {},
   "outputs": [],
   "source": [
    "from tensorflow.keras.models import Sequential\n",
    "from tensorflow.keras.layers import Dense"
   ]
  },
  {
   "cell_type": "code",
   "execution_count": 31,
   "id": "415f3245-3e16-4068-b80c-7960974a4901",
   "metadata": {},
   "outputs": [],
   "source": [
    "model=Sequential()\n",
    "model.add(Dense(80, activation='relu')) # hayal urunu, hiçbir dayanak yok 80 olması için\n",
    "model.add(Dense(120, activation='relu')) # ikinci nöron oluşturuldu\n",
    "model.add(Dense(80, activation='relu')) # 3. nöron\n",
    "model.add(Dense(30, activation='relu')) # 4. nöron\n",
    "model.add(Dense(1, activation='sigmoid')) # 5. nöron. 1 dedim çünkü classificationda son layer ın çıkış olması lazım.\n",
    "\n",
    "model.compile(loss='binary_crossentropy', optimizer='adam', metrics=['accuracy'])\n",
    "\n",
    "# dense dediğimiz zaman bütün nöronlar birbirine bağlanacak demektir.\n",
    "# bi layerın çıktısı bi layerın girdisi oluyor"
   ]
  },
  {
   "cell_type": "code",
   "execution_count": 34,
   "id": "817a3e05-f3f7-4574-bddb-acbfaa47a552",
   "metadata": {
    "scrolled": true
   },
   "outputs": [
    {
     "name": "stdout",
     "output_type": "stream",
     "text": [
      "Epoch 1/100\n",
      "22/22 - 0s - 5ms/step - accuracy: 0.8148 - loss: 0.3882 - val_accuracy: 0.6753 - val_loss: 0.7406\n",
      "Epoch 2/100\n",
      "22/22 - 0s - 4ms/step - accuracy: 0.8307 - loss: 0.3844 - val_accuracy: 0.6364 - val_loss: 0.8491\n",
      "Epoch 3/100\n",
      "22/22 - 0s - 4ms/step - accuracy: 0.8162 - loss: 0.4114 - val_accuracy: 0.7013 - val_loss: 0.7542\n",
      "Epoch 4/100\n",
      "22/22 - 0s - 7ms/step - accuracy: 0.8220 - loss: 0.3717 - val_accuracy: 0.7403 - val_loss: 0.6882\n",
      "Epoch 5/100\n",
      "22/22 - 0s - 4ms/step - accuracy: 0.8177 - loss: 0.3967 - val_accuracy: 0.6494 - val_loss: 0.7838\n",
      "Epoch 6/100\n",
      "22/22 - 0s - 4ms/step - accuracy: 0.8191 - loss: 0.3991 - val_accuracy: 0.7532 - val_loss: 0.6597\n",
      "Epoch 7/100\n",
      "22/22 - 0s - 4ms/step - accuracy: 0.8104 - loss: 0.3837 - val_accuracy: 0.7143 - val_loss: 0.7196\n",
      "Epoch 8/100\n",
      "22/22 - 0s - 4ms/step - accuracy: 0.8278 - loss: 0.3502 - val_accuracy: 0.6753 - val_loss: 0.7731\n",
      "Epoch 9/100\n",
      "22/22 - 0s - 5ms/step - accuracy: 0.8148 - loss: 0.3818 - val_accuracy: 0.7403 - val_loss: 0.7153\n",
      "Epoch 10/100\n",
      "22/22 - 0s - 5ms/step - accuracy: 0.8480 - loss: 0.3627 - val_accuracy: 0.7143 - val_loss: 0.7174\n",
      "Epoch 11/100\n",
      "22/22 - 0s - 5ms/step - accuracy: 0.8292 - loss: 0.3884 - val_accuracy: 0.7662 - val_loss: 0.6814\n",
      "Epoch 12/100\n",
      "22/22 - 0s - 4ms/step - accuracy: 0.8177 - loss: 0.3682 - val_accuracy: 0.6883 - val_loss: 0.7603\n",
      "Epoch 13/100\n",
      "22/22 - 0s - 4ms/step - accuracy: 0.8090 - loss: 0.3699 - val_accuracy: 0.7143 - val_loss: 0.7738\n",
      "Epoch 14/100\n",
      "22/22 - 0s - 4ms/step - accuracy: 0.8148 - loss: 0.3934 - val_accuracy: 0.7532 - val_loss: 0.7253\n",
      "Epoch 15/100\n",
      "22/22 - 0s - 4ms/step - accuracy: 0.8350 - loss: 0.3663 - val_accuracy: 0.7403 - val_loss: 0.6664\n",
      "Epoch 16/100\n",
      "22/22 - 0s - 5ms/step - accuracy: 0.8292 - loss: 0.3674 - val_accuracy: 0.7143 - val_loss: 0.7636\n",
      "Epoch 17/100\n",
      "22/22 - 0s - 4ms/step - accuracy: 0.8350 - loss: 0.3487 - val_accuracy: 0.6883 - val_loss: 0.7542\n",
      "Epoch 18/100\n",
      "22/22 - 0s - 5ms/step - accuracy: 0.8524 - loss: 0.3432 - val_accuracy: 0.7143 - val_loss: 0.7051\n",
      "Epoch 19/100\n",
      "22/22 - 0s - 5ms/step - accuracy: 0.8249 - loss: 0.3593 - val_accuracy: 0.7013 - val_loss: 0.7256\n",
      "Epoch 20/100\n",
      "22/22 - 0s - 5ms/step - accuracy: 0.8191 - loss: 0.3701 - val_accuracy: 0.6883 - val_loss: 0.7027\n",
      "Epoch 21/100\n",
      "22/22 - 0s - 4ms/step - accuracy: 0.8394 - loss: 0.3420 - val_accuracy: 0.7273 - val_loss: 0.7212\n",
      "Epoch 22/100\n",
      "22/22 - 0s - 4ms/step - accuracy: 0.8480 - loss: 0.3376 - val_accuracy: 0.7273 - val_loss: 0.6865\n",
      "Epoch 23/100\n",
      "22/22 - 0s - 4ms/step - accuracy: 0.8408 - loss: 0.3410 - val_accuracy: 0.6364 - val_loss: 0.9901\n",
      "Epoch 24/100\n",
      "22/22 - 0s - 6ms/step - accuracy: 0.8336 - loss: 0.3423 - val_accuracy: 0.7013 - val_loss: 0.8399\n",
      "Epoch 25/100\n",
      "22/22 - 0s - 6ms/step - accuracy: 0.8234 - loss: 0.3563 - val_accuracy: 0.7013 - val_loss: 0.7557\n",
      "Epoch 26/100\n",
      "22/22 - 0s - 5ms/step - accuracy: 0.8278 - loss: 0.3626 - val_accuracy: 0.7013 - val_loss: 0.8120\n",
      "Epoch 27/100\n",
      "22/22 - 0s - 4ms/step - accuracy: 0.8061 - loss: 0.3825 - val_accuracy: 0.7013 - val_loss: 0.8451\n",
      "Epoch 28/100\n",
      "22/22 - 0s - 4ms/step - accuracy: 0.8278 - loss: 0.3467 - val_accuracy: 0.7403 - val_loss: 0.7677\n",
      "Epoch 29/100\n",
      "22/22 - 0s - 5ms/step - accuracy: 0.8220 - loss: 0.3502 - val_accuracy: 0.6364 - val_loss: 0.9180\n",
      "Epoch 30/100\n",
      "22/22 - 0s - 4ms/step - accuracy: 0.8278 - loss: 0.3783 - val_accuracy: 0.7403 - val_loss: 0.7480\n",
      "Epoch 31/100\n",
      "22/22 - 0s - 4ms/step - accuracy: 0.8133 - loss: 0.3800 - val_accuracy: 0.7143 - val_loss: 0.7706\n",
      "Epoch 32/100\n",
      "22/22 - 0s - 4ms/step - accuracy: 0.8336 - loss: 0.3542 - val_accuracy: 0.7013 - val_loss: 0.8239\n",
      "Epoch 33/100\n",
      "22/22 - 0s - 4ms/step - accuracy: 0.8524 - loss: 0.3246 - val_accuracy: 0.7273 - val_loss: 0.8599\n",
      "Epoch 34/100\n",
      "22/22 - 0s - 5ms/step - accuracy: 0.8596 - loss: 0.3259 - val_accuracy: 0.7013 - val_loss: 0.8810\n",
      "Epoch 35/100\n",
      "22/22 - 0s - 4ms/step - accuracy: 0.8350 - loss: 0.3309 - val_accuracy: 0.6623 - val_loss: 0.9256\n",
      "Epoch 36/100\n",
      "22/22 - 0s - 5ms/step - accuracy: 0.8234 - loss: 0.3439 - val_accuracy: 0.7403 - val_loss: 0.7579\n",
      "Epoch 37/100\n",
      "22/22 - 0s - 4ms/step - accuracy: 0.8524 - loss: 0.3196 - val_accuracy: 0.7403 - val_loss: 0.7226\n",
      "Epoch 38/100\n",
      "22/22 - 0s - 4ms/step - accuracy: 0.8596 - loss: 0.3153 - val_accuracy: 0.7273 - val_loss: 0.7751\n",
      "Epoch 39/100\n",
      "22/22 - 0s - 4ms/step - accuracy: 0.8452 - loss: 0.3215 - val_accuracy: 0.7532 - val_loss: 0.7270\n",
      "Epoch 40/100\n",
      "22/22 - 0s - 5ms/step - accuracy: 0.8509 - loss: 0.3131 - val_accuracy: 0.7922 - val_loss: 0.7635\n",
      "Epoch 41/100\n",
      "22/22 - 0s - 4ms/step - accuracy: 0.8466 - loss: 0.3408 - val_accuracy: 0.7532 - val_loss: 0.8583\n",
      "Epoch 42/100\n",
      "22/22 - 0s - 4ms/step - accuracy: 0.8480 - loss: 0.3088 - val_accuracy: 0.7013 - val_loss: 0.8721\n",
      "Epoch 43/100\n",
      "22/22 - 0s - 4ms/step - accuracy: 0.8423 - loss: 0.3123 - val_accuracy: 0.7403 - val_loss: 0.8319\n",
      "Epoch 44/100\n",
      "22/22 - 0s - 5ms/step - accuracy: 0.8640 - loss: 0.2993 - val_accuracy: 0.7922 - val_loss: 0.7906\n",
      "Epoch 45/100\n",
      "22/22 - 0s - 4ms/step - accuracy: 0.8524 - loss: 0.3073 - val_accuracy: 0.6753 - val_loss: 1.1397\n",
      "Epoch 46/100\n",
      "22/22 - 0s - 4ms/step - accuracy: 0.8292 - loss: 0.3459 - val_accuracy: 0.7403 - val_loss: 0.8255\n",
      "Epoch 47/100\n",
      "22/22 - 0s - 5ms/step - accuracy: 0.8509 - loss: 0.3138 - val_accuracy: 0.7013 - val_loss: 0.9673\n",
      "Epoch 48/100\n",
      "22/22 - 0s - 4ms/step - accuracy: 0.8336 - loss: 0.3555 - val_accuracy: 0.7532 - val_loss: 0.8265\n",
      "Epoch 49/100\n",
      "22/22 - 0s - 4ms/step - accuracy: 0.8553 - loss: 0.3168 - val_accuracy: 0.7143 - val_loss: 0.8987\n",
      "Epoch 50/100\n",
      "22/22 - 0s - 5ms/step - accuracy: 0.8669 - loss: 0.3062 - val_accuracy: 0.7273 - val_loss: 0.8595\n",
      "Epoch 51/100\n",
      "22/22 - 0s - 5ms/step - accuracy: 0.8698 - loss: 0.2931 - val_accuracy: 0.7403 - val_loss: 0.7737\n",
      "Epoch 52/100\n",
      "22/22 - 0s - 4ms/step - accuracy: 0.8698 - loss: 0.2951 - val_accuracy: 0.7532 - val_loss: 0.7168\n",
      "Epoch 53/100\n",
      "22/22 - 0s - 4ms/step - accuracy: 0.8784 - loss: 0.3086 - val_accuracy: 0.7403 - val_loss: 0.7245\n",
      "Epoch 54/100\n",
      "22/22 - 0s - 5ms/step - accuracy: 0.8582 - loss: 0.2882 - val_accuracy: 0.7273 - val_loss: 0.7572\n",
      "Epoch 55/100\n",
      "22/22 - 0s - 4ms/step - accuracy: 0.8495 - loss: 0.3142 - val_accuracy: 0.7403 - val_loss: 0.7962\n",
      "Epoch 56/100\n",
      "22/22 - 0s - 4ms/step - accuracy: 0.8553 - loss: 0.3196 - val_accuracy: 0.7403 - val_loss: 0.7722\n",
      "Epoch 57/100\n",
      "22/22 - 0s - 5ms/step - accuracy: 0.8596 - loss: 0.3058 - val_accuracy: 0.6883 - val_loss: 0.8448\n",
      "Epoch 58/100\n",
      "22/22 - 0s - 4ms/step - accuracy: 0.8712 - loss: 0.2820 - val_accuracy: 0.7143 - val_loss: 0.8554\n",
      "Epoch 59/100\n",
      "22/22 - 0s - 4ms/step - accuracy: 0.8683 - loss: 0.2852 - val_accuracy: 0.6883 - val_loss: 0.7414\n",
      "Epoch 60/100\n",
      "22/22 - 0s - 5ms/step - accuracy: 0.8741 - loss: 0.3005 - val_accuracy: 0.7273 - val_loss: 0.8594\n",
      "Epoch 61/100\n",
      "22/22 - 0s - 4ms/step - accuracy: 0.8784 - loss: 0.2772 - val_accuracy: 0.6753 - val_loss: 0.9414\n",
      "Epoch 62/100\n",
      "22/22 - 0s - 4ms/step - accuracy: 0.8538 - loss: 0.2971 - val_accuracy: 0.7532 - val_loss: 0.7434\n",
      "Epoch 63/100\n",
      "22/22 - 0s - 4ms/step - accuracy: 0.8524 - loss: 0.2934 - val_accuracy: 0.7403 - val_loss: 0.8969\n",
      "Epoch 64/100\n",
      "22/22 - 0s - 5ms/step - accuracy: 0.8625 - loss: 0.2918 - val_accuracy: 0.7403 - val_loss: 0.9074\n",
      "Epoch 65/100\n",
      "22/22 - 0s - 4ms/step - accuracy: 0.8611 - loss: 0.3055 - val_accuracy: 0.7403 - val_loss: 0.7763\n",
      "Epoch 66/100\n",
      "22/22 - 0s - 4ms/step - accuracy: 0.8813 - loss: 0.2703 - val_accuracy: 0.7273 - val_loss: 0.8565\n",
      "Epoch 67/100\n",
      "22/22 - 0s - 5ms/step - accuracy: 0.8726 - loss: 0.2686 - val_accuracy: 0.7273 - val_loss: 0.8699\n",
      "Epoch 68/100\n",
      "22/22 - 0s - 4ms/step - accuracy: 0.8770 - loss: 0.2769 - val_accuracy: 0.7273 - val_loss: 0.7912\n",
      "Epoch 69/100\n",
      "22/22 - 0s - 5ms/step - accuracy: 0.8915 - loss: 0.2696 - val_accuracy: 0.7403 - val_loss: 0.8020\n",
      "Epoch 70/100\n",
      "22/22 - 0s - 5ms/step - accuracy: 0.8770 - loss: 0.2836 - val_accuracy: 0.7403 - val_loss: 0.8140\n",
      "Epoch 71/100\n",
      "22/22 - 0s - 4ms/step - accuracy: 0.8524 - loss: 0.3187 - val_accuracy: 0.7532 - val_loss: 0.8030\n",
      "Epoch 72/100\n",
      "22/22 - 0s - 5ms/step - accuracy: 0.8408 - loss: 0.3249 - val_accuracy: 0.6104 - val_loss: 1.0168\n",
      "Epoch 73/100\n",
      "22/22 - 0s - 5ms/step - accuracy: 0.8538 - loss: 0.3189 - val_accuracy: 0.6623 - val_loss: 0.7818\n",
      "Epoch 74/100\n",
      "22/22 - 0s - 4ms/step - accuracy: 0.8755 - loss: 0.2889 - val_accuracy: 0.7143 - val_loss: 0.9070\n",
      "Epoch 75/100\n",
      "22/22 - 0s - 4ms/step - accuracy: 0.8654 - loss: 0.2840 - val_accuracy: 0.7403 - val_loss: 0.8324\n",
      "Epoch 76/100\n",
      "22/22 - 0s - 4ms/step - accuracy: 0.8842 - loss: 0.2549 - val_accuracy: 0.7403 - val_loss: 0.7681\n",
      "Epoch 77/100\n",
      "22/22 - 0s - 5ms/step - accuracy: 0.8828 - loss: 0.2535 - val_accuracy: 0.7143 - val_loss: 0.8716\n",
      "Epoch 78/100\n",
      "22/22 - 0s - 4ms/step - accuracy: 0.8842 - loss: 0.2673 - val_accuracy: 0.7662 - val_loss: 0.7622\n",
      "Epoch 79/100\n",
      "22/22 - 0s - 5ms/step - accuracy: 0.8726 - loss: 0.2759 - val_accuracy: 0.6753 - val_loss: 0.8540\n",
      "Epoch 80/100\n",
      "22/22 - 0s - 4ms/step - accuracy: 0.8857 - loss: 0.2480 - val_accuracy: 0.7662 - val_loss: 1.0256\n",
      "Epoch 81/100\n",
      "22/22 - 0s - 4ms/step - accuracy: 0.8900 - loss: 0.2460 - val_accuracy: 0.7013 - val_loss: 0.8920\n",
      "Epoch 82/100\n",
      "22/22 - 0s - 5ms/step - accuracy: 0.8929 - loss: 0.2471 - val_accuracy: 0.7273 - val_loss: 0.9385\n",
      "Epoch 83/100\n",
      "22/22 - 0s - 4ms/step - accuracy: 0.8929 - loss: 0.2279 - val_accuracy: 0.7532 - val_loss: 0.8733\n",
      "Epoch 84/100\n",
      "22/22 - 0s - 4ms/step - accuracy: 0.8886 - loss: 0.2506 - val_accuracy: 0.7143 - val_loss: 0.9153\n",
      "Epoch 85/100\n",
      "22/22 - 0s - 4ms/step - accuracy: 0.8900 - loss: 0.2597 - val_accuracy: 0.7143 - val_loss: 1.0478\n",
      "Epoch 86/100\n",
      "22/22 - 0s - 4ms/step - accuracy: 0.9117 - loss: 0.2246 - val_accuracy: 0.7273 - val_loss: 0.9969\n",
      "Epoch 87/100\n",
      "22/22 - 0s - 5ms/step - accuracy: 0.9074 - loss: 0.2244 - val_accuracy: 0.7662 - val_loss: 0.9241\n",
      "Epoch 88/100\n",
      "22/22 - 0s - 5ms/step - accuracy: 0.8958 - loss: 0.2415 - val_accuracy: 0.7403 - val_loss: 0.9975\n",
      "Epoch 89/100\n",
      "22/22 - 0s - 5ms/step - accuracy: 0.8871 - loss: 0.2420 - val_accuracy: 0.7662 - val_loss: 0.9562\n",
      "Epoch 90/100\n",
      "22/22 - 0s - 5ms/step - accuracy: 0.8944 - loss: 0.2422 - val_accuracy: 0.7532 - val_loss: 1.1060\n",
      "Epoch 91/100\n",
      "22/22 - 0s - 4ms/step - accuracy: 0.8755 - loss: 0.2759 - val_accuracy: 0.7143 - val_loss: 1.0073\n",
      "Epoch 92/100\n",
      "22/22 - 0s - 4ms/step - accuracy: 0.8842 - loss: 0.2543 - val_accuracy: 0.6883 - val_loss: 1.1144\n",
      "Epoch 93/100\n",
      "22/22 - 0s - 4ms/step - accuracy: 0.8915 - loss: 0.2521 - val_accuracy: 0.7273 - val_loss: 1.0768\n",
      "Epoch 94/100\n",
      "22/22 - 0s - 4ms/step - accuracy: 0.8799 - loss: 0.3042 - val_accuracy: 0.6364 - val_loss: 1.1923\n",
      "Epoch 95/100\n",
      "22/22 - 0s - 5ms/step - accuracy: 0.8726 - loss: 0.2852 - val_accuracy: 0.7273 - val_loss: 0.9342\n",
      "Epoch 96/100\n",
      "22/22 - 0s - 4ms/step - accuracy: 0.8958 - loss: 0.2380 - val_accuracy: 0.7273 - val_loss: 0.9169\n",
      "Epoch 97/100\n",
      "22/22 - 0s - 5ms/step - accuracy: 0.8987 - loss: 0.2324 - val_accuracy: 0.7273 - val_loss: 0.8939\n",
      "Epoch 98/100\n",
      "22/22 - 0s - 5ms/step - accuracy: 0.9016 - loss: 0.2437 - val_accuracy: 0.7403 - val_loss: 0.9364\n",
      "Epoch 99/100\n",
      "22/22 - 0s - 4ms/step - accuracy: 0.9117 - loss: 0.2198 - val_accuracy: 0.7013 - val_loss: 1.0096\n",
      "Epoch 100/100\n",
      "22/22 - 0s - 6ms/step - accuracy: 0.9059 - loss: 0.2264 - val_accuracy: 0.7403 - val_loss: 0.8899\n"
     ]
    }
   ],
   "source": [
    "history=model.fit(x,y, batch_size=32, validation_split=0.10, verbose=2, epochs=100)"
   ]
  },
  {
   "cell_type": "code",
   "execution_count": 36,
   "id": "6cbc7c12-ec49-4a7a-a31f-10ae61778a3b",
   "metadata": {
    "scrolled": true
   },
   "outputs": [
    {
     "data": {
      "text/html": [
       "<pre style=\"white-space:pre;overflow-x:auto;line-height:normal;font-family:Menlo,'DejaVu Sans Mono',consolas,'Courier New',monospace\"><span style=\"font-weight: bold\">Model: \"sequential_1\"</span>\n",
       "</pre>\n"
      ],
      "text/plain": [
       "\u001b[1mModel: \"sequential_1\"\u001b[0m\n"
      ]
     },
     "metadata": {},
     "output_type": "display_data"
    },
    {
     "data": {
      "text/html": [
       "<pre style=\"white-space:pre;overflow-x:auto;line-height:normal;font-family:Menlo,'DejaVu Sans Mono',consolas,'Courier New',monospace\">┏━━━━━━━━━━━━━━━━━━━━━━━━━━━━━━━━━━━━━━┳━━━━━━━━━━━━━━━━━━━━━━━━━━━━━┳━━━━━━━━━━━━━━━━━┓\n",
       "┃<span style=\"font-weight: bold\"> Layer (type)                         </span>┃<span style=\"font-weight: bold\"> Output Shape                </span>┃<span style=\"font-weight: bold\">         Param # </span>┃\n",
       "┡━━━━━━━━━━━━━━━━━━━━━━━━━━━━━━━━━━━━━━╇━━━━━━━━━━━━━━━━━━━━━━━━━━━━━╇━━━━━━━━━━━━━━━━━┩\n",
       "│ dense_1 (<span style=\"color: #0087ff; text-decoration-color: #0087ff\">Dense</span>)                      │ (<span style=\"color: #00d7ff; text-decoration-color: #00d7ff\">None</span>, <span style=\"color: #00af00; text-decoration-color: #00af00\">80</span>)                  │             <span style=\"color: #00af00; text-decoration-color: #00af00\">720</span> │\n",
       "├──────────────────────────────────────┼─────────────────────────────┼─────────────────┤\n",
       "│ dense_2 (<span style=\"color: #0087ff; text-decoration-color: #0087ff\">Dense</span>)                      │ (<span style=\"color: #00d7ff; text-decoration-color: #00d7ff\">None</span>, <span style=\"color: #00af00; text-decoration-color: #00af00\">120</span>)                 │           <span style=\"color: #00af00; text-decoration-color: #00af00\">9,720</span> │\n",
       "├──────────────────────────────────────┼─────────────────────────────┼─────────────────┤\n",
       "│ dense_3 (<span style=\"color: #0087ff; text-decoration-color: #0087ff\">Dense</span>)                      │ (<span style=\"color: #00d7ff; text-decoration-color: #00d7ff\">None</span>, <span style=\"color: #00af00; text-decoration-color: #00af00\">80</span>)                  │           <span style=\"color: #00af00; text-decoration-color: #00af00\">9,680</span> │\n",
       "├──────────────────────────────────────┼─────────────────────────────┼─────────────────┤\n",
       "│ dense_4 (<span style=\"color: #0087ff; text-decoration-color: #0087ff\">Dense</span>)                      │ (<span style=\"color: #00d7ff; text-decoration-color: #00d7ff\">None</span>, <span style=\"color: #00af00; text-decoration-color: #00af00\">30</span>)                  │           <span style=\"color: #00af00; text-decoration-color: #00af00\">2,430</span> │\n",
       "├──────────────────────────────────────┼─────────────────────────────┼─────────────────┤\n",
       "│ dense_5 (<span style=\"color: #0087ff; text-decoration-color: #0087ff\">Dense</span>)                      │ (<span style=\"color: #00d7ff; text-decoration-color: #00d7ff\">None</span>, <span style=\"color: #00af00; text-decoration-color: #00af00\">1</span>)                   │              <span style=\"color: #00af00; text-decoration-color: #00af00\">31</span> │\n",
       "└──────────────────────────────────────┴─────────────────────────────┴─────────────────┘\n",
       "</pre>\n"
      ],
      "text/plain": [
       "┏━━━━━━━━━━━━━━━━━━━━━━━━━━━━━━━━━━━━━━┳━━━━━━━━━━━━━━━━━━━━━━━━━━━━━┳━━━━━━━━━━━━━━━━━┓\n",
       "┃\u001b[1m \u001b[0m\u001b[1mLayer (type)                        \u001b[0m\u001b[1m \u001b[0m┃\u001b[1m \u001b[0m\u001b[1mOutput Shape               \u001b[0m\u001b[1m \u001b[0m┃\u001b[1m \u001b[0m\u001b[1m        Param #\u001b[0m\u001b[1m \u001b[0m┃\n",
       "┡━━━━━━━━━━━━━━━━━━━━━━━━━━━━━━━━━━━━━━╇━━━━━━━━━━━━━━━━━━━━━━━━━━━━━╇━━━━━━━━━━━━━━━━━┩\n",
       "│ dense_1 (\u001b[38;5;33mDense\u001b[0m)                      │ (\u001b[38;5;45mNone\u001b[0m, \u001b[38;5;34m80\u001b[0m)                  │             \u001b[38;5;34m720\u001b[0m │\n",
       "├──────────────────────────────────────┼─────────────────────────────┼─────────────────┤\n",
       "│ dense_2 (\u001b[38;5;33mDense\u001b[0m)                      │ (\u001b[38;5;45mNone\u001b[0m, \u001b[38;5;34m120\u001b[0m)                 │           \u001b[38;5;34m9,720\u001b[0m │\n",
       "├──────────────────────────────────────┼─────────────────────────────┼─────────────────┤\n",
       "│ dense_3 (\u001b[38;5;33mDense\u001b[0m)                      │ (\u001b[38;5;45mNone\u001b[0m, \u001b[38;5;34m80\u001b[0m)                  │           \u001b[38;5;34m9,680\u001b[0m │\n",
       "├──────────────────────────────────────┼─────────────────────────────┼─────────────────┤\n",
       "│ dense_4 (\u001b[38;5;33mDense\u001b[0m)                      │ (\u001b[38;5;45mNone\u001b[0m, \u001b[38;5;34m30\u001b[0m)                  │           \u001b[38;5;34m2,430\u001b[0m │\n",
       "├──────────────────────────────────────┼─────────────────────────────┼─────────────────┤\n",
       "│ dense_5 (\u001b[38;5;33mDense\u001b[0m)                      │ (\u001b[38;5;45mNone\u001b[0m, \u001b[38;5;34m1\u001b[0m)                   │              \u001b[38;5;34m31\u001b[0m │\n",
       "└──────────────────────────────────────┴─────────────────────────────┴─────────────────┘\n"
      ]
     },
     "metadata": {},
     "output_type": "display_data"
    },
    {
     "data": {
      "text/html": [
       "<pre style=\"white-space:pre;overflow-x:auto;line-height:normal;font-family:Menlo,'DejaVu Sans Mono',consolas,'Courier New',monospace\"><span style=\"font-weight: bold\"> Total params: </span><span style=\"color: #00af00; text-decoration-color: #00af00\">67,745</span> (264.63 KB)\n",
       "</pre>\n"
      ],
      "text/plain": [
       "\u001b[1m Total params: \u001b[0m\u001b[38;5;34m67,745\u001b[0m (264.63 KB)\n"
      ]
     },
     "metadata": {},
     "output_type": "display_data"
    },
    {
     "data": {
      "text/html": [
       "<pre style=\"white-space:pre;overflow-x:auto;line-height:normal;font-family:Menlo,'DejaVu Sans Mono',consolas,'Courier New',monospace\"><span style=\"font-weight: bold\"> Trainable params: </span><span style=\"color: #00af00; text-decoration-color: #00af00\">22,581</span> (88.21 KB)\n",
       "</pre>\n"
      ],
      "text/plain": [
       "\u001b[1m Trainable params: \u001b[0m\u001b[38;5;34m22,581\u001b[0m (88.21 KB)\n"
      ]
     },
     "metadata": {},
     "output_type": "display_data"
    },
    {
     "data": {
      "text/html": [
       "<pre style=\"white-space:pre;overflow-x:auto;line-height:normal;font-family:Menlo,'DejaVu Sans Mono',consolas,'Courier New',monospace\"><span style=\"font-weight: bold\"> Non-trainable params: </span><span style=\"color: #00af00; text-decoration-color: #00af00\">0</span> (0.00 B)\n",
       "</pre>\n"
      ],
      "text/plain": [
       "\u001b[1m Non-trainable params: \u001b[0m\u001b[38;5;34m0\u001b[0m (0.00 B)\n"
      ]
     },
     "metadata": {},
     "output_type": "display_data"
    },
    {
     "data": {
      "text/html": [
       "<pre style=\"white-space:pre;overflow-x:auto;line-height:normal;font-family:Menlo,'DejaVu Sans Mono',consolas,'Courier New',monospace\"><span style=\"font-weight: bold\"> Optimizer params: </span><span style=\"color: #00af00; text-decoration-color: #00af00\">45,164</span> (176.43 KB)\n",
       "</pre>\n"
      ],
      "text/plain": [
       "\u001b[1m Optimizer params: \u001b[0m\u001b[38;5;34m45,164\u001b[0m (176.43 KB)\n"
      ]
     },
     "metadata": {},
     "output_type": "display_data"
    }
   ],
   "source": [
    "model.summary()"
   ]
  },
  {
   "cell_type": "code",
   "execution_count": 38,
   "id": "2ad56feb-b849-4e4d-b367-3b17bd9dec09",
   "metadata": {},
   "outputs": [
    {
     "name": "stdout",
     "output_type": "stream",
     "text": [
      "\u001b[1m24/24\u001b[0m \u001b[32m━━━━━━━━━━━━━━━━━━━━\u001b[0m\u001b[37m\u001b[0m \u001b[1m0s\u001b[0m 2ms/step - accuracy: 0.8958 - loss: 0.2724 \n"
     ]
    }
   ],
   "source": [
    "loss,accuracy=model.evaluate(x,y)"
   ]
  },
  {
   "cell_type": "code",
   "execution_count": 39,
   "id": "8af43267-e878-443f-b39c-e7eee5b27b1b",
   "metadata": {},
   "outputs": [
    {
     "data": {
      "text/plain": [
       "0.8958333134651184"
      ]
     },
     "execution_count": 39,
     "metadata": {},
     "output_type": "execute_result"
    }
   ],
   "source": [
    "accuracy"
   ]
  },
  {
   "cell_type": "markdown",
   "id": "cb72201d-de10-4d0b-969d-7b34eb2369e4",
   "metadata": {},
   "source": [
    "##### -"
   ]
  },
  {
   "cell_type": "code",
   "execution_count": 40,
   "id": "af8bfed5-ca1c-4912-9999-3d754b121ce6",
   "metadata": {},
   "outputs": [],
   "source": [
    "from sklearn.preprocessing import StandardScaler"
   ]
  },
  {
   "cell_type": "code",
   "execution_count": 41,
   "id": "0df5b64e-6607-4fa9-82a5-4b82d1299f57",
   "metadata": {},
   "outputs": [],
   "source": [
    "scaler=StandardScaler()"
   ]
  },
  {
   "cell_type": "code",
   "execution_count": 42,
   "id": "a1b66cb7-2ff5-4201-979a-9b37ca5c7d5d",
   "metadata": {},
   "outputs": [],
   "source": [
    "x=scaler.fit_transform(x)"
   ]
  },
  {
   "cell_type": "code",
   "execution_count": 43,
   "id": "66fbbfbb-98c0-4735-b0ba-a1a96760a944",
   "metadata": {
    "scrolled": true
   },
   "outputs": [
    {
     "name": "stdout",
     "output_type": "stream",
     "text": [
      "Epoch 1/100\n",
      "22/22 - 0s - 5ms/step - accuracy: 0.6599 - loss: 0.9199 - val_accuracy: 0.5455 - val_loss: 0.7093\n",
      "Epoch 2/100\n",
      "22/22 - 0s - 5ms/step - accuracy: 0.6918 - loss: 0.5772 - val_accuracy: 0.5714 - val_loss: 0.6614\n",
      "Epoch 3/100\n",
      "22/22 - 0s - 5ms/step - accuracy: 0.7482 - loss: 0.4992 - val_accuracy: 0.7143 - val_loss: 0.5983\n",
      "Epoch 4/100\n",
      "22/22 - 0s - 5ms/step - accuracy: 0.7699 - loss: 0.4646 - val_accuracy: 0.6753 - val_loss: 0.6411\n",
      "Epoch 5/100\n",
      "22/22 - 0s - 5ms/step - accuracy: 0.7786 - loss: 0.4613 - val_accuracy: 0.7013 - val_loss: 0.5872\n",
      "Epoch 6/100\n",
      "22/22 - 0s - 4ms/step - accuracy: 0.7858 - loss: 0.4279 - val_accuracy: 0.8052 - val_loss: 0.5553\n",
      "Epoch 7/100\n",
      "22/22 - 0s - 4ms/step - accuracy: 0.8046 - loss: 0.4114 - val_accuracy: 0.6494 - val_loss: 0.6369\n",
      "Epoch 8/100\n",
      "22/22 - 0s - 5ms/step - accuracy: 0.7974 - loss: 0.4136 - val_accuracy: 0.8052 - val_loss: 0.5952\n",
      "Epoch 9/100\n",
      "22/22 - 0s - 5ms/step - accuracy: 0.8090 - loss: 0.3971 - val_accuracy: 0.7792 - val_loss: 0.5857\n",
      "Epoch 10/100\n",
      "22/22 - 0s - 4ms/step - accuracy: 0.8104 - loss: 0.3921 - val_accuracy: 0.7662 - val_loss: 0.5881\n",
      "Epoch 11/100\n",
      "22/22 - 0s - 5ms/step - accuracy: 0.8075 - loss: 0.4013 - val_accuracy: 0.8052 - val_loss: 0.5897\n",
      "Epoch 12/100\n",
      "22/22 - 0s - 4ms/step - accuracy: 0.8205 - loss: 0.3751 - val_accuracy: 0.8052 - val_loss: 0.5892\n",
      "Epoch 13/100\n",
      "22/22 - 0s - 4ms/step - accuracy: 0.8119 - loss: 0.3862 - val_accuracy: 0.7792 - val_loss: 0.5827\n",
      "Epoch 14/100\n",
      "22/22 - 0s - 4ms/step - accuracy: 0.8292 - loss: 0.3665 - val_accuracy: 0.7273 - val_loss: 0.6460\n",
      "Epoch 15/100\n",
      "22/22 - 0s - 4ms/step - accuracy: 0.8321 - loss: 0.3646 - val_accuracy: 0.7792 - val_loss: 0.6106\n",
      "Epoch 16/100\n",
      "22/22 - 0s - 4ms/step - accuracy: 0.8249 - loss: 0.3487 - val_accuracy: 0.7792 - val_loss: 0.6312\n",
      "Epoch 17/100\n",
      "22/22 - 0s - 5ms/step - accuracy: 0.8220 - loss: 0.3451 - val_accuracy: 0.7662 - val_loss: 0.6302\n",
      "Epoch 18/100\n",
      "22/22 - 0s - 5ms/step - accuracy: 0.8394 - loss: 0.3426 - val_accuracy: 0.7792 - val_loss: 0.6253\n",
      "Epoch 19/100\n",
      "22/22 - 0s - 4ms/step - accuracy: 0.8452 - loss: 0.3305 - val_accuracy: 0.7532 - val_loss: 0.6593\n",
      "Epoch 20/100\n",
      "22/22 - 0s - 5ms/step - accuracy: 0.8495 - loss: 0.3270 - val_accuracy: 0.8052 - val_loss: 0.6412\n",
      "Epoch 21/100\n",
      "22/22 - 0s - 6ms/step - accuracy: 0.8553 - loss: 0.3209 - val_accuracy: 0.7922 - val_loss: 0.6409\n",
      "Epoch 22/100\n",
      "22/22 - 0s - 5ms/step - accuracy: 0.8538 - loss: 0.3133 - val_accuracy: 0.7662 - val_loss: 0.6743\n",
      "Epoch 23/100\n",
      "22/22 - 0s - 4ms/step - accuracy: 0.8596 - loss: 0.3024 - val_accuracy: 0.7792 - val_loss: 0.6889\n",
      "Epoch 24/100\n",
      "22/22 - 0s - 4ms/step - accuracy: 0.8567 - loss: 0.3069 - val_accuracy: 0.7922 - val_loss: 0.6508\n",
      "Epoch 25/100\n",
      "22/22 - 0s - 4ms/step - accuracy: 0.8712 - loss: 0.2889 - val_accuracy: 0.7662 - val_loss: 0.6935\n",
      "Epoch 26/100\n",
      "22/22 - 0s - 6ms/step - accuracy: 0.8741 - loss: 0.2886 - val_accuracy: 0.7403 - val_loss: 0.7692\n",
      "Epoch 27/100\n",
      "22/22 - 0s - 4ms/step - accuracy: 0.8683 - loss: 0.2948 - val_accuracy: 0.7532 - val_loss: 0.7465\n",
      "Epoch 28/100\n",
      "22/22 - 0s - 4ms/step - accuracy: 0.8857 - loss: 0.2777 - val_accuracy: 0.7403 - val_loss: 0.6942\n",
      "Epoch 29/100\n",
      "22/22 - 0s - 6ms/step - accuracy: 0.8828 - loss: 0.2652 - val_accuracy: 0.7662 - val_loss: 0.7520\n",
      "Epoch 30/100\n",
      "22/22 - 0s - 4ms/step - accuracy: 0.8958 - loss: 0.2588 - val_accuracy: 0.7532 - val_loss: 0.7493\n",
      "Epoch 31/100\n",
      "22/22 - 0s - 4ms/step - accuracy: 0.8915 - loss: 0.2573 - val_accuracy: 0.7403 - val_loss: 0.7666\n",
      "Epoch 32/100\n",
      "22/22 - 0s - 5ms/step - accuracy: 0.8973 - loss: 0.2458 - val_accuracy: 0.7922 - val_loss: 0.7934\n",
      "Epoch 33/100\n",
      "22/22 - 0s - 4ms/step - accuracy: 0.8944 - loss: 0.2411 - val_accuracy: 0.7403 - val_loss: 0.8228\n",
      "Epoch 34/100\n",
      "22/22 - 0s - 4ms/step - accuracy: 0.9117 - loss: 0.2299 - val_accuracy: 0.7403 - val_loss: 0.8333\n",
      "Epoch 35/100\n",
      "22/22 - 0s - 5ms/step - accuracy: 0.9117 - loss: 0.2236 - val_accuracy: 0.7013 - val_loss: 0.8656\n",
      "Epoch 36/100\n",
      "22/22 - 0s - 4ms/step - accuracy: 0.9045 - loss: 0.2285 - val_accuracy: 0.7403 - val_loss: 0.8281\n",
      "Epoch 37/100\n",
      "22/22 - 0s - 6ms/step - accuracy: 0.9190 - loss: 0.2127 - val_accuracy: 0.7532 - val_loss: 0.8948\n",
      "Epoch 38/100\n",
      "22/22 - 0s - 6ms/step - accuracy: 0.9247 - loss: 0.2048 - val_accuracy: 0.7143 - val_loss: 0.9176\n",
      "Epoch 39/100\n",
      "22/22 - 0s - 5ms/step - accuracy: 0.9219 - loss: 0.1949 - val_accuracy: 0.7662 - val_loss: 0.9114\n",
      "Epoch 40/100\n",
      "22/22 - 0s - 4ms/step - accuracy: 0.9233 - loss: 0.1974 - val_accuracy: 0.7273 - val_loss: 0.9447\n",
      "Epoch 41/100\n",
      "22/22 - 0s - 4ms/step - accuracy: 0.9363 - loss: 0.1856 - val_accuracy: 0.7143 - val_loss: 0.9400\n",
      "Epoch 42/100\n",
      "22/22 - 0s - 5ms/step - accuracy: 0.9363 - loss: 0.1845 - val_accuracy: 0.7273 - val_loss: 1.0357\n",
      "Epoch 43/100\n",
      "22/22 - 0s - 4ms/step - accuracy: 0.9305 - loss: 0.1811 - val_accuracy: 0.7013 - val_loss: 1.0147\n",
      "Epoch 44/100\n",
      "22/22 - 0s - 4ms/step - accuracy: 0.9320 - loss: 0.1777 - val_accuracy: 0.7273 - val_loss: 1.0395\n",
      "Epoch 45/100\n",
      "22/22 - 0s - 5ms/step - accuracy: 0.9334 - loss: 0.1742 - val_accuracy: 0.7662 - val_loss: 1.1681\n",
      "Epoch 46/100\n",
      "22/22 - 0s - 4ms/step - accuracy: 0.9349 - loss: 0.1752 - val_accuracy: 0.7143 - val_loss: 1.0369\n",
      "Epoch 47/100\n",
      "22/22 - 0s - 5ms/step - accuracy: 0.9262 - loss: 0.1807 - val_accuracy: 0.7273 - val_loss: 1.0300\n",
      "Epoch 48/100\n",
      "22/22 - 0s - 5ms/step - accuracy: 0.9421 - loss: 0.1563 - val_accuracy: 0.7013 - val_loss: 1.0594\n",
      "Epoch 49/100\n",
      "22/22 - 0s - 4ms/step - accuracy: 0.9537 - loss: 0.1422 - val_accuracy: 0.6364 - val_loss: 1.1554\n",
      "Epoch 50/100\n",
      "22/22 - 0s - 4ms/step - accuracy: 0.9522 - loss: 0.1391 - val_accuracy: 0.7143 - val_loss: 1.1474\n",
      "Epoch 51/100\n",
      "22/22 - 0s - 4ms/step - accuracy: 0.9580 - loss: 0.1257 - val_accuracy: 0.6753 - val_loss: 1.1701\n",
      "Epoch 52/100\n",
      "22/22 - 0s - 6ms/step - accuracy: 0.9522 - loss: 0.1352 - val_accuracy: 0.6623 - val_loss: 1.1289\n",
      "Epoch 53/100\n",
      "22/22 - 0s - 4ms/step - accuracy: 0.9537 - loss: 0.1464 - val_accuracy: 0.7143 - val_loss: 1.2059\n",
      "Epoch 54/100\n",
      "22/22 - 0s - 4ms/step - accuracy: 0.9609 - loss: 0.1333 - val_accuracy: 0.7273 - val_loss: 1.1331\n",
      "Epoch 55/100\n",
      "22/22 - 0s - 5ms/step - accuracy: 0.9624 - loss: 0.1160 - val_accuracy: 0.7143 - val_loss: 1.2583\n",
      "Epoch 56/100\n",
      "22/22 - 0s - 5ms/step - accuracy: 0.9696 - loss: 0.1173 - val_accuracy: 0.7143 - val_loss: 1.2542\n",
      "Epoch 57/100\n",
      "22/22 - 0s - 4ms/step - accuracy: 0.9653 - loss: 0.1163 - val_accuracy: 0.7403 - val_loss: 1.2616\n",
      "Epoch 58/100\n",
      "22/22 - 0s - 4ms/step - accuracy: 0.9682 - loss: 0.1068 - val_accuracy: 0.7143 - val_loss: 1.2080\n",
      "Epoch 59/100\n",
      "22/22 - 0s - 4ms/step - accuracy: 0.9696 - loss: 0.1060 - val_accuracy: 0.7013 - val_loss: 1.3339\n",
      "Epoch 60/100\n",
      "22/22 - 0s - 5ms/step - accuracy: 0.9624 - loss: 0.1129 - val_accuracy: 0.6623 - val_loss: 1.3939\n",
      "Epoch 61/100\n",
      "22/22 - 0s - 4ms/step - accuracy: 0.9638 - loss: 0.1113 - val_accuracy: 0.7013 - val_loss: 1.3035\n",
      "Epoch 62/100\n",
      "22/22 - 0s - 4ms/step - accuracy: 0.9682 - loss: 0.1029 - val_accuracy: 0.6883 - val_loss: 1.3515\n",
      "Epoch 63/100\n",
      "22/22 - 0s - 5ms/step - accuracy: 0.9725 - loss: 0.0898 - val_accuracy: 0.7013 - val_loss: 1.4227\n",
      "Epoch 64/100\n",
      "22/22 - 0s - 4ms/step - accuracy: 0.9711 - loss: 0.0856 - val_accuracy: 0.6623 - val_loss: 1.4287\n",
      "Epoch 65/100\n",
      "22/22 - 0s - 4ms/step - accuracy: 0.9682 - loss: 0.0908 - val_accuracy: 0.7013 - val_loss: 1.3694\n",
      "Epoch 66/100\n",
      "22/22 - 0s - 4ms/step - accuracy: 0.9638 - loss: 0.0920 - val_accuracy: 0.6623 - val_loss: 1.4821\n",
      "Epoch 67/100\n",
      "22/22 - 0s - 4ms/step - accuracy: 0.9754 - loss: 0.0825 - val_accuracy: 0.7013 - val_loss: 1.4634\n",
      "Epoch 68/100\n",
      "22/22 - 0s - 5ms/step - accuracy: 0.9754 - loss: 0.0818 - val_accuracy: 0.7143 - val_loss: 1.4201\n",
      "Epoch 69/100\n",
      "22/22 - 0s - 4ms/step - accuracy: 0.9783 - loss: 0.0848 - val_accuracy: 0.7013 - val_loss: 1.5383\n",
      "Epoch 70/100\n",
      "22/22 - 0s - 4ms/step - accuracy: 0.9870 - loss: 0.0719 - val_accuracy: 0.7013 - val_loss: 1.4768\n",
      "Epoch 71/100\n",
      "22/22 - 0s - 4ms/step - accuracy: 0.9826 - loss: 0.0698 - val_accuracy: 0.7013 - val_loss: 1.5446\n",
      "Epoch 72/100\n",
      "22/22 - 0s - 4ms/step - accuracy: 0.9768 - loss: 0.0718 - val_accuracy: 0.7143 - val_loss: 1.5370\n",
      "Epoch 73/100\n",
      "22/22 - 0s - 4ms/step - accuracy: 0.9812 - loss: 0.0656 - val_accuracy: 0.6753 - val_loss: 1.5237\n",
      "Epoch 74/100\n",
      "22/22 - 0s - 4ms/step - accuracy: 0.9870 - loss: 0.0561 - val_accuracy: 0.6883 - val_loss: 1.6603\n",
      "Epoch 75/100\n",
      "22/22 - 0s - 5ms/step - accuracy: 0.9754 - loss: 0.0609 - val_accuracy: 0.6883 - val_loss: 1.7049\n",
      "Epoch 76/100\n",
      "22/22 - 0s - 4ms/step - accuracy: 0.9870 - loss: 0.0600 - val_accuracy: 0.7013 - val_loss: 1.6003\n",
      "Epoch 77/100\n",
      "22/22 - 0s - 4ms/step - accuracy: 0.9812 - loss: 0.0589 - val_accuracy: 0.7532 - val_loss: 1.6319\n",
      "Epoch 78/100\n",
      "22/22 - 0s - 4ms/step - accuracy: 0.9826 - loss: 0.0554 - val_accuracy: 0.7273 - val_loss: 1.6686\n",
      "Epoch 79/100\n",
      "22/22 - 0s - 5ms/step - accuracy: 0.9783 - loss: 0.0571 - val_accuracy: 0.7273 - val_loss: 1.5828\n",
      "Epoch 80/100\n",
      "22/22 - 0s - 4ms/step - accuracy: 0.9797 - loss: 0.0608 - val_accuracy: 0.7273 - val_loss: 1.6695\n",
      "Epoch 81/100\n",
      "22/22 - 0s - 4ms/step - accuracy: 0.9768 - loss: 0.0567 - val_accuracy: 0.7013 - val_loss: 1.8309\n",
      "Epoch 82/100\n",
      "22/22 - 0s - 4ms/step - accuracy: 0.9841 - loss: 0.0586 - val_accuracy: 0.7143 - val_loss: 1.6987\n",
      "Epoch 83/100\n",
      "22/22 - 0s - 4ms/step - accuracy: 0.9826 - loss: 0.0553 - val_accuracy: 0.7273 - val_loss: 1.8408\n",
      "Epoch 84/100\n",
      "22/22 - 0s - 6ms/step - accuracy: 0.9913 - loss: 0.0422 - val_accuracy: 0.7143 - val_loss: 1.7138\n",
      "Epoch 85/100\n",
      "22/22 - 0s - 5ms/step - accuracy: 0.9899 - loss: 0.0403 - val_accuracy: 0.7273 - val_loss: 1.8739\n",
      "Epoch 86/100\n",
      "22/22 - 0s - 4ms/step - accuracy: 0.9913 - loss: 0.0409 - val_accuracy: 0.6883 - val_loss: 1.8049\n",
      "Epoch 87/100\n",
      "22/22 - 0s - 4ms/step - accuracy: 0.9870 - loss: 0.0499 - val_accuracy: 0.7143 - val_loss: 1.8247\n",
      "Epoch 88/100\n",
      "22/22 - 0s - 4ms/step - accuracy: 0.9913 - loss: 0.0422 - val_accuracy: 0.7403 - val_loss: 1.7619\n",
      "Epoch 89/100\n",
      "22/22 - 0s - 4ms/step - accuracy: 0.9870 - loss: 0.0358 - val_accuracy: 0.7273 - val_loss: 1.8676\n",
      "Epoch 90/100\n",
      "22/22 - 0s - 8ms/step - accuracy: 0.9928 - loss: 0.0301 - val_accuracy: 0.7013 - val_loss: 1.8884\n",
      "Epoch 91/100\n",
      "22/22 - 0s - 4ms/step - accuracy: 0.9899 - loss: 0.0316 - val_accuracy: 0.7143 - val_loss: 1.9576\n",
      "Epoch 92/100\n",
      "22/22 - 0s - 4ms/step - accuracy: 0.9841 - loss: 0.0373 - val_accuracy: 0.7143 - val_loss: 1.9021\n",
      "Epoch 93/100\n",
      "22/22 - 0s - 5ms/step - accuracy: 0.9841 - loss: 0.0515 - val_accuracy: 0.6623 - val_loss: 1.9306\n",
      "Epoch 94/100\n",
      "22/22 - 0s - 4ms/step - accuracy: 0.9913 - loss: 0.0353 - val_accuracy: 0.7403 - val_loss: 1.9319\n",
      "Epoch 95/100\n",
      "22/22 - 0s - 4ms/step - accuracy: 0.9913 - loss: 0.0313 - val_accuracy: 0.7143 - val_loss: 1.9712\n",
      "Epoch 96/100\n",
      "22/22 - 0s - 4ms/step - accuracy: 0.9957 - loss: 0.0262 - val_accuracy: 0.7273 - val_loss: 1.9981\n",
      "Epoch 97/100\n",
      "22/22 - 0s - 5ms/step - accuracy: 0.9942 - loss: 0.0283 - val_accuracy: 0.7403 - val_loss: 1.9981\n",
      "Epoch 98/100\n",
      "22/22 - 0s - 4ms/step - accuracy: 0.9928 - loss: 0.0205 - val_accuracy: 0.7143 - val_loss: 2.0363\n",
      "Epoch 99/100\n",
      "22/22 - 0s - 4ms/step - accuracy: 0.9913 - loss: 0.0253 - val_accuracy: 0.6883 - val_loss: 2.1759\n",
      "Epoch 100/100\n",
      "22/22 - 0s - 5ms/step - accuracy: 0.9928 - loss: 0.0227 - val_accuracy: 0.6883 - val_loss: 2.0819\n"
     ]
    }
   ],
   "source": [
    "history=model.fit(x,y, batch_size=32, validation_split=0.10, verbose=2, epochs=100)"
   ]
  },
  {
   "cell_type": "code",
   "execution_count": 44,
   "id": "fbbc0311-8ef6-4849-b78d-bdcb601c7384",
   "metadata": {
    "scrolled": true
   },
   "outputs": [
    {
     "name": "stdout",
     "output_type": "stream",
     "text": [
      "\u001b[1m24/24\u001b[0m \u001b[32m━━━━━━━━━━━━━━━━━━━━\u001b[0m\u001b[37m\u001b[0m \u001b[1m0s\u001b[0m 2ms/step - accuracy: 0.9622 - loss: 0.2229 \n"
     ]
    }
   ],
   "source": [
    "loss,accuracy=model.evaluate(x,y)"
   ]
  },
  {
   "cell_type": "code",
   "execution_count": 45,
   "id": "1aea25ae-20cd-4b5d-8ddb-e22f61c07a6f",
   "metadata": {},
   "outputs": [
    {
     "data": {
      "text/plain": [
       "0.9622395634651184"
      ]
     },
     "execution_count": 45,
     "metadata": {},
     "output_type": "execute_result"
    }
   ],
   "source": [
    "accuracy"
   ]
  },
  {
   "cell_type": "code",
   "execution_count": 46,
   "id": "4aed1ba9-9713-4959-97cb-ddf6200063aa",
   "metadata": {},
   "outputs": [],
   "source": [
    "import matplotlib.pyplot as plt"
   ]
  },
  {
   "cell_type": "code",
   "execution_count": 49,
   "id": "ea0eeecd-8852-4ae8-a37b-9b066a8c29de",
   "metadata": {
    "scrolled": true
   },
   "outputs": [
    {
     "data": {
      "image/png": "[encoded data removed]",
      "text/plain": [
       "<Figure size 640x480 with 1 Axes>"
      ]
     },
     "metadata": {},
     "output_type": "display_data"
    }
   ],
   "source": [
    "plt.plot(history.history['accuracy'])\n",
    "plt.plot(history.history['val_accuracy']);"
   ]
  },
  {
   "cell_type": "markdown",
   "id": "fa3fd5c0-5860-4350-9c55-9f57bb3617aa",
   "metadata": {
    "jp-MarkdownHeadingCollapsed": true
   },
   "source": [
    "#### _Regression_ "
   ]
  },
  {
   "cell_type": "code",
   "execution_count": 50,
   "id": "3b241c8d-9809-48b9-bc2a-ab5d6c068e8e",
   "metadata": {},
   "outputs": [],
   "source": [
    "df=pd.read_pickle('kc_house.pkl')"
   ]
  },
  {
   "cell_type": "code",
   "execution_count": 51,
   "id": "9f407c2f-c7b1-4324-ba5e-8677445a87d8",
   "metadata": {
    "scrolled": true
   },
   "outputs": [
    {
     "data": {
      "text/html": [
       "<div>\n",
       "<style scoped>\n",
       "    .dataframe tbody tr th:only-of-type {\n",
       "        vertical-align: middle;\n",
       "    }\n",
       "\n",
       "    .dataframe tbody tr th {\n",
       "        vertical-align: top;\n",
       "    }\n",
       "\n",
       "    .dataframe thead th {\n",
       "        text-align: right;\n",
       "    }\n",
       "</style>\n",
       "<table border=\"1\" class=\"dataframe\">\n",
       "  <thead>\n",
       "    <tr style=\"text-align: right;\">\n",
       "      <th></th>\n",
       "      <th>bedrooms</th>\n",
       "      <th>bathrooms</th>\n",
       "      <th>sqft_living</th>\n",
       "      <th>grade</th>\n",
       "      <th>view</th>\n",
       "      <th>basement</th>\n",
       "      <th>waterfront</th>\n",
       "      <th>floors</th>\n",
       "      <th>age</th>\n",
       "      <th>renovated</th>\n",
       "      <th>...</th>\n",
       "      <th>zipcode_98146</th>\n",
       "      <th>zipcode_98148</th>\n",
       "      <th>zipcode_98155</th>\n",
       "      <th>zipcode_98166</th>\n",
       "      <th>zipcode_98168</th>\n",
       "      <th>zipcode_98177</th>\n",
       "      <th>zipcode_98178</th>\n",
       "      <th>zipcode_98188</th>\n",
       "      <th>zipcode_98198</th>\n",
       "      <th>zipcode_98199</th>\n",
       "    </tr>\n",
       "  </thead>\n",
       "  <tbody>\n",
       "    <tr>\n",
       "      <th>0</th>\n",
       "      <td>9</td>\n",
       "      <td>1.0000</td>\n",
       "      <td>1180</td>\n",
       "      <td>7</td>\n",
       "      <td>0</td>\n",
       "      <td>0</td>\n",
       "      <td>0</td>\n",
       "      <td>1.0</td>\n",
       "      <td>65</td>\n",
       "      <td>0</td>\n",
       "      <td>...</td>\n",
       "      <td>0</td>\n",
       "      <td>0</td>\n",
       "      <td>0</td>\n",
       "      <td>0</td>\n",
       "      <td>0</td>\n",
       "      <td>0</td>\n",
       "      <td>1</td>\n",
       "      <td>0</td>\n",
       "      <td>0</td>\n",
       "      <td>0</td>\n",
       "    </tr>\n",
       "    <tr>\n",
       "      <th>1</th>\n",
       "      <td>9</td>\n",
       "      <td>5.0625</td>\n",
       "      <td>2570</td>\n",
       "      <td>7</td>\n",
       "      <td>0</td>\n",
       "      <td>1</td>\n",
       "      <td>0</td>\n",
       "      <td>2.0</td>\n",
       "      <td>69</td>\n",
       "      <td>1</td>\n",
       "      <td>...</td>\n",
       "      <td>0</td>\n",
       "      <td>0</td>\n",
       "      <td>0</td>\n",
       "      <td>0</td>\n",
       "      <td>0</td>\n",
       "      <td>0</td>\n",
       "      <td>0</td>\n",
       "      <td>0</td>\n",
       "      <td>0</td>\n",
       "      <td>0</td>\n",
       "    </tr>\n",
       "    <tr>\n",
       "      <th>2</th>\n",
       "      <td>4</td>\n",
       "      <td>1.0000</td>\n",
       "      <td>770</td>\n",
       "      <td>6</td>\n",
       "      <td>0</td>\n",
       "      <td>0</td>\n",
       "      <td>0</td>\n",
       "      <td>1.0</td>\n",
       "      <td>87</td>\n",
       "      <td>0</td>\n",
       "      <td>...</td>\n",
       "      <td>0</td>\n",
       "      <td>0</td>\n",
       "      <td>0</td>\n",
       "      <td>0</td>\n",
       "      <td>0</td>\n",
       "      <td>0</td>\n",
       "      <td>0</td>\n",
       "      <td>0</td>\n",
       "      <td>0</td>\n",
       "      <td>0</td>\n",
       "    </tr>\n",
       "    <tr>\n",
       "      <th>3</th>\n",
       "      <td>16</td>\n",
       "      <td>9.0000</td>\n",
       "      <td>1960</td>\n",
       "      <td>7</td>\n",
       "      <td>0</td>\n",
       "      <td>1</td>\n",
       "      <td>0</td>\n",
       "      <td>1.0</td>\n",
       "      <td>55</td>\n",
       "      <td>0</td>\n",
       "      <td>...</td>\n",
       "      <td>0</td>\n",
       "      <td>0</td>\n",
       "      <td>0</td>\n",
       "      <td>0</td>\n",
       "      <td>0</td>\n",
       "      <td>0</td>\n",
       "      <td>0</td>\n",
       "      <td>0</td>\n",
       "      <td>0</td>\n",
       "      <td>0</td>\n",
       "    </tr>\n",
       "    <tr>\n",
       "      <th>4</th>\n",
       "      <td>9</td>\n",
       "      <td>4.0000</td>\n",
       "      <td>1680</td>\n",
       "      <td>8</td>\n",
       "      <td>0</td>\n",
       "      <td>0</td>\n",
       "      <td>0</td>\n",
       "      <td>1.0</td>\n",
       "      <td>33</td>\n",
       "      <td>0</td>\n",
       "      <td>...</td>\n",
       "      <td>0</td>\n",
       "      <td>0</td>\n",
       "      <td>0</td>\n",
       "      <td>0</td>\n",
       "      <td>0</td>\n",
       "      <td>0</td>\n",
       "      <td>0</td>\n",
       "      <td>0</td>\n",
       "      <td>0</td>\n",
       "      <td>0</td>\n",
       "    </tr>\n",
       "  </tbody>\n",
       "</table>\n",
       "<p>5 rows × 82 columns</p>\n",
       "</div>"
      ],
      "text/plain": [
       "   bedrooms  bathrooms  sqft_living  grade  view  basement  waterfront  \\\n",
       "0         9     1.0000         1180      7     0         0           0   \n",
       "1         9     5.0625         2570      7     0         1           0   \n",
       "2         4     1.0000          770      6     0         0           0   \n",
       "3        16     9.0000         1960      7     0         1           0   \n",
       "4         9     4.0000         1680      8     0         0           0   \n",
       "\n",
       "   floors  age  renovated  ...  zipcode_98146  zipcode_98148  zipcode_98155  \\\n",
       "0     1.0   65          0  ...              0              0              0   \n",
       "1     2.0   69          1  ...              0              0              0   \n",
       "2     1.0   87          0  ...              0              0              0   \n",
       "3     1.0   55          0  ...              0              0              0   \n",
       "4     1.0   33          0  ...              0              0              0   \n",
       "\n",
       "   zipcode_98166  zipcode_98168  zipcode_98177  zipcode_98178  zipcode_98188  \\\n",
       "0              0              0              0              1              0   \n",
       "1              0              0              0              0              0   \n",
       "2              0              0              0              0              0   \n",
       "3              0              0              0              0              0   \n",
       "4              0              0              0              0              0   \n",
       "\n",
       "   zipcode_98198  zipcode_98199  \n",
       "0              0              0  \n",
       "1              0              0  \n",
       "2              0              0  \n",
       "3              0              0  \n",
       "4              0              0  \n",
       "\n",
       "[5 rows x 82 columns]"
      ]
     },
     "execution_count": 51,
     "metadata": {},
     "output_type": "execute_result"
    }
   ],
   "source": [
    "df.head()"
   ]
  },
  {
   "cell_type": "code",
   "execution_count": 52,
   "id": "69fa59b3-98bb-4473-96c6-da6182c36c0b",
   "metadata": {},
   "outputs": [],
   "source": [
    "x=df.drop('price', axis=1)\n",
    "y=df[['price']]"
   ]
  },
  {
   "cell_type": "code",
   "execution_count": 53,
   "id": "24f35553-e57b-42b1-abc4-d83ca0c3c2e8",
   "metadata": {},
   "outputs": [],
   "source": [
    "x=scaler.fit_transform(x)"
   ]
  },
  {
   "cell_type": "code",
   "execution_count": 54,
   "id": "01a16e4b-3603-4e61-9f53-b62a7d13484e",
   "metadata": {},
   "outputs": [],
   "source": [
    "model=Sequential()\n",
    "model.add(Dense(80, activation='relu')) \n",
    "model.add(Dense(128, activation='relu')) \n",
    "model.add(Dense(100, activation='relu')) \n",
    "model.add(Dense(80, activation='relu')) \n",
    "model.add(Dense(30, activation='relu')) \n",
    "model.add(Dense(8, activation='relu')) \n",
    "model.add(Dense(1)) #sigmoid yok\n",
    "\n",
    "model.compile(loss='mean_squared_error', optimizer='adam')"
   ]
  },
  {
   "cell_type": "code",
   "execution_count": 55,
   "id": "2df41740-279c-4e8f-9e52-e04515c35932",
   "metadata": {},
   "outputs": [],
   "source": [
    "from sklearn.model_selection import train_test_split"
   ]
  },
  {
   "cell_type": "code",
   "execution_count": 56,
   "id": "b673aea5-6ce4-488f-9422-82a521b698f9",
   "metadata": {},
   "outputs": [],
   "source": [
    "x_train,x_test,y_train,y_test=train_test_split(x,y, test_size=.20,random_state=42)"
   ]
  },
  {
   "cell_type": "code",
   "execution_count": 57,
   "id": "2ed1dbf0-7c05-400d-bc02-acbef3d4a14f",
   "metadata": {
    "scrolled": true
   },
   "outputs": [
    {
     "name": "stdout",
     "output_type": "stream",
     "text": [
      "Epoch 1/120\n",
      "\u001b[1m238/238\u001b[0m \u001b[32m━━━━━━━━━━━━━━━━━━━━\u001b[0m\u001b[37m\u001b[0m \u001b[1m2s\u001b[0m 3ms/step - loss: 124861530112.0000 - val_loss: 9536075776.0000\n",
      "Epoch 2/120\n",
      "\u001b[1m238/238\u001b[0m \u001b[32m━━━━━━━━━━━━━━━━━━━━\u001b[0m\u001b[37m\u001b[0m \u001b[1m0s\u001b[0m 2ms/step - loss: 8492191744.0000 - val_loss: 8760511488.0000\n",
      "Epoch 3/120\n",
      "\u001b[1m238/238\u001b[0m \u001b[32m━━━━━━━━━━━━━━━━━━━━\u001b[0m\u001b[37m\u001b[0m \u001b[1m1s\u001b[0m 2ms/step - loss: 7995118592.0000 - val_loss: 8333016064.0000\n",
      "Epoch 4/120\n",
      "\u001b[1m238/238\u001b[0m \u001b[32m━━━━━━━━━━━━━━━━━━━━\u001b[0m\u001b[37m\u001b[0m \u001b[1m0s\u001b[0m 2ms/step - loss: 7760431616.0000 - val_loss: 8241526784.0000\n",
      "Epoch 5/120\n",
      "\u001b[1m238/238\u001b[0m \u001b[32m━━━━━━━━━━━━━━━━━━━━\u001b[0m\u001b[37m\u001b[0m \u001b[1m0s\u001b[0m 1ms/step - loss: 7601244160.0000 - val_loss: 8243496960.0000\n",
      "Epoch 6/120\n",
      "\u001b[1m238/238\u001b[0m \u001b[32m━━━━━━━━━━━━━━━━━━━━\u001b[0m\u001b[37m\u001b[0m \u001b[1m0s\u001b[0m 2ms/step - loss: 7526014464.0000 - val_loss: 8171508736.0000\n",
      "Epoch 7/120\n",
      "\u001b[1m238/238\u001b[0m \u001b[32m━━━━━━━━━━━━━━━━━━━━\u001b[0m\u001b[37m\u001b[0m \u001b[1m0s\u001b[0m 2ms/step - loss: 7455557120.0000 - val_loss: 8172419072.0000\n",
      "Epoch 8/120\n",
      "\u001b[1m238/238\u001b[0m \u001b[32m━━━━━━━━━━━━━━━━━━━━\u001b[0m\u001b[37m\u001b[0m \u001b[1m0s\u001b[0m 1ms/step - loss: 7374741504.0000 - val_loss: 8003405824.0000\n",
      "Epoch 9/120\n",
      "\u001b[1m238/238\u001b[0m \u001b[32m━━━━━━━━━━━━━━━━━━━━\u001b[0m\u001b[37m\u001b[0m \u001b[1m0s\u001b[0m 2ms/step - loss: 7287401472.0000 - val_loss: 8081942528.0000\n",
      "Epoch 10/120\n",
      "\u001b[1m238/238\u001b[0m \u001b[32m━━━━━━━━━━━━━━━━━━━━\u001b[0m\u001b[37m\u001b[0m \u001b[1m0s\u001b[0m 1ms/step - loss: 7236959744.0000 - val_loss: 7942316544.0000\n",
      "Epoch 11/120\n",
      "\u001b[1m238/238\u001b[0m \u001b[32m━━━━━━━━━━━━━━━━━━━━\u001b[0m\u001b[37m\u001b[0m \u001b[1m0s\u001b[0m 1ms/step - loss: 7183566336.0000 - val_loss: 7966164992.0000\n",
      "Epoch 12/120\n",
      "\u001b[1m238/238\u001b[0m \u001b[32m━━━━━━━━━━━━━━━━━━━━\u001b[0m\u001b[37m\u001b[0m \u001b[1m0s\u001b[0m 1ms/step - loss: 7139353088.0000 - val_loss: 7956898304.0000\n",
      "Epoch 13/120\n",
      "\u001b[1m238/238\u001b[0m \u001b[32m━━━━━━━━━━━━━━━━━━━━\u001b[0m\u001b[37m\u001b[0m \u001b[1m0s\u001b[0m 2ms/step - loss: 7093871104.0000 - val_loss: 7961365504.0000\n",
      "Epoch 14/120\n",
      "\u001b[1m238/238\u001b[0m \u001b[32m━━━━━━━━━━━━━━━━━━━━\u001b[0m\u001b[37m\u001b[0m \u001b[1m0s\u001b[0m 2ms/step - loss: 7076615680.0000 - val_loss: 7925264896.0000\n",
      "Epoch 15/120\n",
      "\u001b[1m238/238\u001b[0m \u001b[32m━━━━━━━━━━━━━━━━━━━━\u001b[0m\u001b[37m\u001b[0m \u001b[1m1s\u001b[0m 2ms/step - loss: 7038723584.0000 - val_loss: 7912809984.0000\n",
      "Epoch 16/120\n",
      "\u001b[1m238/238\u001b[0m \u001b[32m━━━━━━━━━━━━━━━━━━━━\u001b[0m\u001b[37m\u001b[0m \u001b[1m0s\u001b[0m 2ms/step - loss: 7010698752.0000 - val_loss: 7809805312.0000\n",
      "Epoch 17/120\n",
      "\u001b[1m238/238\u001b[0m \u001b[32m━━━━━━━━━━━━━━━━━━━━\u001b[0m\u001b[37m\u001b[0m \u001b[1m0s\u001b[0m 2ms/step - loss: 6937668096.0000 - val_loss: 7842642432.0000\n",
      "Epoch 18/120\n",
      "\u001b[1m238/238\u001b[0m \u001b[32m━━━━━━━━━━━━━━━━━━━━\u001b[0m\u001b[37m\u001b[0m \u001b[1m0s\u001b[0m 2ms/step - loss: 6936406528.0000 - val_loss: 7862616064.0000\n",
      "Epoch 19/120\n",
      "\u001b[1m238/238\u001b[0m \u001b[32m━━━━━━━━━━━━━━━━━━━━\u001b[0m\u001b[37m\u001b[0m \u001b[1m0s\u001b[0m 1ms/step - loss: 6913337856.0000 - val_loss: 7772478464.0000\n",
      "Epoch 20/120\n",
      "\u001b[1m238/238\u001b[0m \u001b[32m━━━━━━━━━━━━━━━━━━━━\u001b[0m\u001b[37m\u001b[0m \u001b[1m0s\u001b[0m 1ms/step - loss: 6889984000.0000 - val_loss: 7871865856.0000\n",
      "Epoch 21/120\n",
      "\u001b[1m238/238\u001b[0m \u001b[32m━━━━━━━━━━━━━━━━━━━━\u001b[0m\u001b[37m\u001b[0m \u001b[1m1s\u001b[0m 2ms/step - loss: 6837801472.0000 - val_loss: 7908345344.0000\n",
      "Epoch 22/120\n",
      "\u001b[1m238/238\u001b[0m \u001b[32m━━━━━━━━━━━━━━━━━━━━\u001b[0m\u001b[37m\u001b[0m \u001b[1m0s\u001b[0m 2ms/step - loss: 6846788608.0000 - val_loss: 7894548992.0000\n",
      "Epoch 23/120\n",
      "\u001b[1m238/238\u001b[0m \u001b[32m━━━━━━━━━━━━━━━━━━━━\u001b[0m\u001b[37m\u001b[0m \u001b[1m1s\u001b[0m 2ms/step - loss: 6790895616.0000 - val_loss: 7726076928.0000\n",
      "Epoch 24/120\n",
      "\u001b[1m238/238\u001b[0m \u001b[32m━━━━━━━━━━━━━━━━━━━━\u001b[0m\u001b[37m\u001b[0m \u001b[1m0s\u001b[0m 1ms/step - loss: 6751033856.0000 - val_loss: 7922007552.0000\n",
      "Epoch 25/120\n",
      "\u001b[1m238/238\u001b[0m \u001b[32m━━━━━━━━━━━━━━━━━━━━\u001b[0m\u001b[37m\u001b[0m \u001b[1m0s\u001b[0m 2ms/step - loss: 6783451648.0000 - val_loss: 7807478272.0000\n",
      "Epoch 26/120\n",
      "\u001b[1m238/238\u001b[0m \u001b[32m━━━━━━━━━━━━━━━━━━━━\u001b[0m\u001b[37m\u001b[0m \u001b[1m0s\u001b[0m 2ms/step - loss: 6711424000.0000 - val_loss: 7707936256.0000\n",
      "Epoch 27/120\n",
      "\u001b[1m238/238\u001b[0m \u001b[32m━━━━━━━━━━━━━━━━━━━━\u001b[0m\u001b[37m\u001b[0m \u001b[1m0s\u001b[0m 2ms/step - loss: 6722934784.0000 - val_loss: 7927263232.0000\n",
      "Epoch 28/120\n",
      "\u001b[1m238/238\u001b[0m \u001b[32m━━━━━━━━━━━━━━━━━━━━\u001b[0m\u001b[37m\u001b[0m \u001b[1m0s\u001b[0m 2ms/step - loss: 6687406592.0000 - val_loss: 7729807360.0000\n",
      "Epoch 29/120\n",
      "\u001b[1m238/238\u001b[0m \u001b[32m━━━━━━━━━━━━━━━━━━━━\u001b[0m\u001b[37m\u001b[0m \u001b[1m0s\u001b[0m 2ms/step - loss: 6689445888.0000 - val_loss: 7706523136.0000\n",
      "Epoch 30/120\n",
      "\u001b[1m238/238\u001b[0m \u001b[32m━━━━━━━━━━━━━━━━━━━━\u001b[0m\u001b[37m\u001b[0m \u001b[1m0s\u001b[0m 1ms/step - loss: 6677599744.0000 - val_loss: 7862005760.0000\n",
      "Epoch 31/120\n",
      "\u001b[1m238/238\u001b[0m \u001b[32m━━━━━━━━━━━━━━━━━━━━\u001b[0m\u001b[37m\u001b[0m \u001b[1m0s\u001b[0m 2ms/step - loss: 6660396032.0000 - val_loss: 7830060544.0000\n",
      "Epoch 32/120\n",
      "\u001b[1m238/238\u001b[0m \u001b[32m━━━━━━━━━━━━━━━━━━━━\u001b[0m\u001b[37m\u001b[0m \u001b[1m0s\u001b[0m 2ms/step - loss: 6702181888.0000 - val_loss: 8170851328.0000\n",
      "Epoch 33/120\n",
      "\u001b[1m238/238\u001b[0m \u001b[32m━━━━━━━━━━━━━━━━━━━━\u001b[0m\u001b[37m\u001b[0m \u001b[1m0s\u001b[0m 2ms/step - loss: 6650604544.0000 - val_loss: 7699212800.0000\n",
      "Epoch 34/120\n",
      "\u001b[1m238/238\u001b[0m \u001b[32m━━━━━━━━━━━━━━━━━━━━\u001b[0m\u001b[37m\u001b[0m \u001b[1m0s\u001b[0m 2ms/step - loss: 6653087744.0000 - val_loss: 7961432064.0000\n",
      "Epoch 35/120\n",
      "\u001b[1m238/238\u001b[0m \u001b[32m━━━━━━━━━━━━━━━━━━━━\u001b[0m\u001b[37m\u001b[0m \u001b[1m1s\u001b[0m 2ms/step - loss: 6614526976.0000 - val_loss: 7932087296.0000\n",
      "Epoch 36/120\n",
      "\u001b[1m238/238\u001b[0m \u001b[32m━━━━━━━━━━━━━━━━━━━━\u001b[0m\u001b[37m\u001b[0m \u001b[1m0s\u001b[0m 2ms/step - loss: 6591714304.0000 - val_loss: 7925264896.0000\n",
      "Epoch 37/120\n",
      "\u001b[1m238/238\u001b[0m \u001b[32m━━━━━━━━━━━━━━━━━━━━\u001b[0m\u001b[37m\u001b[0m \u001b[1m0s\u001b[0m 2ms/step - loss: 6607063040.0000 - val_loss: 7955216384.0000\n",
      "Epoch 38/120\n",
      "\u001b[1m238/238\u001b[0m \u001b[32m━━━━━━━━━━━━━━━━━━━━\u001b[0m\u001b[37m\u001b[0m \u001b[1m0s\u001b[0m 2ms/step - loss: 6572482560.0000 - val_loss: 7653661184.0000\n",
      "Epoch 39/120\n",
      "\u001b[1m238/238\u001b[0m \u001b[32m━━━━━━━━━━━━━━━━━━━━\u001b[0m\u001b[37m\u001b[0m \u001b[1m0s\u001b[0m 2ms/step - loss: 6563280384.0000 - val_loss: 7727157760.0000\n",
      "Epoch 40/120\n",
      "\u001b[1m238/238\u001b[0m \u001b[32m━━━━━━━━━━━━━━━━━━━━\u001b[0m\u001b[37m\u001b[0m \u001b[1m0s\u001b[0m 2ms/step - loss: 6546526720.0000 - val_loss: 7677855744.0000\n",
      "Epoch 41/120\n",
      "\u001b[1m238/238\u001b[0m \u001b[32m━━━━━━━━━━━━━━━━━━━━\u001b[0m\u001b[37m\u001b[0m \u001b[1m0s\u001b[0m 1ms/step - loss: 6529759744.0000 - val_loss: 7725847552.0000\n",
      "Epoch 42/120\n",
      "\u001b[1m238/238\u001b[0m \u001b[32m━━━━━━━━━━━━━━━━━━━━\u001b[0m\u001b[37m\u001b[0m \u001b[1m0s\u001b[0m 2ms/step - loss: 6517938176.0000 - val_loss: 7677299200.0000\n",
      "Epoch 43/120\n",
      "\u001b[1m238/238\u001b[0m \u001b[32m━━━━━━━━━━━━━━━━━━━━\u001b[0m\u001b[37m\u001b[0m \u001b[1m0s\u001b[0m 2ms/step - loss: 6498120704.0000 - val_loss: 7678128640.0000\n",
      "Epoch 44/120\n",
      "\u001b[1m238/238\u001b[0m \u001b[32m━━━━━━━━━━━━━━━━━━━━\u001b[0m\u001b[37m\u001b[0m \u001b[1m0s\u001b[0m 2ms/step - loss: 6506050048.0000 - val_loss: 7731551744.0000\n",
      "Epoch 45/120\n",
      "\u001b[1m238/238\u001b[0m \u001b[32m━━━━━━━━━━━━━━━━━━━━\u001b[0m\u001b[37m\u001b[0m \u001b[1m0s\u001b[0m 2ms/step - loss: 6550492160.0000 - val_loss: 8042924544.0000\n",
      "Epoch 46/120\n",
      "\u001b[1m238/238\u001b[0m \u001b[32m━━━━━━━━━━━━━━━━━━━━\u001b[0m\u001b[37m\u001b[0m \u001b[1m0s\u001b[0m 2ms/step - loss: 6510813184.0000 - val_loss: 7649720832.0000\n",
      "Epoch 47/120\n",
      "\u001b[1m238/238\u001b[0m \u001b[32m━━━━━━━━━━━━━━━━━━━━\u001b[0m\u001b[37m\u001b[0m \u001b[1m0s\u001b[0m 2ms/step - loss: 6495866368.0000 - val_loss: 8276827648.0000\n",
      "Epoch 48/120\n",
      "\u001b[1m238/238\u001b[0m \u001b[32m━━━━━━━━━━━━━━━━━━━━\u001b[0m\u001b[37m\u001b[0m \u001b[1m0s\u001b[0m 2ms/step - loss: 6486233600.0000 - val_loss: 7769847808.0000\n",
      "Epoch 49/120\n",
      "\u001b[1m238/238\u001b[0m \u001b[32m━━━━━━━━━━━━━━━━━━━━\u001b[0m\u001b[37m\u001b[0m \u001b[1m0s\u001b[0m 2ms/step - loss: 6442470912.0000 - val_loss: 7708381696.0000\n",
      "Epoch 50/120\n",
      "\u001b[1m238/238\u001b[0m \u001b[32m━━━━━━━━━━━━━━━━━━━━\u001b[0m\u001b[37m\u001b[0m \u001b[1m0s\u001b[0m 2ms/step - loss: 6462248960.0000 - val_loss: 7678119424.0000\n",
      "Epoch 51/120\n",
      "\u001b[1m238/238\u001b[0m \u001b[32m━━━━━━━━━━━━━━━━━━━━\u001b[0m\u001b[37m\u001b[0m \u001b[1m0s\u001b[0m 1ms/step - loss: 6444509184.0000 - val_loss: 7720254976.0000\n",
      "Epoch 52/120\n",
      "\u001b[1m238/238\u001b[0m \u001b[32m━━━━━━━━━━━━━━━━━━━━\u001b[0m\u001b[37m\u001b[0m \u001b[1m0s\u001b[0m 2ms/step - loss: 6433287168.0000 - val_loss: 7817857536.0000\n",
      "Epoch 53/120\n",
      "\u001b[1m238/238\u001b[0m \u001b[32m━━━━━━━━━━━━━━━━━━━━\u001b[0m\u001b[37m\u001b[0m \u001b[1m0s\u001b[0m 1ms/step - loss: 6400845824.0000 - val_loss: 7690163712.0000\n",
      "Epoch 54/120\n",
      "\u001b[1m238/238\u001b[0m \u001b[32m━━━━━━━━━━━━━━━━━━━━\u001b[0m\u001b[37m\u001b[0m \u001b[1m0s\u001b[0m 1ms/step - loss: 6447709184.0000 - val_loss: 7709466112.0000\n",
      "Epoch 55/120\n",
      "\u001b[1m238/238\u001b[0m \u001b[32m━━━━━━━━━━━━━━━━━━━━\u001b[0m\u001b[37m\u001b[0m \u001b[1m0s\u001b[0m 1ms/step - loss: 6397429760.0000 - val_loss: 7718135808.0000\n",
      "Epoch 56/120\n",
      "\u001b[1m238/238\u001b[0m \u001b[32m━━━━━━━━━━━━━━━━━━━━\u001b[0m\u001b[37m\u001b[0m \u001b[1m0s\u001b[0m 1ms/step - loss: 6430448640.0000 - val_loss: 7768430592.0000\n",
      "Epoch 57/120\n",
      "\u001b[1m238/238\u001b[0m \u001b[32m━━━━━━━━━━━━━━━━━━━━\u001b[0m\u001b[37m\u001b[0m \u001b[1m0s\u001b[0m 1ms/step - loss: 6419578368.0000 - val_loss: 7822310912.0000\n",
      "Epoch 58/120\n",
      "\u001b[1m238/238\u001b[0m \u001b[32m━━━━━━━━━━━━━━━━━━━━\u001b[0m\u001b[37m\u001b[0m \u001b[1m0s\u001b[0m 2ms/step - loss: 6400822784.0000 - val_loss: 7734108160.0000\n",
      "Epoch 59/120\n",
      "\u001b[1m238/238\u001b[0m \u001b[32m━━━━━━━━━━━━━━━━━━━━\u001b[0m\u001b[37m\u001b[0m \u001b[1m0s\u001b[0m 2ms/step - loss: 6366365696.0000 - val_loss: 7704724992.0000\n",
      "Epoch 60/120\n",
      "\u001b[1m238/238\u001b[0m \u001b[32m━━━━━━━━━━━━━━━━━━━━\u001b[0m\u001b[37m\u001b[0m \u001b[1m0s\u001b[0m 2ms/step - loss: 6367288832.0000 - val_loss: 7682222592.0000\n",
      "Epoch 61/120\n",
      "\u001b[1m238/238\u001b[0m \u001b[32m━━━━━━━━━━━━━━━━━━━━\u001b[0m\u001b[37m\u001b[0m \u001b[1m0s\u001b[0m 2ms/step - loss: 6389801472.0000 - val_loss: 7674137088.0000\n",
      "Epoch 62/120\n",
      "\u001b[1m238/238\u001b[0m \u001b[32m━━━━━━━━━━━━━━━━━━━━\u001b[0m\u001b[37m\u001b[0m \u001b[1m1s\u001b[0m 2ms/step - loss: 6387870720.0000 - val_loss: 7737908224.0000\n",
      "Epoch 63/120\n",
      "\u001b[1m238/238\u001b[0m \u001b[32m━━━━━━━━━━━━━━━━━━━━\u001b[0m\u001b[37m\u001b[0m \u001b[1m0s\u001b[0m 2ms/step - loss: 6318538240.0000 - val_loss: 7694814720.0000\n",
      "Epoch 64/120\n",
      "\u001b[1m238/238\u001b[0m \u001b[32m━━━━━━━━━━━━━━━━━━━━\u001b[0m\u001b[37m\u001b[0m \u001b[1m0s\u001b[0m 2ms/step - loss: 6318760448.0000 - val_loss: 7756928000.0000\n",
      "Epoch 65/120\n",
      "\u001b[1m238/238\u001b[0m \u001b[32m━━━━━━━━━━━━━━━━━━━━\u001b[0m\u001b[37m\u001b[0m \u001b[1m1s\u001b[0m 2ms/step - loss: 6331376128.0000 - val_loss: 7682491904.0000\n",
      "Epoch 66/120\n",
      "\u001b[1m238/238\u001b[0m \u001b[32m━━━━━━━━━━━━━━━━━━━━\u001b[0m\u001b[37m\u001b[0m \u001b[1m0s\u001b[0m 2ms/step - loss: 6331109376.0000 - val_loss: 7704895488.0000\n",
      "Epoch 67/120\n",
      "\u001b[1m238/238\u001b[0m \u001b[32m━━━━━━━━━━━━━━━━━━━━\u001b[0m\u001b[37m\u001b[0m \u001b[1m0s\u001b[0m 2ms/step - loss: 6359067136.0000 - val_loss: 7673136640.0000\n",
      "Epoch 68/120\n",
      "\u001b[1m238/238\u001b[0m \u001b[32m━━━━━━━━━━━━━━━━━━━━\u001b[0m\u001b[37m\u001b[0m \u001b[1m0s\u001b[0m 2ms/step - loss: 6308002816.0000 - val_loss: 7675031040.0000\n",
      "Epoch 69/120\n",
      "\u001b[1m238/238\u001b[0m \u001b[32m━━━━━━━━━━━━━━━━━━━━\u001b[0m\u001b[37m\u001b[0m \u001b[1m0s\u001b[0m 2ms/step - loss: 6303781888.0000 - val_loss: 7669769216.0000\n",
      "Epoch 70/120\n",
      "\u001b[1m238/238\u001b[0m \u001b[32m━━━━━━━━━━━━━━━━━━━━\u001b[0m\u001b[37m\u001b[0m \u001b[1m0s\u001b[0m 2ms/step - loss: 6296994816.0000 - val_loss: 7728594432.0000\n",
      "Epoch 71/120\n",
      "\u001b[1m238/238\u001b[0m \u001b[32m━━━━━━━━━━━━━━━━━━━━\u001b[0m\u001b[37m\u001b[0m \u001b[1m1s\u001b[0m 2ms/step - loss: 6271704064.0000 - val_loss: 7729828352.0000\n",
      "Epoch 72/120\n",
      "\u001b[1m238/238\u001b[0m \u001b[32m━━━━━━━━━━━━━━━━━━━━\u001b[0m\u001b[37m\u001b[0m \u001b[1m0s\u001b[0m 1ms/step - loss: 6292121600.0000 - val_loss: 7875068928.0000\n",
      "Epoch 73/120\n",
      "\u001b[1m238/238\u001b[0m \u001b[32m━━━━━━━━━━━━━━━━━━━━\u001b[0m\u001b[37m\u001b[0m \u001b[1m0s\u001b[0m 2ms/step - loss: 6271962624.0000 - val_loss: 7857048576.0000\n",
      "Epoch 74/120\n",
      "\u001b[1m238/238\u001b[0m \u001b[32m━━━━━━━━━━━━━━━━━━━━\u001b[0m\u001b[37m\u001b[0m \u001b[1m0s\u001b[0m 2ms/step - loss: 6271693312.0000 - val_loss: 7710697984.0000\n",
      "Epoch 75/120\n",
      "\u001b[1m238/238\u001b[0m \u001b[32m━━━━━━━━━━━━━━━━━━━━\u001b[0m\u001b[37m\u001b[0m \u001b[1m0s\u001b[0m 2ms/step - loss: 6265285120.0000 - val_loss: 7771567616.0000\n",
      "Epoch 76/120\n",
      "\u001b[1m238/238\u001b[0m \u001b[32m━━━━━━━━━━━━━━━━━━━━\u001b[0m\u001b[37m\u001b[0m \u001b[1m0s\u001b[0m 2ms/step - loss: 6301927424.0000 - val_loss: 7737250816.0000\n",
      "Epoch 77/120\n",
      "\u001b[1m238/238\u001b[0m \u001b[32m━━━━━━━━━━━━━━━━━━━━\u001b[0m\u001b[37m\u001b[0m \u001b[1m0s\u001b[0m 1ms/step - loss: 6279669248.0000 - val_loss: 7752026624.0000\n",
      "Epoch 78/120\n",
      "\u001b[1m238/238\u001b[0m \u001b[32m━━━━━━━━━━━━━━━━━━━━\u001b[0m\u001b[37m\u001b[0m \u001b[1m0s\u001b[0m 2ms/step - loss: 6248178176.0000 - val_loss: 8020048896.0000\n",
      "Epoch 79/120\n",
      "\u001b[1m238/238\u001b[0m \u001b[32m━━━━━━━━━━━━━━━━━━━━\u001b[0m\u001b[37m\u001b[0m \u001b[1m0s\u001b[0m 1ms/step - loss: 6251025408.0000 - val_loss: 7684938752.0000\n",
      "Epoch 80/120\n",
      "\u001b[1m238/238\u001b[0m \u001b[32m━━━━━━━━━━━━━━━━━━━━\u001b[0m\u001b[37m\u001b[0m \u001b[1m0s\u001b[0m 2ms/step - loss: 6227170304.0000 - val_loss: 7683434496.0000\n",
      "Epoch 81/120\n",
      "\u001b[1m238/238\u001b[0m \u001b[32m━━━━━━━━━━━━━━━━━━━━\u001b[0m\u001b[37m\u001b[0m \u001b[1m1s\u001b[0m 2ms/step - loss: 6238730752.0000 - val_loss: 7672888832.0000\n",
      "Epoch 82/120\n",
      "\u001b[1m238/238\u001b[0m \u001b[32m━━━━━━━━━━━━━━━━━━━━\u001b[0m\u001b[37m\u001b[0m \u001b[1m0s\u001b[0m 2ms/step - loss: 6232219648.0000 - val_loss: 7757302784.0000\n",
      "Epoch 83/120\n",
      "\u001b[1m238/238\u001b[0m \u001b[32m━━━━━━━━━━━━━━━━━━━━\u001b[0m\u001b[37m\u001b[0m \u001b[1m0s\u001b[0m 2ms/step - loss: 6237090304.0000 - val_loss: 7718574592.0000\n",
      "Epoch 84/120\n",
      "\u001b[1m238/238\u001b[0m \u001b[32m━━━━━━━━━━━━━━━━━━━━\u001b[0m\u001b[37m\u001b[0m \u001b[1m0s\u001b[0m 1ms/step - loss: 6234356736.0000 - val_loss: 7740281856.0000\n",
      "Epoch 85/120\n",
      "\u001b[1m238/238\u001b[0m \u001b[32m━━━━━━━━━━━━━━━━━━━━\u001b[0m\u001b[37m\u001b[0m \u001b[1m0s\u001b[0m 1ms/step - loss: 6217496576.0000 - val_loss: 7672875008.0000\n",
      "Epoch 86/120\n",
      "\u001b[1m238/238\u001b[0m \u001b[32m━━━━━━━━━━━━━━━━━━━━\u001b[0m\u001b[37m\u001b[0m \u001b[1m0s\u001b[0m 2ms/step - loss: 6192860672.0000 - val_loss: 7723086336.0000\n",
      "Epoch 87/120\n",
      "\u001b[1m238/238\u001b[0m \u001b[32m━━━━━━━━━━━━━━━━━━━━\u001b[0m\u001b[37m\u001b[0m \u001b[1m0s\u001b[0m 1ms/step - loss: 6191045120.0000 - val_loss: 7764408320.0000\n",
      "Epoch 88/120\n",
      "\u001b[1m238/238\u001b[0m \u001b[32m━━━━━━━━━━━━━━━━━━━━\u001b[0m\u001b[37m\u001b[0m \u001b[1m0s\u001b[0m 2ms/step - loss: 6177069568.0000 - val_loss: 7770121216.0000\n",
      "Epoch 89/120\n",
      "\u001b[1m238/238\u001b[0m \u001b[32m━━━━━━━━━━━━━━━━━━━━\u001b[0m\u001b[37m\u001b[0m \u001b[1m0s\u001b[0m 2ms/step - loss: 6150730752.0000 - val_loss: 7909877248.0000\n",
      "Epoch 90/120\n",
      "\u001b[1m238/238\u001b[0m \u001b[32m━━━━━━━━━━━━━━━━━━━━\u001b[0m\u001b[37m\u001b[0m \u001b[1m0s\u001b[0m 2ms/step - loss: 6247596032.0000 - val_loss: 7748502016.0000\n",
      "Epoch 91/120\n",
      "\u001b[1m238/238\u001b[0m \u001b[32m━━━━━━━━━━━━━━━━━━━━\u001b[0m\u001b[37m\u001b[0m \u001b[1m0s\u001b[0m 2ms/step - loss: 6180128256.0000 - val_loss: 8164743680.0000\n",
      "Epoch 92/120\n",
      "\u001b[1m238/238\u001b[0m \u001b[32m━━━━━━━━━━━━━━━━━━━━\u001b[0m\u001b[37m\u001b[0m \u001b[1m0s\u001b[0m 2ms/step - loss: 6156728320.0000 - val_loss: 7720662528.0000\n",
      "Epoch 93/120\n",
      "\u001b[1m238/238\u001b[0m \u001b[32m━━━━━━━━━━━━━━━━━━━━\u001b[0m\u001b[37m\u001b[0m \u001b[1m1s\u001b[0m 2ms/step - loss: 6147691008.0000 - val_loss: 7693817856.0000\n",
      "Epoch 94/120\n",
      "\u001b[1m238/238\u001b[0m \u001b[32m━━━━━━━━━━━━━━━━━━━━\u001b[0m\u001b[37m\u001b[0m \u001b[1m0s\u001b[0m 1ms/step - loss: 6180351488.0000 - val_loss: 7719781888.0000\n",
      "Epoch 95/120\n",
      "\u001b[1m238/238\u001b[0m \u001b[32m━━━━━━━━━━━━━━━━━━━━\u001b[0m\u001b[37m\u001b[0m \u001b[1m0s\u001b[0m 2ms/step - loss: 6139965952.0000 - val_loss: 7796729856.0000\n",
      "Epoch 96/120\n",
      "\u001b[1m238/238\u001b[0m \u001b[32m━━━━━━━━━━━━━━━━━━━━\u001b[0m\u001b[37m\u001b[0m \u001b[1m0s\u001b[0m 2ms/step - loss: 6126917632.0000 - val_loss: 7785409536.0000\n",
      "Epoch 97/120\n",
      "\u001b[1m238/238\u001b[0m \u001b[32m━━━━━━━━━━━━━━━━━━━━\u001b[0m\u001b[37m\u001b[0m \u001b[1m0s\u001b[0m 2ms/step - loss: 6153621504.0000 - val_loss: 8205172224.0000\n",
      "Epoch 98/120\n",
      "\u001b[1m238/238\u001b[0m \u001b[32m━━━━━━━━━━━━━━━━━━━━\u001b[0m\u001b[37m\u001b[0m \u001b[1m0s\u001b[0m 2ms/step - loss: 6113141248.0000 - val_loss: 7771789824.0000\n",
      "Epoch 99/120\n",
      "\u001b[1m238/238\u001b[0m \u001b[32m━━━━━━━━━━━━━━━━━━━━\u001b[0m\u001b[37m\u001b[0m \u001b[1m0s\u001b[0m 2ms/step - loss: 6123909120.0000 - val_loss: 7852127232.0000\n",
      "Epoch 100/120\n",
      "\u001b[1m238/238\u001b[0m \u001b[32m━━━━━━━━━━━━━━━━━━━━\u001b[0m\u001b[37m\u001b[0m \u001b[1m0s\u001b[0m 1ms/step - loss: 6121640960.0000 - val_loss: 7658090496.0000\n",
      "Epoch 101/120\n",
      "\u001b[1m238/238\u001b[0m \u001b[32m━━━━━━━━━━━━━━━━━━━━\u001b[0m\u001b[37m\u001b[0m \u001b[1m0s\u001b[0m 2ms/step - loss: 6127241216.0000 - val_loss: 7744616960.0000\n",
      "Epoch 102/120\n",
      "\u001b[1m238/238\u001b[0m \u001b[32m━━━━━━━━━━━━━━━━━━━━\u001b[0m\u001b[37m\u001b[0m \u001b[1m0s\u001b[0m 2ms/step - loss: 6088510464.0000 - val_loss: 7743805440.0000\n",
      "Epoch 103/120\n",
      "\u001b[1m238/238\u001b[0m \u001b[32m━━━━━━━━━━━━━━━━━━━━\u001b[0m\u001b[37m\u001b[0m \u001b[1m0s\u001b[0m 1ms/step - loss: 6112102400.0000 - val_loss: 8125425152.0000\n",
      "Epoch 104/120\n",
      "\u001b[1m238/238\u001b[0m \u001b[32m━━━━━━━━━━━━━━━━━━━━\u001b[0m\u001b[37m\u001b[0m \u001b[1m0s\u001b[0m 2ms/step - loss: 6111280128.0000 - val_loss: 7751735296.0000\n",
      "Epoch 105/120\n",
      "\u001b[1m238/238\u001b[0m \u001b[32m━━━━━━━━━━━━━━━━━━━━\u001b[0m\u001b[37m\u001b[0m \u001b[1m0s\u001b[0m 2ms/step - loss: 6080767488.0000 - val_loss: 7828041728.0000\n",
      "Epoch 106/120\n",
      "\u001b[1m238/238\u001b[0m \u001b[32m━━━━━━━━━━━━━━━━━━━━\u001b[0m\u001b[37m\u001b[0m \u001b[1m1s\u001b[0m 2ms/step - loss: 6070306816.0000 - val_loss: 7748343296.0000\n",
      "Epoch 107/120\n",
      "\u001b[1m238/238\u001b[0m \u001b[32m━━━━━━━━━━━━━━━━━━━━\u001b[0m\u001b[37m\u001b[0m \u001b[1m0s\u001b[0m 2ms/step - loss: 6070559744.0000 - val_loss: 7704218624.0000\n",
      "Epoch 108/120\n",
      "\u001b[1m238/238\u001b[0m \u001b[32m━━━━━━━━━━━━━━━━━━━━\u001b[0m\u001b[37m\u001b[0m \u001b[1m0s\u001b[0m 2ms/step - loss: 6037566464.0000 - val_loss: 7848350208.0000\n",
      "Epoch 109/120\n",
      "\u001b[1m238/238\u001b[0m \u001b[32m━━━━━━━━━━━━━━━━━━━━\u001b[0m\u001b[37m\u001b[0m \u001b[1m0s\u001b[0m 2ms/step - loss: 6037295616.0000 - val_loss: 7808151040.0000\n",
      "Epoch 110/120\n",
      "\u001b[1m238/238\u001b[0m \u001b[32m━━━━━━━━━━━━━━━━━━━━\u001b[0m\u001b[37m\u001b[0m \u001b[1m1s\u001b[0m 2ms/step - loss: 6045415424.0000 - val_loss: 7687634432.0000\n",
      "Epoch 111/120\n",
      "\u001b[1m238/238\u001b[0m \u001b[32m━━━━━━━━━━━━━━━━━━━━\u001b[0m\u001b[37m\u001b[0m \u001b[1m0s\u001b[0m 1ms/step - loss: 6053956608.0000 - val_loss: 7667664384.0000\n",
      "Epoch 112/120\n",
      "\u001b[1m238/238\u001b[0m \u001b[32m━━━━━━━━━━━━━━━━━━━━\u001b[0m\u001b[37m\u001b[0m \u001b[1m0s\u001b[0m 2ms/step - loss: 6043093504.0000 - val_loss: 7781382656.0000\n",
      "Epoch 113/120\n",
      "\u001b[1m238/238\u001b[0m \u001b[32m━━━━━━━━━━━━━━━━━━━━\u001b[0m\u001b[37m\u001b[0m \u001b[1m0s\u001b[0m 2ms/step - loss: 6036599296.0000 - val_loss: 7821579264.0000\n",
      "Epoch 114/120\n",
      "\u001b[1m238/238\u001b[0m \u001b[32m━━━━━━━━━━━━━━━━━━━━\u001b[0m\u001b[37m\u001b[0m \u001b[1m0s\u001b[0m 1ms/step - loss: 6057624064.0000 - val_loss: 7680172544.0000\n",
      "Epoch 115/120\n",
      "\u001b[1m238/238\u001b[0m \u001b[32m━━━━━━━━━━━━━━━━━━━━\u001b[0m\u001b[37m\u001b[0m \u001b[1m0s\u001b[0m 2ms/step - loss: 6053212672.0000 - val_loss: 7687268864.0000\n",
      "Epoch 116/120\n",
      "\u001b[1m238/238\u001b[0m \u001b[32m━━━━━━━━━━━━━━━━━━━━\u001b[0m\u001b[37m\u001b[0m \u001b[1m0s\u001b[0m 2ms/step - loss: 6005435904.0000 - val_loss: 7676821504.0000\n",
      "Epoch 117/120\n",
      "\u001b[1m238/238\u001b[0m \u001b[32m━━━━━━━━━━━━━━━━━━━━\u001b[0m\u001b[37m\u001b[0m \u001b[1m0s\u001b[0m 2ms/step - loss: 6014441984.0000 - val_loss: 7692097024.0000\n",
      "Epoch 118/120\n",
      "\u001b[1m238/238\u001b[0m \u001b[32m━━━━━━━━━━━━━━━━━━━━\u001b[0m\u001b[37m\u001b[0m \u001b[1m0s\u001b[0m 1ms/step - loss: 5999057408.0000 - val_loss: 7735118848.0000\n",
      "Epoch 119/120\n",
      "\u001b[1m238/238\u001b[0m \u001b[32m━━━━━━━━━━━━━━━━━━━━\u001b[0m\u001b[37m\u001b[0m \u001b[1m0s\u001b[0m 1ms/step - loss: 6000407552.0000 - val_loss: 7700692480.0000\n",
      "Epoch 120/120\n",
      "\u001b[1m238/238\u001b[0m \u001b[32m━━━━━━━━━━━━━━━━━━━━\u001b[0m\u001b[37m\u001b[0m \u001b[1m0s\u001b[0m 2ms/step - loss: 5974647296.0000 - val_loss: 8018087424.0000\n"
     ]
    }
   ],
   "source": [
    "history=model.fit(x_train,y_train, validation_data=(x_test,y_test), batch_size=64, verbose=1, epochs=120)"
   ]
  },
  {
   "cell_type": "code",
   "execution_count": 58,
   "id": "5316f273-569a-45f5-93e0-88d4ae285880",
   "metadata": {},
   "outputs": [
    {
     "name": "stdout",
     "output_type": "stream",
     "text": [
      "\u001b[1m119/119\u001b[0m \u001b[32m━━━━━━━━━━━━━━━━━━━━\u001b[0m\u001b[37m\u001b[0m \u001b[1m0s\u001b[0m 1ms/step   \n"
     ]
    }
   ],
   "source": [
    "tahmin=model.predict(x_test)"
   ]
  },
  {
   "cell_type": "code",
   "execution_count": 59,
   "id": "a24d7509-ed8f-4ed2-9de8-af1bb983d6d0",
   "metadata": {},
   "outputs": [],
   "source": [
    "from sklearn.metrics import r2_score, mean_squared_error"
   ]
  },
  {
   "cell_type": "code",
   "execution_count": 60,
   "id": "330a3d6b-95ca-4633-a4d0-e71efdc991c8",
   "metadata": {},
   "outputs": [
    {
     "data": {
      "text/plain": [
       "0.8433682918548584"
      ]
     },
     "execution_count": 60,
     "metadata": {},
     "output_type": "execute_result"
    }
   ],
   "source": [
    "r2_score(y_test,tahmin)"
   ]
  },
  {
   "cell_type": "code",
   "execution_count": 62,
   "id": "6cd5b14d-a140-4fdf-a860-a9d52c71f810",
   "metadata": {},
   "outputs": [
    {
     "data": {
      "text/plain": [
       "89543.76806902868"
      ]
     },
     "execution_count": 62,
     "metadata": {},
     "output_type": "execute_result"
    }
   ],
   "source": [
    "mean_squared_error(y_test,tahmin)**.5"
   ]
  },
  {
   "cell_type": "code",
   "execution_count": 64,
   "id": "61431190-1eff-459d-96a3-69ee5b4019b2",
   "metadata": {
    "scrolled": true
   },
   "outputs": [
    {
     "data": {
      "image/png": "[encoded data removed]",
      "text/plain": [
       "<Figure size 640x480 with 1 Axes>"
      ]
     },
     "metadata": {},
     "output_type": "display_data"
    }
   ],
   "source": [
    "plt.plot(history.history['loss']);"
   ]
  },
  {
   "cell_type": "markdown",
   "id": "1efb1f87-7bd8-46c1-99af-354ca6d71202",
   "metadata": {},
   "source": [
    "#### _Early Stopping - Önceden Dur_"
   ]
  },
  {
   "cell_type": "code",
   "execution_count": 66,
   "id": "167fbee9-4b32-464a-bc6d-91273b8a3af9",
   "metadata": {},
   "outputs": [],
   "source": [
    "df=pd.read_excel('cars.xls')"
   ]
  },
  {
   "cell_type": "code",
   "execution_count": 67,
   "id": "d4845112-44c2-4189-8af8-5a1f4912f32b",
   "metadata": {},
   "outputs": [],
   "source": [
    "x=df.drop('Price',axis=1)\n",
    "y=df[['Price']]"
   ]
  },
  {
   "cell_type": "code",
   "execution_count": 68,
   "id": "90378955-0cd8-43d5-9e73-2c2542fbd0b6",
   "metadata": {},
   "outputs": [
    {
     "data": {
      "text/html": [
       "<div>\n",
       "<style scoped>\n",
       "    .dataframe tbody tr th:only-of-type {\n",
       "        vertical-align: middle;\n",
       "    }\n",
       "\n",
       "    .dataframe tbody tr th {\n",
       "        vertical-align: top;\n",
       "    }\n",
       "\n",
       "    .dataframe thead th {\n",
       "        text-align: right;\n",
       "    }\n",
       "</style>\n",
       "<table border=\"1\" class=\"dataframe\">\n",
       "  <thead>\n",
       "    <tr style=\"text-align: right;\">\n",
       "      <th></th>\n",
       "      <th>Mileage</th>\n",
       "      <th>Make</th>\n",
       "      <th>Model</th>\n",
       "      <th>Trim</th>\n",
       "      <th>Type</th>\n",
       "      <th>Cylinder</th>\n",
       "      <th>Liter</th>\n",
       "      <th>Doors</th>\n",
       "      <th>Cruise</th>\n",
       "      <th>Sound</th>\n",
       "      <th>Leather</th>\n",
       "    </tr>\n",
       "  </thead>\n",
       "  <tbody>\n",
       "    <tr>\n",
       "      <th>0</th>\n",
       "      <td>8221</td>\n",
       "      <td>Buick</td>\n",
       "      <td>Century</td>\n",
       "      <td>Sedan 4D</td>\n",
       "      <td>Sedan</td>\n",
       "      <td>6</td>\n",
       "      <td>3.1</td>\n",
       "      <td>4</td>\n",
       "      <td>1</td>\n",
       "      <td>1</td>\n",
       "      <td>1</td>\n",
       "    </tr>\n",
       "    <tr>\n",
       "      <th>1</th>\n",
       "      <td>9135</td>\n",
       "      <td>Buick</td>\n",
       "      <td>Century</td>\n",
       "      <td>Sedan 4D</td>\n",
       "      <td>Sedan</td>\n",
       "      <td>6</td>\n",
       "      <td>3.1</td>\n",
       "      <td>4</td>\n",
       "      <td>1</td>\n",
       "      <td>1</td>\n",
       "      <td>0</td>\n",
       "    </tr>\n",
       "    <tr>\n",
       "      <th>2</th>\n",
       "      <td>13196</td>\n",
       "      <td>Buick</td>\n",
       "      <td>Century</td>\n",
       "      <td>Sedan 4D</td>\n",
       "      <td>Sedan</td>\n",
       "      <td>6</td>\n",
       "      <td>3.1</td>\n",
       "      <td>4</td>\n",
       "      <td>1</td>\n",
       "      <td>1</td>\n",
       "      <td>0</td>\n",
       "    </tr>\n",
       "    <tr>\n",
       "      <th>3</th>\n",
       "      <td>16342</td>\n",
       "      <td>Buick</td>\n",
       "      <td>Century</td>\n",
       "      <td>Sedan 4D</td>\n",
       "      <td>Sedan</td>\n",
       "      <td>6</td>\n",
       "      <td>3.1</td>\n",
       "      <td>4</td>\n",
       "      <td>1</td>\n",
       "      <td>0</td>\n",
       "      <td>0</td>\n",
       "    </tr>\n",
       "    <tr>\n",
       "      <th>4</th>\n",
       "      <td>19832</td>\n",
       "      <td>Buick</td>\n",
       "      <td>Century</td>\n",
       "      <td>Sedan 4D</td>\n",
       "      <td>Sedan</td>\n",
       "      <td>6</td>\n",
       "      <td>3.1</td>\n",
       "      <td>4</td>\n",
       "      <td>1</td>\n",
       "      <td>0</td>\n",
       "      <td>1</td>\n",
       "    </tr>\n",
       "  </tbody>\n",
       "</table>\n",
       "</div>"
      ],
      "text/plain": [
       "   Mileage   Make    Model      Trim   Type  Cylinder  Liter  Doors  Cruise  \\\n",
       "0     8221  Buick  Century  Sedan 4D  Sedan         6    3.1      4       1   \n",
       "1     9135  Buick  Century  Sedan 4D  Sedan         6    3.1      4       1   \n",
       "2    13196  Buick  Century  Sedan 4D  Sedan         6    3.1      4       1   \n",
       "3    16342  Buick  Century  Sedan 4D  Sedan         6    3.1      4       1   \n",
       "4    19832  Buick  Century  Sedan 4D  Sedan         6    3.1      4       1   \n",
       "\n",
       "   Sound  Leather  \n",
       "0      1        1  \n",
       "1      1        0  \n",
       "2      1        0  \n",
       "3      0        0  \n",
       "4      0        1  "
      ]
     },
     "execution_count": 68,
     "metadata": {},
     "output_type": "execute_result"
    }
   ],
   "source": [
    "x.head()"
   ]
  },
  {
   "cell_type": "code",
   "execution_count": 71,
   "id": "80274022-e714-4c88-8269-46dc835705ba",
   "metadata": {},
   "outputs": [],
   "source": [
    "x=pd.get_dummies(x,drop_first=True)"
   ]
  },
  {
   "cell_type": "code",
   "execution_count": 73,
   "id": "9fcee927-fb90-4c0b-90b9-46f3167b7772",
   "metadata": {},
   "outputs": [],
   "source": [
    "x=scaler.fit_transform(x) # normalization"
   ]
  },
  {
   "cell_type": "code",
   "execution_count": 75,
   "id": "853c50a9-dde1-4246-826e-a8a22ea8211e",
   "metadata": {},
   "outputs": [],
   "source": [
    "model=Sequential()\n",
    "model.add(Dense(64, activation='relu')) \n",
    "model.add(Dense(128, activation='relu')) \n",
    "model.add(Dense(256, activation='relu')) \n",
    "model.add(Dense(128, activation='relu')) \n",
    "model.add(Dense(64, activation='relu')) \n",
    "model.add(Dense(32, activation='relu')) \n",
    "model.add(Dense(1))\n",
    "model.compile(loss='mean_squared_error', optimizer='adam')"
   ]
  },
  {
   "cell_type": "code",
   "execution_count": 76,
   "id": "282a385b-678c-4ab7-90c4-0b9efd07a736",
   "metadata": {},
   "outputs": [],
   "source": [
    "from tensorflow.keras.callbacks import EarlyStopping"
   ]
  },
  {
   "cell_type": "code",
   "execution_count": 78,
   "id": "2fade47a-524e-43bf-8666-d283c8f117db",
   "metadata": {},
   "outputs": [],
   "source": [
    "early_stop=EarlyStopping(monitor='val_loss', patience=10)"
   ]
  },
  {
   "cell_type": "code",
   "execution_count": 79,
   "id": "124c1ad6-6988-465d-9ce4-50bedc009f38",
   "metadata": {
    "scrolled": true
   },
   "outputs": [
    {
     "name": "stdout",
     "output_type": "stream",
     "text": [
      "Epoch 1/130\n",
      "\u001b[1m476/476\u001b[0m \u001b[32m━━━━━━━━━━━━━━━━━━━━\u001b[0m\u001b[37m\u001b[0m \u001b[1m2s\u001b[0m 2ms/step - loss: 49976274944.0000 - val_loss: 9213989888.0000\n",
      "Epoch 2/130\n",
      "\u001b[1m476/476\u001b[0m \u001b[32m━━━━━━━━━━━━━━━━━━━━\u001b[0m\u001b[37m\u001b[0m \u001b[1m1s\u001b[0m 2ms/step - loss: 8204155904.0000 - val_loss: 8737305600.0000\n",
      "Epoch 3/130\n",
      "\u001b[1m476/476\u001b[0m \u001b[32m━━━━━━━━━━━━━━━━━━━━\u001b[0m\u001b[37m\u001b[0m \u001b[1m1s\u001b[0m 1ms/step - loss: 7883341824.0000 - val_loss: 8494246912.0000\n",
      "Epoch 4/130\n",
      "\u001b[1m476/476\u001b[0m \u001b[32m━━━━━━━━━━━━━━━━━━━━\u001b[0m\u001b[37m\u001b[0m \u001b[1m1s\u001b[0m 1ms/step - loss: 7613939200.0000 - val_loss: 8163002368.0000\n",
      "Epoch 5/130\n",
      "\u001b[1m476/476\u001b[0m \u001b[32m━━━━━━━━━━━━━━━━━━━━\u001b[0m\u001b[37m\u001b[0m \u001b[1m1s\u001b[0m 2ms/step - loss: 7628744192.0000 - val_loss: 8037019648.0000\n",
      "Epoch 6/130\n",
      "\u001b[1m476/476\u001b[0m \u001b[32m━━━━━━━━━━━━━━━━━━━━\u001b[0m\u001b[37m\u001b[0m \u001b[1m1s\u001b[0m 1ms/step - loss: 7441200128.0000 - val_loss: 8056925696.0000\n",
      "Epoch 7/130\n",
      "\u001b[1m476/476\u001b[0m \u001b[32m━━━━━━━━━━━━━━━━━━━━\u001b[0m\u001b[37m\u001b[0m \u001b[1m1s\u001b[0m 1ms/step - loss: 7397389824.0000 - val_loss: 7980560896.0000\n",
      "Epoch 8/130\n",
      "\u001b[1m476/476\u001b[0m \u001b[32m━━━━━━━━━━━━━━━━━━━━\u001b[0m\u001b[37m\u001b[0m \u001b[1m1s\u001b[0m 1ms/step - loss: 7351659008.0000 - val_loss: 8016366592.0000\n",
      "Epoch 9/130\n",
      "\u001b[1m476/476\u001b[0m \u001b[32m━━━━━━━━━━━━━━━━━━━━\u001b[0m\u001b[37m\u001b[0m \u001b[1m1s\u001b[0m 1ms/step - loss: 7293404672.0000 - val_loss: 7897161216.0000\n",
      "Epoch 10/130\n",
      "\u001b[1m476/476\u001b[0m \u001b[32m━━━━━━━━━━━━━━━━━━━━\u001b[0m\u001b[37m\u001b[0m \u001b[1m1s\u001b[0m 1ms/step - loss: 7189622784.0000 - val_loss: 7839717376.0000\n",
      "Epoch 11/130\n",
      "\u001b[1m476/476\u001b[0m \u001b[32m━━━━━━━━━━━━━━━━━━━━\u001b[0m\u001b[37m\u001b[0m \u001b[1m1s\u001b[0m 2ms/step - loss: 7155763200.0000 - val_loss: 7902469120.0000\n",
      "Epoch 12/130\n",
      "\u001b[1m476/476\u001b[0m \u001b[32m━━━━━━━━━━━━━━━━━━━━\u001b[0m\u001b[37m\u001b[0m \u001b[1m1s\u001b[0m 1ms/step - loss: 7076065280.0000 - val_loss: 7928590336.0000\n",
      "Epoch 13/130\n",
      "\u001b[1m476/476\u001b[0m \u001b[32m━━━━━━━━━━━━━━━━━━━━\u001b[0m\u001b[37m\u001b[0m \u001b[1m1s\u001b[0m 1ms/step - loss: 6996205056.0000 - val_loss: 8276801024.0000\n",
      "Epoch 14/130\n",
      "\u001b[1m476/476\u001b[0m \u001b[32m━━━━━━━━━━━━━━━━━━━━\u001b[0m\u001b[37m\u001b[0m \u001b[1m1s\u001b[0m 2ms/step - loss: 7087162880.0000 - val_loss: 9069548544.0000\n",
      "Epoch 15/130\n",
      "\u001b[1m476/476\u001b[0m \u001b[32m━━━━━━━━━━━━━━━━━━━━\u001b[0m\u001b[37m\u001b[0m \u001b[1m1s\u001b[0m 1ms/step - loss: 6955164160.0000 - val_loss: 7890242048.0000\n",
      "Epoch 16/130\n",
      "\u001b[1m476/476\u001b[0m \u001b[32m━━━━━━━━━━━━━━━━━━━━\u001b[0m\u001b[37m\u001b[0m \u001b[1m1s\u001b[0m 2ms/step - loss: 6903353856.0000 - val_loss: 7896475136.0000\n",
      "Epoch 17/130\n",
      "\u001b[1m476/476\u001b[0m \u001b[32m━━━━━━━━━━━━━━━━━━━━\u001b[0m\u001b[37m\u001b[0m \u001b[1m1s\u001b[0m 1ms/step - loss: 6985474048.0000 - val_loss: 8152116736.0000\n",
      "Epoch 18/130\n",
      "\u001b[1m476/476\u001b[0m \u001b[32m━━━━━━━━━━━━━━━━━━━━\u001b[0m\u001b[37m\u001b[0m \u001b[1m1s\u001b[0m 1ms/step - loss: 6892346368.0000 - val_loss: 7785119744.0000\n",
      "Epoch 19/130\n",
      "\u001b[1m476/476\u001b[0m \u001b[32m━━━━━━━━━━━━━━━━━━━━\u001b[0m\u001b[37m\u001b[0m \u001b[1m1s\u001b[0m 2ms/step - loss: 6868051968.0000 - val_loss: 7796091904.0000\n",
      "Epoch 20/130\n",
      "\u001b[1m476/476\u001b[0m \u001b[32m━━━━━━━━━━━━━━━━━━━━\u001b[0m\u001b[37m\u001b[0m \u001b[1m1s\u001b[0m 2ms/step - loss: 6873279488.0000 - val_loss: 7844977152.0000\n",
      "Epoch 21/130\n",
      "\u001b[1m476/476\u001b[0m \u001b[32m━━━━━━━━━━━━━━━━━━━━\u001b[0m\u001b[37m\u001b[0m \u001b[1m1s\u001b[0m 2ms/step - loss: 6851917312.0000 - val_loss: 7916482560.0000\n",
      "Epoch 22/130\n",
      "\u001b[1m476/476\u001b[0m \u001b[32m━━━━━━━━━━━━━━━━━━━━\u001b[0m\u001b[37m\u001b[0m \u001b[1m1s\u001b[0m 1ms/step - loss: 6777275904.0000 - val_loss: 8643442688.0000\n",
      "Epoch 23/130\n",
      "\u001b[1m476/476\u001b[0m \u001b[32m━━━━━━━━━━━━━━━━━━━━\u001b[0m\u001b[37m\u001b[0m \u001b[1m1s\u001b[0m 2ms/step - loss: 6843022336.0000 - val_loss: 7976612864.0000\n",
      "Epoch 24/130\n",
      "\u001b[1m476/476\u001b[0m \u001b[32m━━━━━━━━━━━━━━━━━━━━\u001b[0m\u001b[37m\u001b[0m \u001b[1m1s\u001b[0m 1ms/step - loss: 6789147648.0000 - val_loss: 9968013312.0000\n",
      "Epoch 25/130\n",
      "\u001b[1m476/476\u001b[0m \u001b[32m━━━━━━━━━━━━━━━━━━━━\u001b[0m\u001b[37m\u001b[0m \u001b[1m1s\u001b[0m 1ms/step - loss: 6800024576.0000 - val_loss: 7837072896.0000\n",
      "Epoch 26/130\n",
      "\u001b[1m476/476\u001b[0m \u001b[32m━━━━━━━━━━━━━━━━━━━━\u001b[0m\u001b[37m\u001b[0m \u001b[1m1s\u001b[0m 1ms/step - loss: 6740959232.0000 - val_loss: 8067025920.0000\n",
      "Epoch 27/130\n",
      "\u001b[1m476/476\u001b[0m \u001b[32m━━━━━━━━━━━━━━━━━━━━\u001b[0m\u001b[37m\u001b[0m \u001b[1m1s\u001b[0m 1ms/step - loss: 6707115008.0000 - val_loss: 7965747200.0000\n",
      "Epoch 28/130\n",
      "\u001b[1m476/476\u001b[0m \u001b[32m━━━━━━━━━━━━━━━━━━━━\u001b[0m\u001b[37m\u001b[0m \u001b[1m1s\u001b[0m 1ms/step - loss: 6707069952.0000 - val_loss: 7679301120.0000\n",
      "Epoch 29/130\n",
      "\u001b[1m476/476\u001b[0m \u001b[32m━━━━━━━━━━━━━━━━━━━━\u001b[0m\u001b[37m\u001b[0m \u001b[1m1s\u001b[0m 2ms/step - loss: 6700813312.0000 - val_loss: 8013967360.0000\n",
      "Epoch 30/130\n",
      "\u001b[1m476/476\u001b[0m \u001b[32m━━━━━━━━━━━━━━━━━━━━\u001b[0m\u001b[37m\u001b[0m \u001b[1m1s\u001b[0m 1ms/step - loss: 6731635712.0000 - val_loss: 7731380224.0000\n",
      "Epoch 31/130\n",
      "\u001b[1m476/476\u001b[0m \u001b[32m━━━━━━━━━━━━━━━━━━━━\u001b[0m\u001b[37m\u001b[0m \u001b[1m1s\u001b[0m 1ms/step - loss: 6683245568.0000 - val_loss: 8001242112.0000\n",
      "Epoch 32/130\n",
      "\u001b[1m476/476\u001b[0m \u001b[32m━━━━━━━━━━━━━━━━━━━━\u001b[0m\u001b[37m\u001b[0m \u001b[1m1s\u001b[0m 1ms/step - loss: 6671554048.0000 - val_loss: 8103419392.0000\n",
      "Epoch 33/130\n",
      "\u001b[1m476/476\u001b[0m \u001b[32m━━━━━━━━━━━━━━━━━━━━\u001b[0m\u001b[37m\u001b[0m \u001b[1m1s\u001b[0m 1ms/step - loss: 6629315072.0000 - val_loss: 7761385472.0000\n",
      "Epoch 34/130\n",
      "\u001b[1m476/476\u001b[0m \u001b[32m━━━━━━━━━━━━━━━━━━━━\u001b[0m\u001b[37m\u001b[0m \u001b[1m1s\u001b[0m 2ms/step - loss: 6569329152.0000 - val_loss: 7778300416.0000\n",
      "Epoch 35/130\n",
      "\u001b[1m476/476\u001b[0m \u001b[32m━━━━━━━━━━━━━━━━━━━━\u001b[0m\u001b[37m\u001b[0m \u001b[1m1s\u001b[0m 2ms/step - loss: 6605456896.0000 - val_loss: 8045218816.0000\n",
      "Epoch 36/130\n",
      "\u001b[1m476/476\u001b[0m \u001b[32m━━━━━━━━━━━━━━━━━━━━\u001b[0m\u001b[37m\u001b[0m \u001b[1m1s\u001b[0m 2ms/step - loss: 6565581824.0000 - val_loss: 8146281472.0000\n",
      "Epoch 37/130\n",
      "\u001b[1m476/476\u001b[0m \u001b[32m━━━━━━━━━━━━━━━━━━━━\u001b[0m\u001b[37m\u001b[0m \u001b[1m1s\u001b[0m 2ms/step - loss: 6607391232.0000 - val_loss: 9496016896.0000\n",
      "Epoch 38/130\n",
      "\u001b[1m476/476\u001b[0m \u001b[32m━━━━━━━━━━━━━━━━━━━━\u001b[0m\u001b[37m\u001b[0m \u001b[1m1s\u001b[0m 1ms/step - loss: 6625398272.0000 - val_loss: 7889885184.0000\n"
     ]
    }
   ],
   "source": [
    "history=model.fit(x_train,y_train, validation_data=(x_test,y_test), epochs=130,batch_size=32,callbacks=[early_stop],verbose=1)"
   ]
  },
  {
   "cell_type": "code",
   "execution_count": 80,
   "id": "03aea036-2fb6-4950-aac1-0a45e15e5023",
   "metadata": {},
   "outputs": [
    {
     "name": "stdout",
     "output_type": "stream",
     "text": [
      "\u001b[1m119/119\u001b[0m \u001b[32m━━━━━━━━━━━━━━━━━━━━\u001b[0m\u001b[37m\u001b[0m \u001b[1m0s\u001b[0m 1ms/step \n"
     ]
    }
   ],
   "source": [
    "tahmin=model.predict(x_test)"
   ]
  },
  {
   "cell_type": "code",
   "execution_count": 81,
   "id": "6d13ebb7-33c1-43f8-9ae1-e65a33e61473",
   "metadata": {},
   "outputs": [
    {
     "data": {
      "text/plain": [
       "0.823106586933136"
      ]
     },
     "execution_count": 81,
     "metadata": {},
     "output_type": "execute_result"
    }
   ],
   "source": [
    "r2_score(tahmin,y_test)"
   ]
  },
  {
   "cell_type": "markdown",
   "id": "601f0723-b4f6-4698-82bc-dd469b479293",
   "metadata": {},
   "source": [
    "#### _Torch_"
   ]
  },
  {
   "cell_type": "code",
   "execution_count": 85,
   "id": "529f8283-f6d1-496f-9f9f-b29d5cdc2534",
   "metadata": {},
   "outputs": [
    {
     "name": "stdout",
     "output_type": "stream",
     "text": [
      "Requirement already satisfied: torch in c:\\users\\13tua\\anaconda3\\lib\\site-packages (2.9.0)\n",
      "Requirement already satisfied: filelock in c:\\users\\13tua\\anaconda3\\lib\\site-packages (from torch) (3.17.0)\n",
      "Requirement already satisfied: typing-extensions>=4.10.0 in c:\\users\\13tua\\anaconda3\\lib\\site-packages (from torch) (4.12.2)\n",
      "Requirement already satisfied: sympy>=1.13.3 in c:\\users\\13tua\\anaconda3\\lib\\site-packages (from torch) (1.13.3)\n",
      "Requirement already satisfied: networkx>=2.5.1 in c:\\users\\13tua\\anaconda3\\lib\\site-packages (from torch) (3.4.2)\n",
      "Requirement already satisfied: jinja2 in c:\\users\\13tua\\anaconda3\\lib\\site-packages (from torch) (3.1.6)\n",
      "Requirement already satisfied: fsspec>=0.8.5 in c:\\users\\13tua\\anaconda3\\lib\\site-packages (from torch) (2025.3.2)\n",
      "Requirement already satisfied: setuptools in c:\\users\\13tua\\anaconda3\\lib\\site-packages (from torch) (72.1.0)\n",
      "Requirement already satisfied: mpmath<1.4,>=1.1.0 in c:\\users\\13tua\\anaconda3\\lib\\site-packages (from sympy>=1.13.3->torch) (1.3.0)\n",
      "Requirement already satisfied: MarkupSafe>=2.0 in c:\\users\\13tua\\anaconda3\\lib\\site-packages (from jinja2->torch) (3.0.2)\n",
      "Note: you may need to restart the kernel to use updated packages.\n"
     ]
    }
   ],
   "source": [
    "pip install torch"
   ]
  },
  {
   "cell_type": "code",
   "execution_count": 90,
   "id": "db360512-2e0a-4604-bfae-c3e38b65a957",
   "metadata": {},
   "outputs": [
    {
     "ename": "ValueError",
     "evalue": "optimizer got an empty parameter list",
     "output_type": "error",
     "traceback": [
      "\u001b[1;31m---------------------------------------------------------------------------\u001b[0m",
      "\u001b[1;31mValueError\u001b[0m                                Traceback (most recent call last)",
      "Cell \u001b[1;32mIn[90], line 53\u001b[0m\n\u001b[0;32m     51\u001b[0m model \u001b[38;5;241m=\u001b[39m NeuralNetwork()\n\u001b[0;32m     52\u001b[0m criterion \u001b[38;5;241m=\u001b[39m nn\u001b[38;5;241m.\u001b[39mMSELoss()\n\u001b[1;32m---> 53\u001b[0m optimizer \u001b[38;5;241m=\u001b[39m optim\u001b[38;5;241m.\u001b[39mAdam(model\u001b[38;5;241m.\u001b[39mparameters())\n\u001b[0;32m     55\u001b[0m \u001b[38;5;66;03m# Training the model\u001b[39;00m\n\u001b[0;32m     56\u001b[0m num_epochs \u001b[38;5;241m=\u001b[39m \u001b[38;5;241m130\u001b[39m\n",
      "File \u001b[1;32m~\\anaconda3\\Lib\\site-packages\\torch\\optim\\adam.py:101\u001b[0m, in \u001b[0;36mAdam.__init__\u001b[1;34m(self, params, lr, betas, eps, weight_decay, amsgrad, foreach, maximize, capturable, differentiable, fused, decoupled_weight_decay)\u001b[0m\n\u001b[0;32m     86\u001b[0m         \u001b[38;5;28;01mraise\u001b[39;00m \u001b[38;5;167;01mValueError\u001b[39;00m(\u001b[38;5;124m\"\u001b[39m\u001b[38;5;124mTensor betas[1] must be 1-element\u001b[39m\u001b[38;5;124m\"\u001b[39m)\n\u001b[0;32m     88\u001b[0m defaults \u001b[38;5;241m=\u001b[39m {\n\u001b[0;32m     89\u001b[0m     \u001b[38;5;124m\"\u001b[39m\u001b[38;5;124mlr\u001b[39m\u001b[38;5;124m\"\u001b[39m: lr,\n\u001b[0;32m     90\u001b[0m     \u001b[38;5;124m\"\u001b[39m\u001b[38;5;124mbetas\u001b[39m\u001b[38;5;124m\"\u001b[39m: betas,\n\u001b[1;32m   (...)\u001b[0m\n\u001b[0;32m     99\u001b[0m     \u001b[38;5;124m\"\u001b[39m\u001b[38;5;124mdecoupled_weight_decay\u001b[39m\u001b[38;5;124m\"\u001b[39m: decoupled_weight_decay,\n\u001b[0;32m    100\u001b[0m }\n\u001b[1;32m--> 101\u001b[0m \u001b[38;5;28msuper\u001b[39m()\u001b[38;5;241m.\u001b[39m\u001b[38;5;21m__init__\u001b[39m(params, defaults)\n\u001b[0;32m    103\u001b[0m \u001b[38;5;28;01mif\u001b[39;00m fused:\n\u001b[0;32m    104\u001b[0m     \u001b[38;5;28;01mif\u001b[39;00m differentiable:\n",
      "File \u001b[1;32m~\\anaconda3\\Lib\\site-packages\\torch\\optim\\optimizer.py:396\u001b[0m, in \u001b[0;36mOptimizer.__init__\u001b[1;34m(self, params, defaults)\u001b[0m\n\u001b[0;32m    394\u001b[0m param_groups \u001b[38;5;241m=\u001b[39m \u001b[38;5;28mlist\u001b[39m(params)\n\u001b[0;32m    395\u001b[0m \u001b[38;5;28;01mif\u001b[39;00m \u001b[38;5;28mlen\u001b[39m(param_groups) \u001b[38;5;241m==\u001b[39m \u001b[38;5;241m0\u001b[39m:\n\u001b[1;32m--> 396\u001b[0m     \u001b[38;5;28;01mraise\u001b[39;00m \u001b[38;5;167;01mValueError\u001b[39;00m(\u001b[38;5;124m\"\u001b[39m\u001b[38;5;124moptimizer got an empty parameter list\u001b[39m\u001b[38;5;124m\"\u001b[39m)\n\u001b[0;32m    397\u001b[0m \u001b[38;5;28;01mif\u001b[39;00m \u001b[38;5;129;01mnot\u001b[39;00m \u001b[38;5;28misinstance\u001b[39m(param_groups[\u001b[38;5;241m0\u001b[39m], \u001b[38;5;28mdict\u001b[39m):\n\u001b[0;32m    398\u001b[0m     param_groups \u001b[38;5;241m=\u001b[39m [{\u001b[38;5;124m\"\u001b[39m\u001b[38;5;124mparams\u001b[39m\u001b[38;5;124m\"\u001b[39m: param_groups}]\n",
      "\u001b[1;31mValueError\u001b[0m: optimizer got an empty parameter list"
     ]
    }
   ],
   "source": [
    "import pandas as pd\n",
    "import torch\n",
    "import torch.nn as nn\n",
    "import torch.optim as optim\n",
    "from sklearn.model_selection import train_test_split\n",
    "from sklearn.preprocessing import StandardScaler\n",
    "\n",
    "# Assuming df is your DataFrame\n",
    "x = df.drop('Price', axis=1)\n",
    "y = df[['Price']]\n",
    "\n",
    "# One-hot encoding\n",
    "x = pd.get_dummies(x, drop_first=True)\n",
    "\n",
    "# Splitting the data\n",
    "x_train, x_test, y_train, y_test = train_test_split(x, y, test_size=0.2, random_state=42)\n",
    "\n",
    "# Standardizing the data\n",
    "scaler = StandardScaler()\n",
    "x_train = scaler.fit_transform(x_train)\n",
    "x_test = scaler.transform(x_test)\n",
    "\n",
    "# Convert to PyTorch tensors\n",
    "x_train_tensor = torch.tensor(x_train, dtype=torch.float32)\n",
    "x_test_tensor = torch.tensor(x_test, dtype=torch.float32)\n",
    "y_train_tensor = torch.tensor(y_train.values, dtype=torch.float32)\n",
    "y_test_tensor = torch.tensor(y_test.values, dtype=torch.float32)\n",
    "\n",
    "# Define the model\n",
    "class NeuralNetwork(nn.Module):\n",
    "    def _init_(self):\n",
    "        super(NeuralNetwork, self)._init_()\n",
    "        self.fc1 = nn.Linear(x_train.shape[1], 64)\n",
    "        self.fc2 = nn.Linear(64, 128)\n",
    "        self.fc3 = nn.Linear(128, 256)\n",
    "        self.fc4 = nn.Linear(256, 128)\n",
    "        self.fc5 = nn.Linear(128, 64)\n",
    "        self.fc6 = nn.Linear(64, 32)\n",
    "        self.fc7 = nn.Linear(32, 1)\n",
    "\n",
    "    def forward(self, x):\n",
    "        x = nn.ReLU()(self.fc1(x))\n",
    "        x = nn.ReLU()(self.fc2(x))\n",
    "        x = nn.ReLU()(self.fc3(x))\n",
    "        x = nn.ReLU()(self.fc4(x))\n",
    "        x = nn.ReLU()(self.fc5(x))\n",
    "        x = nn.ReLU()(self.fc6(x))\n",
    "        return self.fc7(x)\n",
    "\n",
    "# Initialize the model, loss function, and optimizer\n",
    "model = NeuralNetwork()\n",
    "criterion = nn.MSELoss()\n",
    "optimizer = optim.Adam(model.parameters())\n",
    "\n",
    "# Training the model\n",
    "num_epochs = 130\n",
    "batch_size = 32\n",
    "\n",
    "# Convert data to DataLoader for batching\n",
    "train_data = torch.utils.data.TensorDataset(x_train_tensor, y_train_tensor)\n",
    "train_loader = torch.utils.data.DataLoader(train_data, batch_size=batch_size, shuffle=True)\n",
    "\n",
    "# Early stopping variables\n",
    "best_loss = float('inf')\n",
    "patience = 10\n",
    "patience_counter = 0\n",
    "\n",
    "for epoch in range(num_epochs):\n",
    "    model.train()\n",
    "    for batch_x, batch_y in train_loader:\n",
    "        optimizer.zero_grad()\n",
    "        outputs = model(batch_x)\n",
    "        loss = criterion(outputs, batch_y)\n",
    "        loss.backward()\n",
    "        optimizer.step()\n",
    "    \n",
    "    # Validation\n",
    "    model.eval()\n",
    "    with torch.no_grad():\n",
    "        val_outputs = model(x_test_tensor)\n",
    "        val_loss = criterion(val_outputs, y_test_tensor)\n",
    "    \n",
    "    print(f'Epoch [{epoch + 1}/{num_epochs}], Loss: {loss.item():.4f}, Val Loss: {val_loss.item():.4f}')\n",
    "    \n",
    "    # Early stopping\n",
    "    if val_loss < best_loss:\n",
    "        best_loss = val_loss\n",
    "        patience_counter = 0\n",
    "    else:\n",
    "        patience_counter += 1\n",
    "        if patience_counter >= patience:\n",
    "            print(\"Early stopping triggered.\")\n",
    "            break"
   ]
  },
  {
   "cell_type": "code",
   "execution_count": null,
   "id": "d6142bd5-8ed8-4033-bccb-a5769fa5b8a0",
   "metadata": {},
   "outputs": [],
   "source": []
  }
 ],
 "metadata": {
  "kernelspec": {
   "display_name": "Python [conda env:base] *",
   "language": "python",
   "name": "conda-base-py"
  },
  "language_info": {
   "codemirror_mode": {
    "name": "ipython",
    "version": 3
   },
   "file_extension": ".py",
   "mimetype": "text/x-python",
   "name": "python",
   "nbconvert_exporter": "python",
   "pygments_lexer": "ipython3",
   "version": "3.13.5"
  }
 },
 "nbformat": 4,
 "nbformat_minor": 5
}
