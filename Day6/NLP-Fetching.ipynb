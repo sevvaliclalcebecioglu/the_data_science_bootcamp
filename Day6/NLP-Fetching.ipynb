{
 "cells": [
  {
   "cell_type": "markdown",
   "id": "273fe726-1921-4ec8-92fb-3becac366d41",
   "metadata": {},
   "source": [
    "# _Natural Language Processing - Doğal Dil İşleme_"
   ]
  },
  {
   "cell_type": "markdown",
   "id": "360c0914-880c-460c-9985-8c973555c83f",
   "metadata": {
    "jp-MarkdownHeadingCollapsed": true
   },
   "source": [
    "#### _1- Word Dökümanlarını Okumak_"
   ]
  },
  {
   "cell_type": "code",
   "execution_count": 2,
   "id": "98c819dc-b460-49ec-834f-dc7deccae25e",
   "metadata": {},
   "outputs": [],
   "source": [
    "#pip install docx2txt"
   ]
  },
  {
   "cell_type": "code",
   "execution_count": 3,
   "id": "64125019-6042-4b43-99c3-c6130d49cded",
   "metadata": {},
   "outputs": [],
   "source": [
    "import docx2txt as wd"
   ]
  },
  {
   "cell_type": "code",
   "execution_count": 4,
   "id": "5cb9b757-4e0b-4234-9542-b46f8d882f6c",
   "metadata": {},
   "outputs": [],
   "source": [
    "kosey=wd.process('boszaman.docx')"
   ]
  },
  {
   "cell_type": "code",
   "execution_count": 6,
   "id": "6d13c3b6-98b4-4d28-afc0-bce8a425899f",
   "metadata": {
    "scrolled": true
   },
   "outputs": [
    {
     "data": {
      "text/plain": [
       "\"Boş zamanınıza talibim\\n\\nNewton mekaniğine göre zaman her yerde aynıdır. Yani zaman herkes için aynı işler. Fakat Einstein için herkesin zamanı farklıdır ve lokaldir. Einstein ayrıca zamanı 3 boyutlu uzayın 4. boyutu olarak kabul eder. Özel görelilik teorisine göre herkes kendi zamanını yaşar. İkiz kardeşlerden birini yüksek hızlarda uzaya göndersek ve kendi zaman diliminde birkaç yıl süren yolculuk yapsa, geri geldiğinde kardeşini 100 yaşında bulabilir. Hatta  Dünya’da 10 bin yıl bile geçmiş olabilir. Mesela 30 yaşındaki bir baba, 3 yaşındaki oğlunu Dünya’da bırakıp ışık hızına yakın bir hızla hareket eden bir uzay aracına binse ve 3 yıl sonra dönse, bu üç yıl oğlu için 30 yıl olabilir. Böylece baba da oğul da 33 yaşında yani aynı yaşta olur..  \\n\\n\\n\\nBilim dünyasında zamanın başlangıcının ‘Big Bang’ yani Büyük Patlama ile olduğu kabul edilir. Bilime göre ‘Büyük Patlama’dan önce ne vardı?’ sorusu mantıksızdır. Zaman o zaman başlamış ise öncesi yoktur. Bilim insanları bütün bu evrenin yoktan var olma sürecini 10 üzeri -43 saniye olarak hesaplamışlardır. Yani bir saniyeyi alıp bir trilyona böleceksiniz, çıkan sonucu tekrar bir trilyona ve tekrar bir trilyona ve bir milyona böleceksiniz. Bu zaman bilinen en kısa zamandır. \\n\\n\\n\\nAslında bir saniye bizim için “bir” diyecek kadar geçen bir süredir fakat bu sürede ışık Dünyanın çevresini 7 kez dolanır ve birazda dinlenir. Bazı atomaltı parçacıklar için bir saniye çok uzun bir süredir ve ömürleri bir saniye yaşamaya yetmez. Avrupa Nükleer Araştırma Merkezi CERN’de yapılan deneylerde up kuark, down kuark ve elektron dışında neredeyse bütün parçacıklar saniyenin milyarda birinde veya daha kısa sürede var olup, yaşayıp, ölüyorlar ve başka bir parçacığa dönüşüyorlar. Yine CERN’de bulunan Atlas Dedektörü bir saniyede 40 milyon resim çekmektedir ve bir kaç petabyte veri kaydetmektedir. Görüldüğü gibi 40 milyon resim çekmek çok büyük iştir ve bir saniye çok uzun bir zamandır. Karadeliklerde ise zaman durur ve saat hep şimdiyi gösterir.\\n\\n\\n\\nZaman konusu açıldığında benim aklıma hep Massachusetts Teknoloji Enstitüsü'nden fizikçi Max Tegmark gelir. Ona göre geçmiş zaman, şimdiki zaman ve gelecek zaman hep aynı yerdedir. Hayatımız aslında zaten çekimi bitmiş bir film ve biz filmin kaydedildiği DVD yani uzay zaman içerisinde hapsedilmişiz. Çekimi bitmiş bir filmin içerisinde dramalar yaşanırken dışarısında bir değişiklik olamaz. Herhangi bir anda geçmişin zaten geçmişte kaldığı ve geleceğin henüz var olmadığı yanılsamasına veya illüzyonuna sahibiz. Öyle ya filmlerde bize bir dünya gösteriliyor. Zaman içerisinde bir pencere ve biz o filmi izlerken farklı bir zaman diliminde film içerisinde günler ve hatta yıllar geçerken biz o filmi bir saatte izleyip bitiriyoruz. O filmin içerisinde kar yağarken sinema salonunda da kar yağmıyor. Dolayısı ile hayatımız bir illüzyon.\\n\\n\\n\\nAhmet Hamdi Tanpınar bir şiirinde “Ne içindeyim zamanın, Ne de büsbütün dışında; Yekpâre, geniş bir ânın Parçalanmaz akışında” der. Bazılarına göre ölenler zamanın dışına çıkmıştır, kalanlar ise zaman hisarında mahsur kalmışlardır. Amerika’da ise ‘zaman=para’dır.\\n\\n\\n\\nNormal şartlar altında insanlar günde 8 saat çalışır, 8 saat uyur ve kalan 8 saat ise kendisine aittir. Bazı insanlar uyuma için ayrılan 8 saatten birkaç saat çalıp eğlenceye veya iş saatinden çalıp uykuya transferler yapabilir fakat bir gün biz faniler için 24 saattir. İş ve uykudan arta kalan 8 saatlik sürede insanlar yemek yer, televizyon izler, oyun oynar, dostlarıyla sohbet eder, sevdiği müzikleri dinler, tuttuğu takımın maçını izler, sosyal medyada varlığını hissettirir, partilere gider, eğlence merkezlerinde gezer tozar, dindar ise ibadet eder veya vaaz dinler, bazıları kitap okur ancak bu zaman insanın en değerli varlığıdır. Harcanan parayı geri kazanabiliriz fakat giden zamanı asla geri getiremeyiz. Bazıları bu son kısma kalan 8 saati “boş zaman” olarak tarif eder ve bu yazı da işte o boş zamanınıza talip\\n\\n\\n\\nEn büyük teknoloji şirketleri, eğlence dünyası, filmler, diziler, televizyon kanalları bizim uyku ve işten arta kalan boş zamanımıza talipler. Diziler bu kadar izlenme oranlarını bizim zamanlarımızı çalarak yakalıyorlar ve kazandıkları paralar arada izlediğimiz reklamlara bağlı. Milyar dolarlık müzik dünyası bizim o boş zamanımızda yaptıklarımızdan doğuyor ve bu sürede harcadığımız paralardan besleniyor. Bu sayede sanatçılar özel uçaklara binip ülke ülke gezebiliyorlar. Yine bu milyar dolarlık bilgisayar oyunları boş zamanımıza talip ve gençlerimizin eline geçen parayı bu oyunlara yatırmasından beslenerek milyar dolarlık cirolara ulaşıyorlar. Trilyon dolarlık futbol sektörü yine bizim boş zamanımızı harcamamızdan besleniyor. Stadyumu dolduran ve boş zamanını maç izleyerek geçiren kalabalık olmasa futbolcular milyonlarca dolara transfer edilemez ve rağbet görmezler.\\n\\n\\n\\nBenim ilginç bulduğum noktalardan birisi de zaten duyduğumuz şeyleri tekrar tekrar televizyon kanallarından izleyip durmamız. Mesela çocuğunuzun hep ilkokul birinci sınıfta kalmasını ve her yıl aynı şeyleri tekrar tekrar okumasını ister misiniz? Ben istemezdim. Ancak televizyon programlarında zaten izlemiş olduğunuz maçın özetini ve gollerini tekrar tekrar izliyorsunuz. Sonucunu zaten biliyorsunuz. Üç yıl önce izlediğiniz diziyi tekrar tekrar izliyorsunuz. Bir de televizyonlarda tartışma programları var. Hükümet Karadenizde 320 milyar metreküp doğalgaz bulunduğunu açıklıyor. Aynı konuşmayı herkes dinlemiş ve meseleyi kavramış olmasına rağmen günün akşamında bir de açık oturumlar oluyor ve aynı açıklamayı evire çevire tekrar tekrar anlatıyorlar ve biz de bu konuşulanları saatlerce izliyoruz. Program bittiğinde 320 milyar metreküp gaz bulunmasından öte bir şey söylenmiyor. Bir de hep aynı insanlar sürekli konuşuyor ve en değerli hazinemiz olan zamanımızdan 2 saatimizin boşa gittiğini görüyoruz. Bu da yetmiyor gece yarısı aynı program tekrar veriliyor ve aynı insanlar aynı konuşmaları tekrar izliyor. Çifte zaman kaybı olmasından öte zaten sonucunu bildiğiniz konular için bu kadar zaman kaybı niye?\\n\\n\\n\\nHal böyle olunca bu boş zamanımızı kim daha çok çalarsa geleceğin zenginleri de onlar olacaklar. Büyük şirketler, televizyonlar, sosyal medya ve diğerleri bizim boş zamanımıza talip. Ben de diyorum ki akıllı olalım ve boş zamanımızı boş işlerle, gereksiz siyasi tartışmalara boşa harcamayalım. Bu boş zamanımızda geleceğin teknolojisi yapay zekâyı öğrenelim ve  geleceği yakalayalım.\""
      ]
     },
     "execution_count": 6,
     "metadata": {},
     "output_type": "execute_result"
    }
   ],
   "source": [
    "kosey"
   ]
  },
  {
   "cell_type": "code",
   "execution_count": 9,
   "id": "795aac6e-eec8-43d4-ae1f-f3520a29beae",
   "metadata": {
    "scrolled": true
   },
   "outputs": [
    {
     "name": "stdout",
     "output_type": "stream",
     "text": [
      "Boş zamanınıza talibim\n",
      "Newton mekaniğine göre zaman her yerde aynıdır. Yani zaman herkes için aynı işler. Fakat Einstein için herkesin zamanı farklıdır ve lokaldir. Einstein ayrıca zamanı 3 boyutlu uzayın 4. boyutu olarak kabul eder. Özel görelilik teorisine göre herkes kendi zamanını yaşar. İkiz kardeşlerden birini yüksek hızlarda uzaya göndersek ve kendi zaman diliminde birkaç yıl süren yolculuk yapsa, geri geldiğinde kardeşini 100 yaşında bulabilir. Hatta  Dünya’da 10 bin yıl bile geçmiş olabilir. Mesela 30 yaşındaki bir baba, 3 yaşındaki oğlunu Dünya’da bırakıp ışık hızına yakın bir hızla hareket eden bir uzay aracına binse ve 3 yıl sonra dönse, bu üç yıl oğlu için 30 yıl olabilir. Böylece baba da oğul da 33 yaşında yani aynı yaşta olur..  \n",
      "\n",
      "Bilim dünyasında zamanın başlangıcının ‘Big Bang’ yani Büyük Patlama ile olduğu kabul edilir. Bilime göre ‘Büyük Patlama’dan önce ne vardı?’ sorusu mantıksızdır. Zaman o zaman başlamış ise öncesi yoktur. Bilim insanları bütün bu evrenin yoktan var olma sürecini 10 üzeri -43 saniye olarak hesaplamışlardır. Yani bir saniyeyi alıp bir trilyona böleceksiniz, çıkan sonucu tekrar bir trilyona ve tekrar bir trilyona ve bir milyona böleceksiniz. Bu zaman bilinen en kısa zamandır. \n",
      "\n",
      "Aslında bir saniye bizim için “bir” diyecek kadar geçen bir süredir fakat bu sürede ışık Dünyanın çevresini 7 kez dolanır ve birazda dinlenir. Bazı atomaltı parçacıklar için bir saniye çok uzun bir süredir ve ömürleri bir saniye yaşamaya yetmez. Avrupa Nükleer Araştırma Merkezi CERN’de yapılan deneylerde up kuark, down kuark ve elektron dışında neredeyse bütün parçacıklar saniyenin milyarda birinde veya daha kısa sürede var olup, yaşayıp, ölüyorlar ve başka bir parçacığa dönüşüyorlar. Yine CERN’de bulunan Atlas Dedektörü bir saniyede 40 milyon resim çekmektedir ve bir kaç petabyte veri kaydetmektedir. Görüldüğü gibi 40 milyon resim çekmek çok büyük iştir ve bir saniye çok uzun bir zamandır. Karadeliklerde ise zaman durur ve saat hep şimdiyi gösterir.\n",
      "\n",
      "Zaman konusu açıldığında benim aklıma hep Massachusetts Teknoloji Enstitüsü'nden fizikçi Max Tegmark gelir. Ona göre geçmiş zaman, şimdiki zaman ve gelecek zaman hep aynı yerdedir. Hayatımız aslında zaten çekimi bitmiş bir film ve biz filmin kaydedildiği DVD yani uzay zaman içerisinde hapsedilmişiz. Çekimi bitmiş bir filmin içerisinde dramalar yaşanırken dışarısında bir değişiklik olamaz. Herhangi bir anda geçmişin zaten geçmişte kaldığı ve geleceğin henüz var olmadığı yanılsamasına veya illüzyonuna sahibiz. Öyle ya filmlerde bize bir dünya gösteriliyor. Zaman içerisinde bir pencere ve biz o filmi izlerken farklı bir zaman diliminde film içerisinde günler ve hatta yıllar geçerken biz o filmi bir saatte izleyip bitiriyoruz. O filmin içerisinde kar yağarken sinema salonunda da kar yağmıyor. Dolayısı ile hayatımız bir illüzyon.\n",
      "\n",
      "Ahmet Hamdi Tanpınar bir şiirinde “Ne içindeyim zamanın, Ne de büsbütün dışında; Yekpâre, geniş bir ânın Parçalanmaz akışında” der. Bazılarına göre ölenler zamanın dışına çıkmıştır, kalanlar ise zaman hisarında mahsur kalmışlardır. Amerika’da ise ‘zaman=para’dır.\n",
      "\n",
      "Normal şartlar altında insanlar günde 8 saat çalışır, 8 saat uyur ve kalan 8 saat ise kendisine aittir. Bazı insanlar uyuma için ayrılan 8 saatten birkaç saat çalıp eğlenceye veya iş saatinden çalıp uykuya transferler yapabilir fakat bir gün biz faniler için 24 saattir. İş ve uykudan arta kalan 8 saatlik sürede insanlar yemek yer, televizyon izler, oyun oynar, dostlarıyla sohbet eder, sevdiği müzikleri dinler, tuttuğu takımın maçını izler, sosyal medyada varlığını hissettirir, partilere gider, eğlence merkezlerinde gezer tozar, dindar ise ibadet eder veya vaaz dinler, bazıları kitap okur ancak bu zaman insanın en değerli varlığıdır. Harcanan parayı geri kazanabiliriz fakat giden zamanı asla geri getiremeyiz. Bazıları bu son kısma kalan 8 saati “boş zaman” olarak tarif eder ve bu yazı da işte o boş zamanınıza talip\n",
      "\n",
      "En büyük teknoloji şirketleri, eğlence dünyası, filmler, diziler, televizyon kanalları bizim uyku ve işten arta kalan boş zamanımıza talipler. Diziler bu kadar izlenme oranlarını bizim zamanlarımızı çalarak yakalıyorlar ve kazandıkları paralar arada izlediğimiz reklamlara bağlı. Milyar dolarlık müzik dünyası bizim o boş zamanımızda yaptıklarımızdan doğuyor ve bu sürede harcadığımız paralardan besleniyor. Bu sayede sanatçılar özel uçaklara binip ülke ülke gezebiliyorlar. Yine bu milyar dolarlık bilgisayar oyunları boş zamanımıza talip ve gençlerimizin eline geçen parayı bu oyunlara yatırmasından beslenerek milyar dolarlık cirolara ulaşıyorlar. Trilyon dolarlık futbol sektörü yine bizim boş zamanımızı harcamamızdan besleniyor. Stadyumu dolduran ve boş zamanını maç izleyerek geçiren kalabalık olmasa futbolcular milyonlarca dolara transfer edilemez ve rağbet görmezler.\n",
      "\n",
      "Benim ilginç bulduğum noktalardan birisi de zaten duyduğumuz şeyleri tekrar tekrar televizyon kanallarından izleyip durmamız. Mesela çocuğunuzun hep ilkokul birinci sınıfta kalmasını ve her yıl aynı şeyleri tekrar tekrar okumasını ister misiniz? Ben istemezdim. Ancak televizyon programlarında zaten izlemiş olduğunuz maçın özetini ve gollerini tekrar tekrar izliyorsunuz. Sonucunu zaten biliyorsunuz. Üç yıl önce izlediğiniz diziyi tekrar tekrar izliyorsunuz. Bir de televizyonlarda tartışma programları var. Hükümet Karadenizde 320 milyar metreküp doğalgaz bulunduğunu açıklıyor. Aynı konuşmayı herkes dinlemiş ve meseleyi kavramış olmasına rağmen günün akşamında bir de açık oturumlar oluyor ve aynı açıklamayı evire çevire tekrar tekrar anlatıyorlar ve biz de bu konuşulanları saatlerce izliyoruz. Program bittiğinde 320 milyar metreküp gaz bulunmasından öte bir şey söylenmiyor. Bir de hep aynı insanlar sürekli konuşuyor ve en değerli hazinemiz olan zamanımızdan 2 saatimizin boşa gittiğini görüyoruz. Bu da yetmiyor gece yarısı aynı program tekrar veriliyor ve aynı insanlar aynı konuşmaları tekrar izliyor. Çifte zaman kaybı olmasından öte zaten sonucunu bildiğiniz konular için bu kadar zaman kaybı niye?\n",
      "\n",
      "Hal böyle olunca bu boş zamanımızı kim daha çok çalarsa geleceğin zenginleri de onlar olacaklar. Büyük şirketler, televizyonlar, sosyal medya ve diğerleri bizim boş zamanımıza talip. Ben de diyorum ki akıllı olalım ve boş zamanımızı boş işlerle, gereksiz siyasi tartışmalara boşa harcamayalım. Bu boş zamanımızda geleceğin teknolojisi yapay zekâyı öğrenelim ve  geleceği yakalayalım.\n"
     ]
    }
   ],
   "source": [
    "for p in kosey.split('\\n\\n'):\n",
    "    print(p)\n",
    "\n",
    "# bu uzun bi çözüm. ama örnek olarak baktık. paragarfta \\n\\n olan yerlerde aşağıya geç komutu yazdırdık. daha düzgün bi görünüm elde etmiş olduk."
   ]
  },
  {
   "cell_type": "code",
   "execution_count": 10,
   "id": "798b2e5e-7058-461f-9c66-8b3e22f19ba6",
   "metadata": {
    "scrolled": true
   },
   "outputs": [
    {
     "data": {
      "text/plain": [
       "\"boş zamanınıza talibim\\n\\nnewton mekaniğine göre zaman her yerde aynıdır. yani zaman herkes için aynı işler. fakat einstein için herkesin zamanı farklıdır ve lokaldir. einstein ayrıca zamanı 3 boyutlu uzayın 4. boyutu olarak kabul eder. özel görelilik teorisine göre herkes kendi zamanını yaşar. i̇kiz kardeşlerden birini yüksek hızlarda uzaya göndersek ve kendi zaman diliminde birkaç yıl süren yolculuk yapsa, geri geldiğinde kardeşini 100 yaşında bulabilir. hatta  dünya’da 10 bin yıl bile geçmiş olabilir. mesela 30 yaşındaki bir baba, 3 yaşındaki oğlunu dünya’da bırakıp ışık hızına yakın bir hızla hareket eden bir uzay aracına binse ve 3 yıl sonra dönse, bu üç yıl oğlu için 30 yıl olabilir. böylece baba da oğul da 33 yaşında yani aynı yaşta olur..  \\n\\n\\n\\nbilim dünyasında zamanın başlangıcının ‘big bang’ yani büyük patlama ile olduğu kabul edilir. bilime göre ‘büyük patlama’dan önce ne vardı?’ sorusu mantıksızdır. zaman o zaman başlamış ise öncesi yoktur. bilim insanları bütün bu evrenin yoktan var olma sürecini 10 üzeri -43 saniye olarak hesaplamışlardır. yani bir saniyeyi alıp bir trilyona böleceksiniz, çıkan sonucu tekrar bir trilyona ve tekrar bir trilyona ve bir milyona böleceksiniz. bu zaman bilinen en kısa zamandır. \\n\\n\\n\\naslında bir saniye bizim için “bir” diyecek kadar geçen bir süredir fakat bu sürede ışık dünyanın çevresini 7 kez dolanır ve birazda dinlenir. bazı atomaltı parçacıklar için bir saniye çok uzun bir süredir ve ömürleri bir saniye yaşamaya yetmez. avrupa nükleer araştırma merkezi cern’de yapılan deneylerde up kuark, down kuark ve elektron dışında neredeyse bütün parçacıklar saniyenin milyarda birinde veya daha kısa sürede var olup, yaşayıp, ölüyorlar ve başka bir parçacığa dönüşüyorlar. yine cern’de bulunan atlas dedektörü bir saniyede 40 milyon resim çekmektedir ve bir kaç petabyte veri kaydetmektedir. görüldüğü gibi 40 milyon resim çekmek çok büyük iştir ve bir saniye çok uzun bir zamandır. karadeliklerde ise zaman durur ve saat hep şimdiyi gösterir.\\n\\n\\n\\nzaman konusu açıldığında benim aklıma hep massachusetts teknoloji enstitüsü'nden fizikçi max tegmark gelir. ona göre geçmiş zaman, şimdiki zaman ve gelecek zaman hep aynı yerdedir. hayatımız aslında zaten çekimi bitmiş bir film ve biz filmin kaydedildiği dvd yani uzay zaman içerisinde hapsedilmişiz. çekimi bitmiş bir filmin içerisinde dramalar yaşanırken dışarısında bir değişiklik olamaz. herhangi bir anda geçmişin zaten geçmişte kaldığı ve geleceğin henüz var olmadığı yanılsamasına veya illüzyonuna sahibiz. öyle ya filmlerde bize bir dünya gösteriliyor. zaman içerisinde bir pencere ve biz o filmi izlerken farklı bir zaman diliminde film içerisinde günler ve hatta yıllar geçerken biz o filmi bir saatte izleyip bitiriyoruz. o filmin içerisinde kar yağarken sinema salonunda da kar yağmıyor. dolayısı ile hayatımız bir illüzyon.\\n\\n\\n\\nahmet hamdi tanpınar bir şiirinde “ne içindeyim zamanın, ne de büsbütün dışında; yekpâre, geniş bir ânın parçalanmaz akışında” der. bazılarına göre ölenler zamanın dışına çıkmıştır, kalanlar ise zaman hisarında mahsur kalmışlardır. amerika’da ise ‘zaman=para’dır.\\n\\n\\n\\nnormal şartlar altında insanlar günde 8 saat çalışır, 8 saat uyur ve kalan 8 saat ise kendisine aittir. bazı insanlar uyuma için ayrılan 8 saatten birkaç saat çalıp eğlenceye veya iş saatinden çalıp uykuya transferler yapabilir fakat bir gün biz faniler için 24 saattir. i̇ş ve uykudan arta kalan 8 saatlik sürede insanlar yemek yer, televizyon izler, oyun oynar, dostlarıyla sohbet eder, sevdiği müzikleri dinler, tuttuğu takımın maçını izler, sosyal medyada varlığını hissettirir, partilere gider, eğlence merkezlerinde gezer tozar, dindar ise ibadet eder veya vaaz dinler, bazıları kitap okur ancak bu zaman insanın en değerli varlığıdır. harcanan parayı geri kazanabiliriz fakat giden zamanı asla geri getiremeyiz. bazıları bu son kısma kalan 8 saati “boş zaman” olarak tarif eder ve bu yazı da işte o boş zamanınıza talip\\n\\n\\n\\nen büyük teknoloji şirketleri, eğlence dünyası, filmler, diziler, televizyon kanalları bizim uyku ve işten arta kalan boş zamanımıza talipler. diziler bu kadar izlenme oranlarını bizim zamanlarımızı çalarak yakalıyorlar ve kazandıkları paralar arada izlediğimiz reklamlara bağlı. milyar dolarlık müzik dünyası bizim o boş zamanımızda yaptıklarımızdan doğuyor ve bu sürede harcadığımız paralardan besleniyor. bu sayede sanatçılar özel uçaklara binip ülke ülke gezebiliyorlar. yine bu milyar dolarlık bilgisayar oyunları boş zamanımıza talip ve gençlerimizin eline geçen parayı bu oyunlara yatırmasından beslenerek milyar dolarlık cirolara ulaşıyorlar. trilyon dolarlık futbol sektörü yine bizim boş zamanımızı harcamamızdan besleniyor. stadyumu dolduran ve boş zamanını maç izleyerek geçiren kalabalık olmasa futbolcular milyonlarca dolara transfer edilemez ve rağbet görmezler.\\n\\n\\n\\nbenim ilginç bulduğum noktalardan birisi de zaten duyduğumuz şeyleri tekrar tekrar televizyon kanallarından izleyip durmamız. mesela çocuğunuzun hep ilkokul birinci sınıfta kalmasını ve her yıl aynı şeyleri tekrar tekrar okumasını ister misiniz? ben istemezdim. ancak televizyon programlarında zaten izlemiş olduğunuz maçın özetini ve gollerini tekrar tekrar izliyorsunuz. sonucunu zaten biliyorsunuz. üç yıl önce izlediğiniz diziyi tekrar tekrar izliyorsunuz. bir de televizyonlarda tartışma programları var. hükümet karadenizde 320 milyar metreküp doğalgaz bulunduğunu açıklıyor. aynı konuşmayı herkes dinlemiş ve meseleyi kavramış olmasına rağmen günün akşamında bir de açık oturumlar oluyor ve aynı açıklamayı evire çevire tekrar tekrar anlatıyorlar ve biz de bu konuşulanları saatlerce izliyoruz. program bittiğinde 320 milyar metreküp gaz bulunmasından öte bir şey söylenmiyor. bir de hep aynı insanlar sürekli konuşuyor ve en değerli hazinemiz olan zamanımızdan 2 saatimizin boşa gittiğini görüyoruz. bu da yetmiyor gece yarısı aynı program tekrar veriliyor ve aynı insanlar aynı konuşmaları tekrar izliyor. çifte zaman kaybı olmasından öte zaten sonucunu bildiğiniz konular için bu kadar zaman kaybı niye?\\n\\n\\n\\nhal böyle olunca bu boş zamanımızı kim daha çok çalarsa geleceğin zenginleri de onlar olacaklar. büyük şirketler, televizyonlar, sosyal medya ve diğerleri bizim boş zamanımıza talip. ben de diyorum ki akıllı olalım ve boş zamanımızı boş işlerle, gereksiz siyasi tartışmalara boşa harcamayalım. bu boş zamanımızda geleceğin teknolojisi yapay zekâyı öğrenelim ve  geleceği yakalayalım.\""
      ]
     },
     "execution_count": 10,
     "metadata": {},
     "output_type": "execute_result"
    }
   ],
   "source": [
    "kosey.lower()\n",
    "\n",
    "# hepsini küçük harfe çevirmek için"
   ]
  },
  {
   "cell_type": "code",
   "execution_count": 11,
   "id": "ea262d75-7c19-4c52-a093-c93f75254708",
   "metadata": {
    "scrolled": true
   },
   "outputs": [
    {
     "data": {
      "text/plain": [
       "\"BOŞ ZAMANINIZA TALIBIM\\n\\nNEWTON MEKANIĞINE GÖRE ZAMAN HER YERDE AYNIDIR. YANI ZAMAN HERKES IÇIN AYNI IŞLER. FAKAT EINSTEIN IÇIN HERKESIN ZAMANI FARKLIDIR VE LOKALDIR. EINSTEIN AYRICA ZAMANI 3 BOYUTLU UZAYIN 4. BOYUTU OLARAK KABUL EDER. ÖZEL GÖRELILIK TEORISINE GÖRE HERKES KENDI ZAMANINI YAŞAR. İKIZ KARDEŞLERDEN BIRINI YÜKSEK HIZLARDA UZAYA GÖNDERSEK VE KENDI ZAMAN DILIMINDE BIRKAÇ YIL SÜREN YOLCULUK YAPSA, GERI GELDIĞINDE KARDEŞINI 100 YAŞINDA BULABILIR. HATTA  DÜNYA’DA 10 BIN YIL BILE GEÇMIŞ OLABILIR. MESELA 30 YAŞINDAKI BIR BABA, 3 YAŞINDAKI OĞLUNU DÜNYA’DA BIRAKIP IŞIK HIZINA YAKIN BIR HIZLA HAREKET EDEN BIR UZAY ARACINA BINSE VE 3 YIL SONRA DÖNSE, BU ÜÇ YIL OĞLU IÇIN 30 YIL OLABILIR. BÖYLECE BABA DA OĞUL DA 33 YAŞINDA YANI AYNI YAŞTA OLUR..  \\n\\n\\n\\nBILIM DÜNYASINDA ZAMANIN BAŞLANGICININ ‘BIG BANG’ YANI BÜYÜK PATLAMA ILE OLDUĞU KABUL EDILIR. BILIME GÖRE ‘BÜYÜK PATLAMA’DAN ÖNCE NE VARDI?’ SORUSU MANTIKSIZDIR. ZAMAN O ZAMAN BAŞLAMIŞ ISE ÖNCESI YOKTUR. BILIM INSANLARI BÜTÜN BU EVRENIN YOKTAN VAR OLMA SÜRECINI 10 ÜZERI -43 SANIYE OLARAK HESAPLAMIŞLARDIR. YANI BIR SANIYEYI ALIP BIR TRILYONA BÖLECEKSINIZ, ÇIKAN SONUCU TEKRAR BIR TRILYONA VE TEKRAR BIR TRILYONA VE BIR MILYONA BÖLECEKSINIZ. BU ZAMAN BILINEN EN KISA ZAMANDIR. \\n\\n\\n\\nASLINDA BIR SANIYE BIZIM IÇIN “BIR” DIYECEK KADAR GEÇEN BIR SÜREDIR FAKAT BU SÜREDE IŞIK DÜNYANIN ÇEVRESINI 7 KEZ DOLANIR VE BIRAZDA DINLENIR. BAZI ATOMALTI PARÇACIKLAR IÇIN BIR SANIYE ÇOK UZUN BIR SÜREDIR VE ÖMÜRLERI BIR SANIYE YAŞAMAYA YETMEZ. AVRUPA NÜKLEER ARAŞTIRMA MERKEZI CERN’DE YAPILAN DENEYLERDE UP KUARK, DOWN KUARK VE ELEKTRON DIŞINDA NEREDEYSE BÜTÜN PARÇACIKLAR SANIYENIN MILYARDA BIRINDE VEYA DAHA KISA SÜREDE VAR OLUP, YAŞAYIP, ÖLÜYORLAR VE BAŞKA BIR PARÇACIĞA DÖNÜŞÜYORLAR. YINE CERN’DE BULUNAN ATLAS DEDEKTÖRÜ BIR SANIYEDE 40 MILYON RESIM ÇEKMEKTEDIR VE BIR KAÇ PETABYTE VERI KAYDETMEKTEDIR. GÖRÜLDÜĞÜ GIBI 40 MILYON RESIM ÇEKMEK ÇOK BÜYÜK IŞTIR VE BIR SANIYE ÇOK UZUN BIR ZAMANDIR. KARADELIKLERDE ISE ZAMAN DURUR VE SAAT HEP ŞIMDIYI GÖSTERIR.\\n\\n\\n\\nZAMAN KONUSU AÇILDIĞINDA BENIM AKLIMA HEP MASSACHUSETTS TEKNOLOJI ENSTITÜSÜ'NDEN FIZIKÇI MAX TEGMARK GELIR. ONA GÖRE GEÇMIŞ ZAMAN, ŞIMDIKI ZAMAN VE GELECEK ZAMAN HEP AYNI YERDEDIR. HAYATIMIZ ASLINDA ZATEN ÇEKIMI BITMIŞ BIR FILM VE BIZ FILMIN KAYDEDILDIĞI DVD YANI UZAY ZAMAN IÇERISINDE HAPSEDILMIŞIZ. ÇEKIMI BITMIŞ BIR FILMIN IÇERISINDE DRAMALAR YAŞANIRKEN DIŞARISINDA BIR DEĞIŞIKLIK OLAMAZ. HERHANGI BIR ANDA GEÇMIŞIN ZATEN GEÇMIŞTE KALDIĞI VE GELECEĞIN HENÜZ VAR OLMADIĞI YANILSAMASINA VEYA ILLÜZYONUNA SAHIBIZ. ÖYLE YA FILMLERDE BIZE BIR DÜNYA GÖSTERILIYOR. ZAMAN IÇERISINDE BIR PENCERE VE BIZ O FILMI IZLERKEN FARKLI BIR ZAMAN DILIMINDE FILM IÇERISINDE GÜNLER VE HATTA YILLAR GEÇERKEN BIZ O FILMI BIR SAATTE IZLEYIP BITIRIYORUZ. O FILMIN IÇERISINDE KAR YAĞARKEN SINEMA SALONUNDA DA KAR YAĞMIYOR. DOLAYISI ILE HAYATIMIZ BIR ILLÜZYON.\\n\\n\\n\\nAHMET HAMDI TANPINAR BIR ŞIIRINDE “NE IÇINDEYIM ZAMANIN, NE DE BÜSBÜTÜN DIŞINDA; YEKPÂRE, GENIŞ BIR ÂNIN PARÇALANMAZ AKIŞINDA” DER. BAZILARINA GÖRE ÖLENLER ZAMANIN DIŞINA ÇIKMIŞTIR, KALANLAR ISE ZAMAN HISARINDA MAHSUR KALMIŞLARDIR. AMERIKA’DA ISE ‘ZAMAN=PARA’DIR.\\n\\n\\n\\nNORMAL ŞARTLAR ALTINDA INSANLAR GÜNDE 8 SAAT ÇALIŞIR, 8 SAAT UYUR VE KALAN 8 SAAT ISE KENDISINE AITTIR. BAZI INSANLAR UYUMA IÇIN AYRILAN 8 SAATTEN BIRKAÇ SAAT ÇALIP EĞLENCEYE VEYA IŞ SAATINDEN ÇALIP UYKUYA TRANSFERLER YAPABILIR FAKAT BIR GÜN BIZ FANILER IÇIN 24 SAATTIR. İŞ VE UYKUDAN ARTA KALAN 8 SAATLIK SÜREDE INSANLAR YEMEK YER, TELEVIZYON IZLER, OYUN OYNAR, DOSTLARIYLA SOHBET EDER, SEVDIĞI MÜZIKLERI DINLER, TUTTUĞU TAKIMIN MAÇINI IZLER, SOSYAL MEDYADA VARLIĞINI HISSETTIRIR, PARTILERE GIDER, EĞLENCE MERKEZLERINDE GEZER TOZAR, DINDAR ISE IBADET EDER VEYA VAAZ DINLER, BAZILARI KITAP OKUR ANCAK BU ZAMAN INSANIN EN DEĞERLI VARLIĞIDIR. HARCANAN PARAYI GERI KAZANABILIRIZ FAKAT GIDEN ZAMANI ASLA GERI GETIREMEYIZ. BAZILARI BU SON KISMA KALAN 8 SAATI “BOŞ ZAMAN” OLARAK TARIF EDER VE BU YAZI DA IŞTE O BOŞ ZAMANINIZA TALIP\\n\\n\\n\\nEN BÜYÜK TEKNOLOJI ŞIRKETLERI, EĞLENCE DÜNYASI, FILMLER, DIZILER, TELEVIZYON KANALLARI BIZIM UYKU VE IŞTEN ARTA KALAN BOŞ ZAMANIMIZA TALIPLER. DIZILER BU KADAR IZLENME ORANLARINI BIZIM ZAMANLARIMIZI ÇALARAK YAKALIYORLAR VE KAZANDIKLARI PARALAR ARADA IZLEDIĞIMIZ REKLAMLARA BAĞLI. MILYAR DOLARLIK MÜZIK DÜNYASI BIZIM O BOŞ ZAMANIMIZDA YAPTIKLARIMIZDAN DOĞUYOR VE BU SÜREDE HARCADIĞIMIZ PARALARDAN BESLENIYOR. BU SAYEDE SANATÇILAR ÖZEL UÇAKLARA BINIP ÜLKE ÜLKE GEZEBILIYORLAR. YINE BU MILYAR DOLARLIK BILGISAYAR OYUNLARI BOŞ ZAMANIMIZA TALIP VE GENÇLERIMIZIN ELINE GEÇEN PARAYI BU OYUNLARA YATIRMASINDAN BESLENEREK MILYAR DOLARLIK CIROLARA ULAŞIYORLAR. TRILYON DOLARLIK FUTBOL SEKTÖRÜ YINE BIZIM BOŞ ZAMANIMIZI HARCAMAMIZDAN BESLENIYOR. STADYUMU DOLDURAN VE BOŞ ZAMANINI MAÇ IZLEYEREK GEÇIREN KALABALIK OLMASA FUTBOLCULAR MILYONLARCA DOLARA TRANSFER EDILEMEZ VE RAĞBET GÖRMEZLER.\\n\\n\\n\\nBENIM ILGINÇ BULDUĞUM NOKTALARDAN BIRISI DE ZATEN DUYDUĞUMUZ ŞEYLERI TEKRAR TEKRAR TELEVIZYON KANALLARINDAN IZLEYIP DURMAMIZ. MESELA ÇOCUĞUNUZUN HEP ILKOKUL BIRINCI SINIFTA KALMASINI VE HER YIL AYNI ŞEYLERI TEKRAR TEKRAR OKUMASINI ISTER MISINIZ? BEN ISTEMEZDIM. ANCAK TELEVIZYON PROGRAMLARINDA ZATEN IZLEMIŞ OLDUĞUNUZ MAÇIN ÖZETINI VE GOLLERINI TEKRAR TEKRAR IZLIYORSUNUZ. SONUCUNU ZATEN BILIYORSUNUZ. ÜÇ YIL ÖNCE IZLEDIĞINIZ DIZIYI TEKRAR TEKRAR IZLIYORSUNUZ. BIR DE TELEVIZYONLARDA TARTIŞMA PROGRAMLARI VAR. HÜKÜMET KARADENIZDE 320 MILYAR METREKÜP DOĞALGAZ BULUNDUĞUNU AÇIKLIYOR. AYNI KONUŞMAYI HERKES DINLEMIŞ VE MESELEYI KAVRAMIŞ OLMASINA RAĞMEN GÜNÜN AKŞAMINDA BIR DE AÇIK OTURUMLAR OLUYOR VE AYNI AÇIKLAMAYI EVIRE ÇEVIRE TEKRAR TEKRAR ANLATIYORLAR VE BIZ DE BU KONUŞULANLARI SAATLERCE IZLIYORUZ. PROGRAM BITTIĞINDE 320 MILYAR METREKÜP GAZ BULUNMASINDAN ÖTE BIR ŞEY SÖYLENMIYOR. BIR DE HEP AYNI INSANLAR SÜREKLI KONUŞUYOR VE EN DEĞERLI HAZINEMIZ OLAN ZAMANIMIZDAN 2 SAATIMIZIN BOŞA GITTIĞINI GÖRÜYORUZ. BU DA YETMIYOR GECE YARISI AYNI PROGRAM TEKRAR VERILIYOR VE AYNI INSANLAR AYNI KONUŞMALARI TEKRAR IZLIYOR. ÇIFTE ZAMAN KAYBI OLMASINDAN ÖTE ZATEN SONUCUNU BILDIĞINIZ KONULAR IÇIN BU KADAR ZAMAN KAYBI NIYE?\\n\\n\\n\\nHAL BÖYLE OLUNCA BU BOŞ ZAMANIMIZI KIM DAHA ÇOK ÇALARSA GELECEĞIN ZENGINLERI DE ONLAR OLACAKLAR. BÜYÜK ŞIRKETLER, TELEVIZYONLAR, SOSYAL MEDYA VE DIĞERLERI BIZIM BOŞ ZAMANIMIZA TALIP. BEN DE DIYORUM KI AKILLI OLALIM VE BOŞ ZAMANIMIZI BOŞ IŞLERLE, GEREKSIZ SIYASI TARTIŞMALARA BOŞA HARCAMAYALIM. BU BOŞ ZAMANIMIZDA GELECEĞIN TEKNOLOJISI YAPAY ZEKÂYI ÖĞRENELIM VE  GELECEĞI YAKALAYALIM.\""
      ]
     },
     "execution_count": 11,
     "metadata": {},
     "output_type": "execute_result"
    }
   ],
   "source": [
    "kosey.upper()\n",
    "\n",
    "# hepsini büyük harfe çevirmek için"
   ]
  },
  {
   "cell_type": "code",
   "execution_count": 16,
   "id": "c792084e-86f9-4219-89bb-971cad3dd021",
   "metadata": {
    "scrolled": true
   },
   "outputs": [
    {
     "data": {
      "text/plain": [
       "1"
      ]
     },
     "execution_count": 16,
     "metadata": {},
     "output_type": "execute_result"
    }
   ],
   "source": [
    "kosey.count('yapay zekâ')\n",
    "\n",
    "# parantez içerisinde yazan kelime paragrafta ne kadar geçmiş buna bakmak için"
   ]
  },
  {
   "cell_type": "markdown",
   "id": "1ddaa982-c898-4eb2-a1ea-a96d30bafc1f",
   "metadata": {
    "jp-MarkdownHeadingCollapsed": true
   },
   "source": [
    "#### _2- PDF Dökümanlarını Okumak_"
   ]
  },
  {
   "cell_type": "code",
   "execution_count": 21,
   "id": "1e3e0b0e-bc8e-41d8-bf6b-87fb130ab5c4",
   "metadata": {},
   "outputs": [],
   "source": [
    "#pip install PyPDF2"
   ]
  },
  {
   "cell_type": "code",
   "execution_count": 22,
   "id": "ad2eff7c-2904-499d-9ff9-5238f083ac29",
   "metadata": {},
   "outputs": [],
   "source": [
    "import PyPDF2 as pr"
   ]
  },
  {
   "cell_type": "code",
   "execution_count": 30,
   "id": "9f003695-4043-4ea3-9696-6120a8d32261",
   "metadata": {},
   "outputs": [],
   "source": [
    "pdfdoc=pr.PdfReader('nlp_example.pdf')"
   ]
  },
  {
   "cell_type": "code",
   "execution_count": 31,
   "id": "c041f81d-d3b0-4094-9c1b-d3e240fda227",
   "metadata": {},
   "outputs": [],
   "source": [
    "page1=pdfdoc.pages[0]"
   ]
  },
  {
   "cell_type": "code",
   "execution_count": 33,
   "id": "2b32e177-5f2b-42d2-99c4-89f76d00a5f3",
   "metadata": {
    "scrolled": true
   },
   "outputs": [
    {
     "name": "stdout",
     "output_type": "stream",
     "text": [
      "What is NLP?  \n",
      "Natural language processing (NLP) is a subfield of linguistics, computer science, information \n",
      "engineering, and artificial intelligence concerned with the interactions between computers \n",
      "and human (natural) languages, in particular how to program computers to process and \n",
      "analyze large amounts of natural language data.  \n",
      " \n",
      "Short Messages  \n",
      "Had your mobile 11 months or more? U R entitled to Update to the latest colour mobiles with \n",
      "camera for Free! Call The Mobil e Update Co FREE on 08002986030.   \n",
      "I'm gonna be home soon and i don't want to talk about this stuff  anymore tonight, k? I've cried \n",
      "enough today.  \n",
      "SIX chances to win CASH! From 100 to 20,000 pounds txt> CSH11 and send to 87575. Cost \n",
      "150p/day, 6days, 16+ TsandCs apply Reply HL 4 info.  \n",
      "URGENT ! You have won a 1 week FREE membership in our £100,000 Prize Jackpot! Txt the \n",
      "word: CLAIM to No: 81010 T&C www.dbuk.net LCCLTD POBOX 4403LDNW1A7RW18.  \n",
      "I've been searching for the right words to thank you for this breather. I promise i wont take your \n",
      "help f or granted and will fulfil my promise. You have been wonderful and a blessing at all times.  \n",
      "I HAVE A DATE ON SUNDAY WITH WILL!!.  \n",
      " \n",
      "Quotes  \n",
      "What you don ’t use you lose.  \n",
      "First, solve the problem. Then, write the code.  \n",
      "Fix the cause, not the symptom.  \n",
      "Simplicity is the soul of efficiency.  \n",
      "Good desig n adds value faster than it adds cost.  \n",
      "In theory, theory and practice are the same. In practice, they’re not.  \n",
      "There are two ways of constructing a software design.  \n",
      "One way is to make it so simple that there are obviously no deficiencies.  \n",
      "And the other way is to make it so complicated that there are no obvious deficiencies.  \n",
      " \n",
      " \n"
     ]
    }
   ],
   "source": [
    "for p in page1.extract_text().split('\\n'):\n",
    "    print(p)"
   ]
  },
  {
   "cell_type": "markdown",
   "id": "104e9278-6aa8-4175-b02a-0cf468d2ea41",
   "metadata": {
    "jp-MarkdownHeadingCollapsed": true
   },
   "source": [
    "#### _3- İnternetten Veri Alma_"
   ]
  },
  {
   "cell_type": "code",
   "execution_count": 34,
   "id": "f1ee3de6-7e57-42bf-819e-bd6d9d3a80ae",
   "metadata": {},
   "outputs": [],
   "source": [
    "url='https://en.wikipedia.org/wiki/Natural_language_processing'"
   ]
  },
  {
   "cell_type": "code",
   "execution_count": 36,
   "id": "76bf436b-d396-466e-b434-475172f6cb75",
   "metadata": {},
   "outputs": [],
   "source": [
    "import requests as rq"
   ]
  },
  {
   "cell_type": "code",
   "execution_count": 37,
   "id": "4a1117b0-5b0b-4a15-bbea-7b42a2e02703",
   "metadata": {},
   "outputs": [],
   "source": [
    "yazi=rq.get(url)"
   ]
  },
  {
   "cell_type": "code",
   "execution_count": 39,
   "id": "14de24b4-168c-497e-bf43-e86440777cfb",
   "metadata": {},
   "outputs": [],
   "source": [
    "from bs4 import BeautifulSoup as bs"
   ]
  },
  {
   "cell_type": "code",
   "execution_count": 42,
   "id": "3d961865-af1d-47ba-ac28-77347489b30c",
   "metadata": {
    "scrolled": true
   },
   "outputs": [
    {
     "name": "stderr",
     "output_type": "stream",
     "text": [
      "C:\\Users\\13tua\\AppData\\Local\\Temp\\ipykernel_15260\\3380641238.py:1: MarkupResemblesLocatorWarning: The input looks more like a filename than markup. You may want to open this file and pass the filehandle into Beautiful Soup.\n",
      "  corba=bs(yazi.text,'lxml') # dokuman corba gibi olduğu için boyle adlandırdık.\n"
     ]
    }
   ],
   "source": [
    "corba=bs(yazi.text,'lxml') # dokuman corba gibi olduğu için boyle adlandırdık."
   ]
  },
  {
   "cell_type": "code",
   "execution_count": 43,
   "id": "a25a0274-631b-401c-a1ae-53f409c283a1",
   "metadata": {},
   "outputs": [
    {
     "data": {
      "text/plain": [
       "<html><body><p>Please set a user-agent and respect our robot policy https://w.wiki/4wJS. See also T400119.\n",
       "</p></body></html>"
      ]
     },
     "execution_count": 43,
     "metadata": {},
     "output_type": "execute_result"
    }
   ],
   "source": [
    "corba  # hata çıktı düzelteceğiz sonra"
   ]
  },
  {
   "cell_type": "markdown",
   "id": "ead570b1-2dea-456b-916a-8d9241eb6262",
   "metadata": {
    "jp-MarkdownHeadingCollapsed": true
   },
   "source": [
    "#### _4- Wikipedia'dan Veri Alma_"
   ]
  },
  {
   "cell_type": "code",
   "execution_count": 46,
   "id": "24298e0d-b772-4f88-8d8f-7214bc1ee170",
   "metadata": {},
   "outputs": [],
   "source": [
    "#pip install wikipedia"
   ]
  },
  {
   "cell_type": "code",
   "execution_count": 47,
   "id": "c5923986-130c-4619-b2a3-bb3a7f2dfbf3",
   "metadata": {},
   "outputs": [],
   "source": [
    "import wikipedia as wp"
   ]
  },
  {
   "cell_type": "code",
   "execution_count": 48,
   "id": "03a3414b-a6f3-41db-924a-b66f31b9dafc",
   "metadata": {
    "scrolled": true
   },
   "outputs": [
    {
     "data": {
      "text/plain": [
       "['Neuro-linguistic programming',\n",
       " 'Natural language processing',\n",
       " 'NLP',\n",
       " 'Pushpak Bhattacharyya',\n",
       " 'Methods of neuro-linguistic programming',\n",
       " 'Hallucination (artificial intelligence)',\n",
       " 'Natural Law Party (United States)',\n",
       " 'Spark NLP',\n",
       " 'The Structure of Magic',\n",
       " 'Stop word']"
      ]
     },
     "execution_count": 48,
     "metadata": {},
     "output_type": "execute_result"
    }
   ],
   "source": [
    "wp.search('NLP')"
   ]
  },
  {
   "cell_type": "code",
   "execution_count": 55,
   "id": "1c411730-3f01-4b98-8d2e-1a2ee37bd15e",
   "metadata": {},
   "outputs": [],
   "source": [
    "qc=wp.page('Quantum Computers') # hangi konuyu getirmek istiyorsak onu yazıyoruz."
   ]
  },
  {
   "cell_type": "code",
   "execution_count": 56,
   "id": "08c96a10-be2a-4aac-a095-4825eb3c49cf",
   "metadata": {},
   "outputs": [
    {
     "data": {
      "text/plain": [
       "'Quantum computing'"
      ]
     },
     "execution_count": 56,
     "metadata": {},
     "output_type": "execute_result"
    }
   ],
   "source": [
    "qc.title  # oradaki başlığı verir."
   ]
  },
  {
   "cell_type": "code",
   "execution_count": 54,
   "id": "4c5ec961-788a-4c9a-a000-b4aa0a2f169c",
   "metadata": {},
   "outputs": [
    {
     "data": {
      "text/plain": [
       "'A quantum computer is a (real or theoretical) computer that uses quantum mechanical phenomena in an essential way: it exploits superposed and entangled states, and the intrinsically non-deterministic outcomes of quantum measurements, as features of its computation. Quantum computers can be viewed as sampling from quantum systems that evolve in ways classically described as operating on an enormous number of possibilities simultaneously, though still subject to strict computational constraints. By contrast, ordinary (\"classical\") computers operate according to deterministic rules. Any classical computer can, in principle, be replicated by a (classical) mechanical device such as a Turing machine, with only polynomial overhead in time. Quantum computers, on the other hand are believed to require exponentially more resources to simulate classically. It is widely believed that a scalable quantum computer could perform some calculations exponentially faster than any classical computer. Theoretically, a large-scale quantum computer could break some widely used public-key cryptographic schemes and aid physicists in performing physical simulations. However, current hardware implementations of quantum computation are largely experimental and only suitable for specialized tasks.\\nThe basic unit of information in quantum computing, the qubit (or \"quantum bit\"), serves the same function as the bit in ordinary or \"classical\" computing. However, unlike a classical bit, which can be in one of two states (a binary), a qubit can exist in a linear combination of two states known as a quantum superposition. The result of measuring a qubit is one of the two states given by a probabilistic rule. If a quantum computer manipulates the qubit in a particular way, wave interference effects amplify the probability of the desired measurement result. The design of quantum algorithms involves creating procedures that allow a quantum computer to perform this amplification.\\nQuantum computers are not yet practical for real-world applications. Physically engineering high-quality qubits has proven to be challenging. If a physical qubit is not sufficiently isolated from its environment, it suffers from quantum decoherence, introducing noise into calculations. National governments have invested heavily in experimental research aimed at developing scalable qubits with longer coherence times and lower error rates. Example implementations include superconductors (which isolate an electrical current by eliminating electrical resistance) and ion traps (which confine a single atomic particle using electromagnetic fields). Researchers have claimed, and are widely believed to be correct, that certain quantum devices can outperform classical computers on narrowly defined tasks, a milestone referred to as quantum advantage or quantum supremacy. These tasks are not necessarily useful for real-world applications.\\n\\n\\n== History ==\\n\\nFor many years, the fields of quantum mechanics and computer science formed distinct academic communities. Modern quantum theory developed in the 1920s to explain perplexing physical phenomena observed at atomic scales, and digital computers emerged in the following decades to replace human computers for tedious calculations. Both disciplines had practical applications during World War II; computers played a major role in wartime cryptography, and quantum physics was essential for nuclear physics used in the Manhattan Project.\\nAs physicists applied quantum mechanical models to computational problems and swapped digital bits for qubits, the fields of quantum mechanics and computer science began to converge. In 1980, Paul Benioff introduced the quantum Turing machine, which uses quantum theory to describe a simplified computer.\\nWhen digital computers became faster, physicists faced an exponential increase in overhead when simulating quantum dynamics, prompting Yuri Manin and Richard Feynman to independently suggest that hardware based on quantum phenomena might be more efficient for computer simulation.\\nIn a 1984 paper, Charles Bennett and Gilles Brassard applied quantum theory to cryptography protocols and demonstrated that quantum key distribution could enhance information security.\\nQuantum algorithms then emerged for solving oracle problems, such as Deutsch\\'s algorithm in 1985, the Bernstein–Vazirani algorithm in 1993, and Simon\\'s algorithm in 1994.\\nThese algorithms did not solve practical problems, but demonstrated mathematically that one could gain more information by querying a black box with a quantum state in superposition, sometimes referred to as quantum parallelism.\\n\\nPeter Shor built on these results with his 1994 algorithm for breaking the widely used RSA and Diffie–Hellman encryption protocols, which drew significant attention to the field of quantum computing. In 1996, Grover\\'s algorithm established a quantum speedup for the widely applicable unstructured search problem. The same year, Seth Lloyd proved that quantum computers could simulate quantum systems without the exponential overhead present in classical simulations, validating Feynman\\'s 1982 conjecture.\\nOver the years, experimentalists have constructed small-scale quantum computers using trapped ions and superconductors.\\nIn 1998, a two-qubit quantum computer demonstrated the feasibility of the technology, and subsequent experiments have increased the number of qubits and reduced error rates.\\nIn 2019, Google AI and NASA announced that they had achieved quantum supremacy with a 54-qubit machine, performing a computation that is impossible for any classical computer.\\nThis announcement was met with a rebuttal from Google\\'s direct competitor, IBM. IBM contended that the calculation Google claimed would take 10,000 years could be performed in just 2.5 days on its own Summit supercomputer if its architecture were optimized, sparking a debate over the precise threshold for \"quantum supremacy\".\\n\\n\\n== Quantum information processing ==\\nComputer engineers typically describe a modern computer\\'s operation in terms of classical electrodynamics.\\nWithin these \"classical\" computers, some components (such as semiconductors and random number generators) may rely on quantum behavior, but these components are not isolated from their environment, so any quantum information quickly decoheres.\\nWhile programmers may depend on probability theory when designing a randomized algorithm, quantum mechanical notions like superposition and interference are largely irrelevant for program analysis.\\nQuantum programs, in contrast, rely on precise control of coherent quantum systems. Physicists describe these systems mathematically using linear algebra. Complex numbers model probability amplitudes, vectors model quantum states, and matrices model the operations that can be performed on these states. Programming a quantum computer is then a matter of composing operations in such a way that the resulting program computes a useful result in theory and is implementable in practice.\\nAs physicist Charlie Bennett describes the relationship between quantum and classical computers,\\n\\nA classical computer is a quantum computer ... so we shouldn\\'t be asking about \"where do quantum speedups come from?\" We should say, \"well, all computers are quantum. ... Where do classical slowdowns come from?\"\\n\\n\\n=== Quantum information ===\\nJust as the bit is the basic concept of classical information theory, the qubit is the fundamental unit of quantum information. The same term qubit is used to refer to an abstract mathematical model and to any physical system that is represented by that model. A classical bit, by definition, exists in either of two physical states, which can be denoted 0 and 1. A qubit is also described by a state, and two states often written \\n  \\n    \\n      \\n        \\n          |\\n        \\n        0\\n        ⟩\\n      \\n    \\n    {\\\\displaystyle |0\\\\rangle }\\n  \\n and \\n  \\n    \\n      \\n        \\n          |\\n        \\n        1\\n        ⟩\\n      \\n    \\n    {\\\\displaystyle |1\\\\rangle }\\n  \\n serve as the quantum counterparts of the classical states 0 and 1. However, the quantum states \\n  \\n    \\n      \\n        \\n          |\\n        \\n        0\\n        ⟩\\n      \\n    \\n    {\\\\displaystyle |0\\\\rangle }\\n  \\n and \\n  \\n    \\n      \\n        \\n          |\\n        \\n        1\\n        ⟩\\n      \\n    \\n    {\\\\displaystyle |1\\\\rangle }\\n  \\n belong to a vector space, meaning that they can be multiplied by constants and added together, and the result is again a valid quantum state. Such a combination is known as a superposition of \\n  \\n    \\n      \\n        \\n          |\\n        \\n        0\\n        ⟩\\n      \\n    \\n    {\\\\displaystyle |0\\\\rangle }\\n  \\n and \\n  \\n    \\n      \\n        \\n          |\\n        \\n        1\\n        ⟩\\n      \\n    \\n    {\\\\displaystyle |1\\\\rangle }\\n  \\n.\\nA two-dimensional vector mathematically represents a qubit state. Physicists typically use Dirac notation for quantum mechanical linear algebra, writing \\n  \\n    \\n      \\n        \\n          |\\n        \\n        ψ\\n        ⟩\\n      \\n    \\n    {\\\\displaystyle |\\\\psi \\\\rangle }\\n  \\n \\'ket psi\\' for a vector labeled \\n  \\n    \\n      \\n        ψ\\n      \\n    \\n    {\\\\displaystyle \\\\psi }\\n  \\n . Because a qubit is a two-state system, any qubit state takes the form \\n  \\n    \\n      \\n        α\\n        \\n          |\\n        \\n        0\\n        ⟩\\n        +\\n        β\\n        \\n          |\\n        \\n        1\\n        ⟩\\n      \\n    \\n    {\\\\displaystyle \\\\alpha |0\\\\rangle +\\\\beta |1\\\\rangle }\\n  \\n, where \\n  \\n    \\n      \\n        \\n          |\\n        \\n        0\\n        ⟩\\n      \\n    \\n    {\\\\displaystyle |0\\\\rangle }\\n  \\n and \\n  \\n    \\n      \\n        \\n          |\\n        \\n        1\\n        ⟩\\n      \\n    \\n    {\\\\displaystyle |1\\\\rangle }\\n  \\n are the standard basis states, and \\n  \\n    \\n      \\n        α\\n      \\n    \\n    {\\\\displaystyle \\\\alpha }\\n  \\n and \\n  \\n    \\n      \\n        β\\n      \\n    \\n    {\\\\displaystyle \\\\beta }\\n  \\n are the probability amplitudes, which are in general complex numbers. If either \\n  \\n    \\n      \\n        α\\n      \\n    \\n    {\\\\displaystyle \\\\alpha }\\n  \\n or \\n  \\n    \\n      \\n        β\\n      \\n    \\n    {\\\\displaystyle \\\\beta }\\n  \\n is zero, the qubit is effectively a classical bit; when both are nonzero, the qubit is in superposition. Such a quantum state vector acts similarly to a (classical) probability vector, with one key difference: unlike probabilities, probability amplitudes are not necessarily positive numbers. Negative amplitudes allow for destructive wave interference.\\nWhen a qubit is measured in the standard basis, the result is a classical bit. The Born rule describes the norm-squared correspondence between amplitudes and probabilities—when measuring a qubit \\n  \\n    \\n      \\n        α\\n        \\n          |\\n        \\n        0\\n        ⟩\\n        +\\n        β\\n        \\n          |\\n        \\n        1\\n        ⟩\\n      \\n    \\n    {\\\\displaystyle \\\\alpha |0\\\\rangle +\\\\beta |1\\\\rangle }\\n  \\n, the state collapses to \\n  \\n    \\n      \\n        \\n          |\\n        \\n        0\\n        ⟩\\n      \\n    \\n    {\\\\displaystyle |0\\\\rangle }\\n  \\n with probability \\n  \\n    \\n      \\n        \\n          |\\n        \\n        α\\n        \\n          \\n            |\\n          \\n          \\n            2\\n          \\n        \\n      \\n    \\n    {\\\\displaystyle |\\\\alpha |^{2}}\\n  \\n, or to \\n  \\n    \\n      \\n        \\n          |\\n        \\n        1\\n        ⟩\\n      \\n    \\n    {\\\\displaystyle |1\\\\rangle }\\n  \\n with probability \\n  \\n    \\n      \\n        \\n          |\\n        \\n        β\\n        \\n          \\n            |\\n          \\n          \\n            2\\n          \\n        \\n      \\n    \\n    {\\\\displaystyle |\\\\beta |^{2}}\\n  \\n.\\nAny valid qubit state has coefficients \\n  \\n    \\n      \\n        α\\n      \\n    \\n    {\\\\displaystyle \\\\alpha }\\n  \\n and \\n  \\n    \\n      \\n        β\\n      \\n    \\n    {\\\\displaystyle \\\\beta }\\n  \\n such that \\n  \\n    \\n      \\n        \\n          |\\n        \\n        α\\n        \\n          \\n            |\\n          \\n          \\n            2\\n          \\n        \\n        +\\n        \\n          |\\n        \\n        β\\n        \\n          \\n            |\\n          \\n          \\n            2\\n          \\n        \\n        =\\n        1\\n      \\n    \\n    {\\\\displaystyle |\\\\alpha |^{2}+|\\\\beta |^{2}=1}\\n  \\n.\\nAs an example, measuring the qubit \\n  \\n    \\n      \\n        1\\n        \\n          /\\n        \\n        \\n          \\n            2\\n          \\n        \\n        \\n          |\\n        \\n        0\\n        ⟩\\n        +\\n        1\\n        \\n          /\\n        \\n        \\n          \\n            2\\n          \\n        \\n        \\n          |\\n        \\n        1\\n        ⟩\\n      \\n    \\n    {\\\\displaystyle 1/{\\\\sqrt {2}}|0\\\\rangle +1/{\\\\sqrt {2}}|1\\\\rangle }\\n  \\n would produce either \\n  \\n    \\n      \\n        \\n          |\\n        \\n        0\\n        ⟩\\n      \\n    \\n    {\\\\displaystyle |0\\\\rangle }\\n  \\n or \\n  \\n    \\n      \\n        \\n          |\\n        \\n        1\\n        ⟩\\n      \\n    \\n    {\\\\displaystyle |1\\\\rangle }\\n  \\n with equal probability.\\nEach additional qubit doubles the dimension of the state space.\\nAs an example, the vector \\u20601/√2\\u2060|00⟩ + \\u20601/√2\\u2060|01⟩ represents a two-qubit state, a tensor product of the qubit |0⟩ with the qubit \\u20601/√2\\u2060|0⟩ + \\u20601/√2\\u2060|1⟩.\\nThis vector inhabits a four-dimensional vector space spanned by the basis vectors |00⟩, |01⟩, |10⟩, and |11⟩.\\nThe Bell state \\u20601/√2\\u2060|00⟩ + \\u20601/√2\\u2060|11⟩ is impossible to decompose into the tensor product of two individual qubits—the two qubits are entangled because neither qubit has a state vector of its own.\\nIn general, the vector space for an n-qubit system is 2n-dimensional, and this makes it challenging for a classical computer to simulate a quantum one: representing a 100-qubit system requires storing 2100 classical values.\\n\\n\\n=== Unitary operators ===\\n\\nThe state of this one-qubit quantum memory can be manipulated by applying quantum logic gates, analogous to how classical memory can be manipulated with classical logic gates. One important gate for both classical and quantum computation is the NOT gate, which can be represented by a matrix\\n\\n  \\n    \\n      \\n        X\\n        :=\\n        \\n          \\n            (\\n            \\n              \\n                \\n                  0\\n                \\n                \\n                  1\\n                \\n              \\n              \\n                \\n                  1\\n                \\n                \\n                  0\\n                \\n              \\n            \\n            )\\n          \\n        \\n        .\\n      \\n    \\n    {\\\\displaystyle X:={\\\\begin{pmatrix}0&1\\\\\\\\1&0\\\\end{pmatrix}}.}\\n  \\n\\nMathematically, the application of such a logic gate to a quantum state vector is modelled with matrix multiplication. Thus\\n\\n  \\n    \\n      \\n        X\\n        \\n          |\\n        \\n        0\\n        ⟩\\n        =\\n        \\n          |\\n        \\n        1\\n        ⟩\\n      \\n    \\n    {\\\\displaystyle X|0\\\\rangle =|1\\\\rangle }\\n  \\n and \\n  \\n    \\n      \\n        X\\n        \\n          |\\n        \\n        1\\n        ⟩\\n        =\\n        \\n          |\\n        \\n        0\\n        ⟩\\n      \\n    \\n    {\\\\displaystyle X|1\\\\rangle =|0\\\\rangle }\\n  \\n.\\nThe mathematics of single qubit gates can be extended to operate on multi-qubit quantum memories in two important ways. One way is simply to select a qubit and apply that gate to the target qubit while leaving the remainder of the memory unaffected. Another way is to apply the gate to its target only if another part of the memory is in a desired state. These two choices can be illustrated using another example. The possible states of a two-qubit quantum memory are\\n\\n  \\n    \\n      \\n        \\n          |\\n        \\n        00\\n        ⟩\\n        :=\\n        \\n          \\n            (\\n            \\n              \\n                \\n                  1\\n                \\n              \\n              \\n                \\n                  0\\n                \\n              \\n              \\n                \\n                  0\\n                \\n              \\n              \\n                \\n                  0\\n                \\n              \\n            \\n            )\\n          \\n        \\n        ;\\n        \\n        \\n          |\\n        \\n        01\\n        ⟩\\n        :=\\n        \\n          \\n            (\\n            \\n              \\n                \\n                  0\\n                \\n              \\n              \\n                \\n                  1\\n                \\n              \\n              \\n                \\n                  0\\n                \\n              \\n              \\n                \\n                  0\\n                \\n              \\n            \\n            )\\n          \\n        \\n        ;\\n        \\n        \\n          |\\n        \\n        10\\n        ⟩\\n        :=\\n        \\n          \\n            (\\n            \\n              \\n                \\n                  0\\n                \\n              \\n              \\n                \\n                  0\\n                \\n              \\n              \\n                \\n                  1\\n                \\n              \\n              \\n                \\n                  0\\n                \\n              \\n            \\n            )\\n          \\n        \\n        ;\\n        \\n        \\n          |\\n        \\n        11\\n        ⟩\\n        :=\\n        \\n          \\n            (\\n            \\n              \\n                \\n                  0\\n                \\n              \\n              \\n                \\n                  0\\n                \\n              \\n              \\n                \\n                  0\\n                \\n              \\n              \\n                \\n                  1\\n                \\n              \\n            \\n            )\\n          \\n        \\n        .\\n      \\n    \\n    {\\\\displaystyle |00\\\\rangle :={\\\\begin{pmatrix}1\\\\\\\\0\\\\\\\\0\\\\\\\\0\\\\end{pmatrix}};\\\\quad |01\\\\rangle :={\\\\begin{pmatrix}0\\\\\\\\1\\\\\\\\0\\\\\\\\0\\\\end{pmatrix}};\\\\quad |10\\\\rangle :={\\\\begin{pmatrix}0\\\\\\\\0\\\\\\\\1\\\\\\\\0\\\\end{pmatrix}};\\\\quad |11\\\\rangle :={\\\\begin{pmatrix}0\\\\\\\\0\\\\\\\\0\\\\\\\\1\\\\end{pmatrix}}.}\\n  \\n\\nThe controlled NOT (CNOT) gate can then be represented using the following matrix:\\n\\n  \\n    \\n      \\n        CNOT\\n        :=\\n        \\n          \\n            (\\n            \\n              \\n                \\n                  1\\n                \\n                \\n                  0\\n                \\n                \\n                  0\\n                \\n                \\n                  0\\n                \\n              \\n              \\n                \\n                  0\\n                \\n                \\n                  1\\n                \\n                \\n                  0\\n                \\n                \\n                  0\\n                \\n              \\n              \\n                \\n                  0\\n                \\n                \\n                  0\\n                \\n                \\n                  0\\n                \\n                \\n                  1\\n                \\n              \\n              \\n                \\n                  0\\n                \\n                \\n                  0\\n                \\n                \\n                  1\\n                \\n                \\n                  0\\n                \\n              \\n            \\n            )\\n          \\n        \\n        .\\n      \\n    \\n    {\\\\displaystyle \\\\operatorname {CNOT} :={\\\\begin{pmatrix}1&0&0&0\\\\\\\\0&1&0&0\\\\\\\\0&0&0&1\\\\\\\\0&0&1&0\\\\end{pmatrix}}.}\\n  \\n\\nAs a mathematical consequence of this definition, \\n  \\n    \\n      \\n        CNOT\\n        \\u2061\\n        \\n          |\\n        \\n        00\\n        ⟩\\n        =\\n        \\n          |\\n        \\n        00\\n        ⟩\\n      \\n    \\n    {\\\\textstyle \\\\operatorname {CNOT} |00\\\\rangle =|00\\\\rangle }\\n  \\n, \\n  \\n    \\n      \\n        CNOT\\n        \\u2061\\n        \\n          |\\n        \\n        01\\n        ⟩\\n        =\\n        \\n          |\\n        \\n        01\\n        ⟩\\n      \\n    \\n    {\\\\textstyle \\\\operatorname {CNOT} |01\\\\rangle =|01\\\\rangle }\\n  \\n, \\n  \\n    \\n      \\n        CNOT\\n        \\u2061\\n        \\n          |\\n        \\n        10\\n        ⟩\\n        =\\n        \\n          |\\n        \\n        11\\n        ⟩\\n      \\n    \\n    {\\\\textstyle \\\\operatorname {CNOT} |10\\\\rangle =|11\\\\rangle }\\n  \\n, and \\n  \\n    \\n      \\n        CNOT\\n        \\u2061\\n        \\n          |\\n        \\n        11\\n        ⟩\\n        =\\n        \\n          |\\n        \\n        10\\n        ⟩\\n      \\n    \\n    {\\\\textstyle \\\\operatorname {CNOT} |11\\\\rangle =|10\\\\rangle }\\n  \\n. In other words, the CNOT applies a NOT gate (\\n  \\n    \\n      \\n        X\\n      \\n    \\n    {\\\\textstyle X}\\n  \\n from before) to the second qubit if and only if the first qubit is in the state \\n  \\n    \\n      \\n        \\n          |\\n        \\n        1\\n        ⟩\\n      \\n    \\n    {\\\\textstyle |1\\\\rangle }\\n  \\n. If the first qubit is \\n  \\n    \\n      \\n        \\n          |\\n        \\n        0\\n        ⟩\\n      \\n    \\n    {\\\\textstyle |0\\\\rangle }\\n  \\n, nothing is done to either qubit.\\nIn summary, quantum computation can be described as a network of quantum logic gates and measurements. However, any measurement can be deferred to the end of quantum computation, though this deferment may come at a computational cost, so most quantum circuits depict a network consisting only of quantum logic gates and no measurements.\\n\\n\\n=== Quantum parallelism ===\\nQuantum parallelism is the heuristic that quantum computers can be thought of as evaluating a function for multiple input values simultaneously. This can be achieved by preparing a quantum system in a superposition of input states and applying a unitary transformation that encodes the function to be evaluated. The resulting state encodes the function\\'s output values for all input values in the superposition, allowing for the computation of multiple outputs simultaneously. This property is key to the speedup of many quantum algorithms. However, \"parallelism\" in this sense is insufficient to speed up a computation, because the measurement at the end of the computation gives only one value. To be useful, a quantum algorithm must also incorporate some other conceptual ingredient.\\n\\n\\n=== Quantum programming ===\\n\\nThere are a number of models of computation for quantum computing, distinguished by the basic elements in which the computation is decomposed.\\n\\n\\n==== Gate array ====\\n\\nA quantum gate array decomposes computation into a sequence of few-qubit quantum gates. A quantum computation can be described as a network of quantum logic gates and measurements. However, any measurement can be deferred to the end of quantum computation, though this deferment may come at a computational cost, so most quantum circuits depict a network consisting only of quantum logic gates and no measurements.\\nAny quantum computation (which is, in the above formalism, any unitary matrix of size \\n  \\n    \\n      \\n        \\n          2\\n          \\n            n\\n          \\n        \\n        ×\\n        \\n          2\\n          \\n            n\\n          \\n        \\n      \\n    \\n    {\\\\displaystyle 2^{n}\\\\times 2^{n}}\\n  \\n over \\n  \\n    \\n      \\n        n\\n      \\n    \\n    {\\\\displaystyle n}\\n  \\n qubits) can be represented as a network of quantum logic gates from a fairly small family of gates. A choice of gate family that enables this construction is known as a universal gate set, since a computer that can run such circuits is a universal quantum computer. One common such set includes all single-qubit gates as well as the CNOT gate from above. This means any quantum computation can be performed by executing a sequence of single-qubit gates together with CNOT gates. Though this gate set is infinite, it can be replaced with a finite gate set by appealing to the Solovay-Kitaev theorem. Implementation of Boolean functions using the few-qubit quantum gates is presented here.\\n\\n\\n==== Measurement-based quantum computing ====\\nA measurement-based quantum computer decomposes computation into a sequence of Bell state measurements and single-qubit quantum gates applied to a highly entangled initial state (a cluster state), using a technique called quantum gate teleportation.\\n\\n\\n==== Adiabatic quantum computing ====\\nAn adiabatic quantum computer, based on quantum annealing, decomposes computation into a slow continuous transformation of an initial Hamiltonian into a final Hamiltonian, whose ground states contain the solution.\\n\\n\\n==== Neuromorphic quantum computing ====\\nNeuromorphic quantum computing (abbreviated as \\'n.quantum computing\\') is an unconventional type of computing that uses neuromorphic computing to perform quantum operations. It was suggested that quantum algorithms, which are algorithms that run on a realistic model of quantum computation, can be computed equally efficiently with neuromorphic quantum computing. Both traditional quantum computing and neuromorphic quantum computing are physics-based unconventional computing approaches to computations and do not follow the von Neumann architecture. They both construct a system (a circuit) that represents the physical problem at hand and then leverage their respective physics properties of the system to seek the \"minimum\". Neuromorphic quantum computing and quantum computing share similar physical properties during computation.\\n\\n\\n==== Topological quantum computing ====\\nA topological quantum computer decomposes computation into the braiding of anyons in a 2D lattice.\\n\\n\\n==== Quantum Turing machine ====\\nA quantum Turing machine is the quantum analog of a Turing machine. All of these models of computation—quantum circuits, one-way quantum computation, adiabatic quantum computation, and topological quantum computation—have been shown to be equivalent to the quantum Turing machine; given a perfect implementation of one such quantum computer, it can simulate all the others with no more than polynomial overhead. This equivalence need not hold for practical quantum computers, since the overhead of simulation may be too large to be practical.\\n\\n\\n==== Noisy intermediate-scale quantum computing ====\\nThe threshold theorem shows how increasing the number of qubits can mitigate errors, yet fully fault-tolerant quantum computing remains \"a rather distant dream\". According to some researchers, noisy intermediate-scale quantum (NISQ) machines may have specialized uses in the near future, but noise in quantum gates limits their reliability.\\nScientists at Harvard University successfully created \"quantum circuits\" that correct errors more efficiently than alternative methods, which may potentially remove a major obstacle to practical quantum computers. The Harvard research team was supported by MIT, QuEra Computing, Caltech, and Princeton University and funded by DARPA\\'s Optimization with Noisy Intermediate-Scale Quantum devices (ONISQ) program.\\n\\n\\n==== Quantum cryptography and cybersecurity ====\\n\\nDigital cryptography allows communications without observation by unauthorized parties. Conventional encryption, the obscuring of a message with a key through an algorithm, relies on the algorithm being difficult to reverse. Encryption is also the basis for digital signatures and authentication mechanisms. Quantum computing may be sufficiently more powerful that difficult reversals are feasible, allowing messages relying on conventional encryption to be read.\\nQuantum cryptography replaces conventional algorithms with computations based on quantum computing. In principle, quantum encryption would be impossible to decode even with a quantum computer. This advantage comes at a significant cost in terms of elaborate infrastructure as well as preventing legitimate decoding of messages by governmental security officials.\\nOngoing research in quantum and post-quantum cryptography has led to new algorithms for quantum key distribution, initial work on quantum random number generation and to some early technology demonstrations.\\n\\n\\n== Communication ==\\n\\nQuantum cryptography enables new ways to transmit data securely; for example, quantum key distribution uses entangled quantum states to establish secure cryptographic keys. When a sender and receiver exchange quantum states, they can guarantee that an adversary does not intercept the message, as any unauthorized eavesdropper would disturb the delicate quantum system and introduce a detectable change. With appropriate cryptographic protocols, the sender and receiver can thus establish shared private information resistant to eavesdropping.\\nModern fiber-optic cables can transmit quantum information over relatively short distances. Ongoing experimental research aims to develop more reliable hardware (such as quantum repeaters), hoping to scale this technology to long-distance quantum networks with end-to-end entanglement. Theoretically, this could enable novel technological applications, such as distributed quantum computing and enhanced quantum sensing.\\n\\n\\n== Algorithms ==\\nProgress in finding quantum algorithms typically focuses on this quantum circuit model, though exceptions like the quantum adiabatic algorithm exist. Quantum algorithms can be roughly categorized by the type of speedup achieved over corresponding classical algorithms.\\nQuantum algorithms that offer more than a polynomial speedup over the best-known classical algorithm include Shor\\'s algorithm for factoring and the related quantum algorithms for computing discrete logarithms, solving Pell\\'s equation, and more generally solving the hidden subgroup problem for abelian finite groups. These algorithms depend on the primitive of the quantum Fourier transform. No mathematical proof has been found that shows that an equally fast classical algorithm cannot be discovered, but evidence suggests that this is unlikely. Certain oracle problems like Simon\\'s problem and the Bernstein–Vazirani problem do give provable speedups, though this is in the quantum query model, which is a restricted model where lower bounds are much easier to prove and doesn\\'t necessarily translate to speedups for practical problems.\\nOther problems, including the simulation of quantum physical processes from chemistry and solid-state physics, the approximation of certain Jones polynomials, and the quantum algorithm for linear systems of equations, have quantum algorithms appearing to give super-polynomial speedups and are BQP-complete. Because these problems are BQP-complete, an equally fast classical algorithm for them would imply that \"no quantum algorithm\" provides a super-polynomial speedup, which is believed to be unlikely.\\nIn addition to these problems, quantum algorithms are being explored for applications in cryptography, optimization, and machine learning, although most of these remain at the research stage and require significant advances in error correction and hardware scalability before practical implementation.\\nSome quantum algorithms, like Grover\\'s algorithm and amplitude amplification, give polynomial speedups over corresponding classical algorithms. Though these algorithms give comparably modest quadratic speedup, they are widely applicable and thus give speedups for a wide range of problems. These speed-ups are, however, over the theoretical worst-case of classical algorithms, and concrete real-world speed-ups over algorithms used in practice have not been demonstrated.\\n\\n\\n=== Simulation of quantum systems ===\\n\\nSince chemistry and nanotechnology rely on understanding quantum systems, and such systems are impossible to simulate in an efficient manner classically, quantum simulation may be an important application of quantum computing. Quantum simulation could also be used to simulate the behavior of atoms and particles at unusual conditions such as the reactions inside a collider. In June 2023, IBM computer scientists reported that a quantum computer produced better results for a physics problem than a conventional supercomputer.\\nAbout 2% of the annual global energy output is used for nitrogen fixation to produce ammonia for the Haber process in the agricultural fertiliser industry (even though naturally occurring organisms also produce ammonia). Quantum simulations might be used to understand this process and increase the energy efficiency of production. It is expected that an early use of quantum computing will be modeling that improves the efficiency of the Haber–Bosch process by the mid-2020s although some have predicted it will take longer.\\n\\n\\n=== Post-quantum cryptography ===\\n\\nA notable application of quantum computing is in attacking cryptographic systems that are currently in use. Integer factorization, which underpins the security of public key cryptographic systems, is believed to be computationally infeasible on a classical computer for large integers if they are the product of a few prime numbers (e.g., the product of two 300-digit primes). By contrast, a quantum computer could solve this problem exponentially faster using Shor\\'s algorithm to factor the integer. This ability would allow a quantum computer to break many of the cryptographic systems in use today, in the sense that there would be a polynomial time (in the number of digits of the integer) algorithm for solving the problem. In particular, most of the popular public key ciphers are based on the difficulty of factoring integers or the discrete logarithm problem, both of which can be solved by Shor\\'s algorithm. In particular, the RSA, Diffie–Hellman, and elliptic curve Diffie–Hellman algorithms could be broken. These are used to protect secure Web pages, encrypted email, and many other types of data. Breaking these would have significant ramifications for electronic privacy and security.\\nIdentifying cryptographic systems that may be secure against quantum algorithms is an actively researched topic under the field of post-quantum cryptography. Some public-key algorithms are based on problems other than the integer factorization and discrete logarithm problems to which Shor\\'s algorithm applies, such as the McEliece cryptosystem, which relies on a hard problem in coding theory. Lattice-based cryptosystems are also not known to be broken by quantum computers, and finding a polynomial time algorithm for solving the dihedral hidden subgroup problem, which would break many lattice-based cryptosystems, is a well-studied open problem. It has been shown that applying Grover\\'s algorithm to break a symmetric (secret-key) algorithm by brute force requires time equal to roughly 2n/2 invocations of the underlying cryptographic algorithm, compared with roughly 2n in the classical case, meaning that symmetric key lengths are effectively halved: AES-256 would have comparable security against an attack using Grover\\'s algorithm to that AES-128 has against classical brute-force search (see Key size).\\n\\n\\n=== Search problems ===\\n\\nThe most well-known example of a problem that allows for a polynomial quantum speedup is unstructured search, which involves finding a marked item out of a list of \\n  \\n    \\n      \\n        n\\n      \\n    \\n    {\\\\displaystyle n}\\n  \\n items in a database. This can be solved by Grover\\'s algorithm using \\n  \\n    \\n      \\n        O\\n        (\\n        \\n          \\n            n\\n          \\n        \\n        )\\n      \\n    \\n    {\\\\displaystyle O({\\\\sqrt {n}})}\\n  \\n queries to the database, quadratically fewer than the \\n  \\n    \\n      \\n        Ω\\n        (\\n        n\\n        )\\n      \\n    \\n    {\\\\displaystyle \\\\Omega (n)}\\n  \\n queries required for classical algorithms. In this case, the advantage is not only provable but also optimal: it has been shown that Grover\\'s algorithm gives the maximal possible probability of finding the desired element for any number of oracle lookups. Many examples of provable quantum speedups for query problems are based on Grover\\'s algorithm, including Brassard, Høyer, and Tapp\\'s algorithm for finding collisions in two-to-one functions, and Farhi, Goldstone, and Gutmann\\'s algorithm for evaluating NAND trees.\\nProblems that can be efficiently addressed with Grover\\'s algorithm have the following properties:\\n\\nThere is no searchable structure in the collection of possible answers,\\nThe number of possible answers to check is the same as the number of inputs to the algorithm, and\\nThere exists a Boolean function that evaluates each input and determines whether it is the correct answer.\\nFor problems with all these properties, the running time of Grover\\'s algorithm on a quantum computer scales as the square root of the number of inputs (or elements in the database), as opposed to the linear scaling of classical algorithms. A general class of problems to which Grover\\'s algorithm can be applied is a Boolean satisfiability problem, where the database through which the algorithm iterates is that of all possible answers. An example and possible application of this is a password cracker that attempts to guess a password. Breaking symmetric ciphers with this algorithm is of interest to government agencies.\\n\\n\\n=== Quantum annealing ===\\nQuantum annealing relies on the adiabatic theorem to undertake calculations. A system is placed in the ground state for a simple Hamiltonian, which slowly evolves to a more complicated Hamiltonian whose ground state represents the solution to the problem in question. The adiabatic theorem states that if the evolution is slow enough the system will stay in its ground state at all times through the process. Quantum annealing can solve Ising models and the (computationally equivalent) QUBO problem, which in turn can be used to encode a wide range of combinatorial optimization problems. Adiabatic optimization may be helpful for solving computational biology problems.\\n\\n\\n=== Machine learning ===\\n\\nSince quantum computers can produce outputs that classical computers cannot produce efficiently, and since quantum computation is fundamentally linear algebraic, some express hope in developing quantum algorithms that can speed up machine learning tasks.\\nFor example, the HHL Algorithm, named after its discoverers Harrow, Hassidim, and Lloyd, is believed to provide speedup over classical counterparts. Some research groups have recently explored the use of quantum annealing hardware for training Boltzmann machines and deep neural networks.\\n\\nDeep generative chemistry models emerge as powerful tools to expedite drug discovery. However, the immense size and complexity of the structural space of all possible drug-like molecules pose significant obstacles, which could be overcome in the future by quantum computers. Quantum computers are naturally good for solving complex quantum many-body problems and thus may be instrumental in applications involving quantum chemistry. Therefore, one can expect that quantum-enhanced generative models including quantum GANs may eventually be developed into ultimate generative chemistry algorithms.\\n\\n\\n== Engineering ==\\n\\nAs of 2023, classical computers outperform quantum computers for all real-world applications. While current quantum computers may speed up solutions to particular mathematical problems, they give no computational advantage for practical tasks. Scientists and engineers are exploring multiple technologies for quantum computing hardware and hope to develop scalable quantum architectures, but serious obstacles remain.\\n\\n\\n=== Challenges ===\\nThere are a number of technical challenges in building a large-scale quantum computer. Physicist David DiVincenzo has listed these requirements for a practical quantum computer:\\n\\nPhysically scalable to increase the number of qubits\\nQubits that can be initialized to arbitrary values\\nQuantum gates that are faster than decoherence time\\nUniversal gate set\\nQubits that can be read easily.\\nSourcing parts for quantum computers is also very difficult. Superconducting quantum computers, like those constructed by Google and IBM, need helium-3, a nuclear research byproduct, and special superconducting cables made only by the Japanese company Coax Co.\\nThe control of multi-qubit systems requires the generation and coordination of a large number of electrical signals with tight and deterministic timing resolution. This has led to the development of quantum controllers that enable interfacing with the qubits. Scaling these systems to support a growing number of qubits is an additional challenge.\\n\\n\\n==== Decoherence ====\\nOne of the greatest challenges involved in constructing quantum computers is controlling or removing quantum decoherence. This usually means isolating the system from its environment as interactions with the external world cause the system to decohere. However, other sources of decoherence also exist. Examples include the quantum gates and the lattice vibrations and background thermonuclear spin of the physical system used to implement the qubits. Decoherence is irreversible, as it is effectively non-unitary, and is usually something that should be highly controlled, if not avoided. Decoherence times for candidate systems in particular, the transverse relaxation time T2 (for NMR and MRI technology, also called the dephasing time), typically range between nanoseconds and seconds at low temperatures. Currently, some quantum computers require their qubits to be cooled to 20 millikelvin (usually using a dilution refrigerator) in order to prevent significant decoherence. A 2020 study argues that ionizing radiation such as cosmic rays can nevertheless cause certain systems to decohere within milliseconds.\\nAs a result, time-consuming tasks may render some quantum algorithms inoperable, as attempting to maintain the state of qubits for a long enough duration will eventually corrupt the superpositions.\\nThese issues are more difficult for optical approaches as the timescales are orders of magnitude shorter and an often-cited approach to overcoming them is optical pulse shaping. Error rates are typically proportional to the ratio of operating time to decoherence time; hence any operation must be completed much more quickly than the decoherence time.\\nAs described by the threshold theorem, if the error rate is small enough, it is thought to be possible to use quantum error correction to suppress errors and decoherence. This allows the total calculation time to be longer than the decoherence time if the error correction scheme can correct errors faster than decoherence introduces them. An often-cited figure for the required error rate in each gate for fault-tolerant computation is 10−3, assuming the noise is depolarizing.\\nMeeting this scalability condition is possible for a wide range of systems. However, the use of error correction brings with it the cost of a greatly increased number of required qubits. The number required to factor integers using Shor\\'s algorithm is still polynomial, and thought to be between L and L2, where L is the number of binary digits in the number to be factored; error correction algorithms would inflate this figure by an additional factor of L. For a 1000-bit number, this implies a need for about 104 bits without error correction. With error correction, the figure would rise to about 107 bits. Computation time is about L2 or about 107 steps and at 1 MHz, about 10 seconds. However, the encoding and error-correction overheads increase the size of a real fault-tolerant quantum computer by several orders of magnitude. Careful estimates show that at least 3 million physical qubits would factor 2,048-bit integer in 5 months on a fully error-corrected trapped-ion quantum computer. In terms of the number of physical qubits, to date, this remains the lowest estimate for practically useful integer factorization problem sizing 1,024-bit or larger. \\nOne approach to overcoming errors combines low-density parity-check code with cat qubits that have intrinsic bit-flip error suppression. Implementing 100 logical qubits with 768 cat qubits could reduce the error rate to on part in 108 per cycle per bit.\\nAnother approach to the stability-decoherence problem is to create a topological quantum computer with anyons, quasi-particles used as threads, and relying on braid theory to form stable logic gates. Non-Abelian anyons can, in effect, remember how they have been manipulated, making them potentially useful in quantum computing. As of 2025, Microsoft and other organizations are investing in quasi-particle research.\\n\\n\\n=== Quantum supremacy ===\\nPhysicist John Preskill coined the term quantum supremacy to describe the engineering feat of demonstrating that a programmable quantum device can solve a problem beyond the capabilities of state-of-the-art classical computers. The problem need not be useful, so some view the quantum supremacy test only as a potential future benchmark.\\nIn October 2019, Google AI Quantum, with the help of NASA, became the first to claim to have achieved quantum supremacy by performing calculations on the Sycamore quantum computer more than 3,000,000 times faster than they could be done on Summit, generally considered the world\\'s fastest computer. This claim has been subsequently challenged: IBM has stated that Summit can perform samples much faster than claimed, and researchers have since developed better algorithms for the sampling problem used to claim quantum supremacy, giving substantial reductions to the gap between Sycamore and classical supercomputers and even beating it.\\nIn December 2020, a group at USTC implemented a type of Boson sampling on 76 photons with a photonic quantum computer, Jiuzhang, to demonstrate quantum supremacy. The authors claim that a classical contemporary supercomputer would require a computational time of 600 million years to generate the number of samples their quantum processor can generate in 20 seconds.\\nClaims of quantum supremacy have generated hype around quantum computing, but they are based on contrived benchmark tasks that do not directly imply useful real-world applications.\\nIn January 2024, a study published in Physical Review Letters provided direct verification of quantum supremacy experiments by computing exact amplitudes for experimentally generated bitstrings using a new-generation Sunway supercomputer, demonstrating a significant leap in simulation capability built on a multiple-amplitude tensor network contraction algorithm. This development underscores the evolving landscape of quantum computing, highlighting both the progress and the complexities involved in validating quantum supremacy claims.\\n\\n\\n=== Skepticism ===\\nDespite high hopes for quantum computing, significant progress in hardware, and optimism about future applications, a 2023 Nature spotlight article summarized current quantum computers as being \"For now, [good for] absolutely nothing\". The article elaborated that quantum computers are yet to be more useful or efficient than conventional computers in any case, though it also argued that in the long term such computers are likely to be useful. A 2023 Communications of the ACM article found that current quantum computing algorithms are \"insufficient for practical quantum advantage without significant improvements across the software/hardware stack\". It argues that the most promising candidates for achieving speedup with quantum computers are \"small-data problems\", for example in chemistry and materials science. However, the article also concludes that a large range of the potential applications it considered, such as machine learning, \"will not achieve quantum advantage with current quantum algorithms in the foreseeable future\", and it identified I/O constraints that make speedup unlikely for \"big data problems, unstructured linear systems, and database search based on Grover\\'s algorithm\".\\nThis state of affairs can be traced to several current and long-term considerations.\\n\\nConventional computer hardware and algorithms are not only optimized for practical tasks, but are still improving rapidly, particularly GPU accelerators.\\nCurrent quantum computing hardware generates only a limited amount of entanglement before getting overwhelmed by noise.\\nQuantum algorithms provide speedup over conventional algorithms only for some tasks, and matching these tasks with practical applications proved challenging. Some promising tasks and applications require resources far beyond those available today. In particular, processing large amounts of non-quantum data is a challenge for quantum computers.\\nSome promising algorithms have been \"dequantized\", i.e., their non-quantum analogues with similar complexity have been found.\\nIf quantum error correction is used to scale quantum computers to practical applications, its overhead may undermine speedup offered by many quantum algorithms.\\nComplexity analysis of algorithms sometimes makes abstract assumptions that do not hold in applications. For example, input data may not already be available encoded in quantum states, and \"oracle functions\" used in Grover\\'s algorithm often have internal structure that can be exploited for faster algorithms.\\nIn particular, building computers with large numbers of qubits may be futile if those qubits are not connected well enough and cannot maintain sufficiently high degree of entanglement for a long time. When trying to outperform conventional computers, quantum computing researchers often look for new tasks that can be solved on quantum computers, but this leaves the possibility that efficient non-quantum techniques will be developed in response, as seen for Quantum supremacy demonstrations. Therefore, it is desirable to prove lower bounds on the complexity of best possible non-quantum algorithms (which may be unknown) and show that some quantum algorithms asymptomatically improve upon those bounds.\\nBill Unruh doubted the practicality of quantum computers in a paper published in 1994. Paul Davies argued that a 400-qubit computer would even come into conflict with the cosmological information bound implied by the holographic principle. Skeptics like Gil Kalai doubt that quantum supremacy will ever be achieved. Physicist Mikhail Dyakonov has expressed skepticism of quantum computing as follows:\\n\\n\"So the number of continuous parameters describing the state of such a useful quantum computer at any given moment must be... about 10300... Could we ever learn to control the more than 10300 continuously variable parameters defining the quantum state of such a system? My answer is simple. No, never.\"\\n\\n\\n=== Physical realizations ===\\n\\nA practical quantum computer must use a physical system as a programmable quantum register. Researchers are exploring several technologies as candidates for reliable qubit implementations. Superconductors and trapped ions are some of the most developed proposals, but experimentalists are considering other hardware possibilities as well.\\nFor example, topological quantum computer approaches are being explored for more fault-tolerance computing systems.\\nThe first quantum logic gates were implemented with trapped ions and prototype general purpose machines with up to 20 qubits have been realized. However, the technology behind these devices combines complex vacuum equipment, lasers, microwave and radio frequency equipment making full scale processors difficult to integrate with standard computing equipment. Moreover, the trapped ion system itself has engineering challenges to overcome.\\nThe largest commercial systems are based on superconductor devices and have scaled to 2000 qubits. However, the error rates for larger machines have been on the order of 5%. Technologically these devices are all cryogenic and scaling to large numbers of qubits requires wafer-scale integration, a serious engineering challenge by itself.\\n\\n\\n== Potential applications ==\\nWith focus on business management\\'s point of view, the potential applications of quantum computing into four major categories are cybersecurity, data analytics and artificial intelligence, optimization and simulation, and data management and searching.\\nOther applications include healthcare (i.e. drug discovery), financial modeling, and natural language processing.\\n\\n\\n== Theory ==\\n\\n\\n=== Computability ===\\n\\nAny computational problem solvable by a classical computer is also solvable by a quantum computer. Intuitively, this is because it is believed that all physical phenomena, including the operation of classical computers, can be described using quantum mechanics, which underlies the operation of quantum computers.\\nConversely, any problem solvable by a quantum computer is also solvable by a classical computer. It is possible to simulate both quantum and classical computers manually with just some paper and a pen, if given enough time. More formally, any quantum computer can be simulated by a Turing machine. In other words, quantum computers provide no additional power over classical computers in terms of computability. This means that quantum computers cannot solve undecidable problems like the halting problem, and the existence of quantum computers does not disprove the Church–Turing thesis.\\n\\n\\n=== Complexity ===\\n\\nWhile quantum computers cannot solve any problems that classical computers cannot already solve, it is suspected that they can solve certain problems faster than classical computers. For instance, it is known that quantum computers can efficiently factor integers, while this is not believed to be the case for classical computers.\\nThe class of problems that can be efficiently solved by a quantum computer with bounded error is called BQP, for \"bounded error, quantum, polynomial time\". More formally, BQP is the class of problems that can be solved by a polynomial-time quantum Turing machine with an error probability of at most 1/3. As a class of probabilistic problems, BQP is the quantum counterpart to BPP (\"bounded error, probabilistic, polynomial time\"), the class of problems that can be solved by polynomial-time probabilistic Turing machines with bounded error. It is known that \\n  \\n    \\n      \\n        \\n          \\n            B\\n            P\\n            P\\n            ⊆\\n            B\\n            Q\\n            P\\n          \\n        \\n      \\n    \\n    {\\\\displaystyle {\\\\mathsf {BPP\\\\subseteq BQP}}}\\n  \\n and is widely suspected that \\n  \\n    \\n      \\n        \\n          \\n            B\\n            Q\\n            P\\n            ⊊\\n            B\\n            P\\n            P\\n          \\n        \\n      \\n    \\n    {\\\\displaystyle {\\\\mathsf {BQP\\\\subsetneq BPP}}}\\n  \\n, which intuitively would mean that quantum computers are more powerful than classical computers in terms of time complexity.\\n\\nThe exact relationship of BQP to P, NP, and PSPACE is not known. However, it is known that \\n  \\n    \\n      \\n        \\n          \\n            P\\n            ⊆\\n            B\\n            Q\\n            P\\n            ⊆\\n            P\\n            S\\n            P\\n            A\\n            C\\n            E\\n          \\n        \\n      \\n    \\n    {\\\\displaystyle {\\\\mathsf {P\\\\subseteq BQP\\\\subseteq PSPACE}}}\\n  \\n; that is, all problems that can be efficiently solved by a deterministic classical computer can also be efficiently solved by a quantum computer, and all problems that can be efficiently solved by a quantum computer can also be solved by a deterministic classical computer with polynomial space resources. It is further suspected that BQP is a strict superset of P, meaning there are problems that are efficiently solvable by quantum computers that are not efficiently solvable by deterministic classical computers. For instance, integer factorization and the discrete logarithm problem are known to be in BQP and are suspected to be outside of P. On the relationship of BQP to NP, little is known beyond the fact that some NP problems that are believed not to be in P are also in BQP (integer factorization and the discrete logarithm problem are both in NP, for example). It is suspected that \\n  \\n    \\n      \\n        \\n          \\n            N\\n            P\\n            ⊈\\n            B\\n            Q\\n            P\\n          \\n        \\n      \\n    \\n    {\\\\displaystyle {\\\\mathsf {NP\\\\nsubseteq BQP}}}\\n  \\n; that is, it is believed that there are efficiently checkable problems that are not efficiently solvable by a quantum computer. As a direct consequence of this belief, it is also suspected that BQP is disjoint from the class of NP-complete problems (if an NP-complete problem were in BQP, then it would follow from NP-hardness that all problems in NP are in BQP).\\n\\n\\n== See also ==\\n\\n\\n== Notes ==\\n\\n\\n== References ==\\n\\n\\n== Sources ==\\nAaronson, Scott (2013). Quantum Computing Since Democritus. Cambridge University Press. doi:10.1017/CBO9780511979309. ISBN 978-0-521-19956-8. OCLC 829706638.\\nGrumbling, Emily; Horowitz, Mark, eds. (2019). Quantum Computing: Progress and Prospects. Washington, DC: The National Academies Press. doi:10.17226/25196. ISBN 978-0-309-47970-7. OCLC 1091904777. S2CID 125635007.\\nMermin, N. David (2007). Quantum Computer Science: An Introduction. doi:10.1017/CBO9780511813870. ISBN 978-0-511-34258-5. OCLC 422727925.\\nNielsen, Michael; Chuang, Isaac (2010). Quantum Computation and Quantum Information (10th anniversary ed.). doi:10.1017/CBO9780511976667. ISBN 978-0-511-99277-3. OCLC 700706156. S2CID 59717455.\\nShor, Peter W. (1994). Algorithms for Quantum Computation: Discrete Logarithms and Factoring. Symposium on Foundations of Computer Science. Santa Fe, New Mexico: IEEE. pp. 124–134. doi:10.1109/SFCS.1994.365700. ISBN 978-0-8186-6580-6.\\n\\n\\n== Further reading ==\\n\\n\\n== External links ==\\n Media related to Quantum computer at Wikimedia Commons\\n Learning materials related to Quantum computing at Wikiversity\\nStanford Encyclopedia of Philosophy: \"Quantum Computing\" by Amit Hagar and Michael E. Cuffaro\\n\"Quantum computation, theory of\", Encyclopedia of Mathematics, EMS Press, 2001 [1994]\\nIntroduction to Quantum Computing for Business by Koen Groenland\\nSchneider, J., & Smalley, I. (2024, August 5). What Is Quantum Computing? | IBM. https://www.ibm.com/think/topics/quantum-computing\\nLectures\\nQuantum computing for the determined – 22 video lectures by Michael Nielsen\\nVideo Lectures by David Deutsch\\nLomonaco, Sam. Four Lectures on Quantum Computing given at Oxford University in July 2006'"
      ]
     },
     "execution_count": 54,
     "metadata": {},
     "output_type": "execute_result"
    }
   ],
   "source": [
    "qc.content # içeriğin tamamını verir."
   ]
  },
  {
   "cell_type": "code",
   "execution_count": 57,
   "id": "06242c69-f3e1-47e2-96db-72425ca2b74b",
   "metadata": {},
   "outputs": [],
   "source": [
    "# bu şekilde wikipedianın bi kopyasını kendi sitemizde oluşturabiliriz."
   ]
  }
 ],
 "metadata": {
  "kernelspec": {
   "display_name": "Python [conda env:base] *",
   "language": "python",
   "name": "conda-base-py"
  },
  "language_info": {
   "codemirror_mode": {
    "name": "ipython",
    "version": 3
   },
   "file_extension": ".py",
   "mimetype": "text/x-python",
   "name": "python",
   "nbconvert_exporter": "python",
   "pygments_lexer": "ipython3",
   "version": "3.13.5"
  }
 },
 "nbformat": 4,
 "nbformat_minor": 5
}
